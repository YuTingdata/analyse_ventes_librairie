{
 "cells": [
  {
   "cell_type": "markdown",
   "metadata": {},
   "source": [
    "## ⚡Mission 2: Analyse plus ciblée des clients:\n",
    "\n",
    "\n",
    "Dans cette mission, nous allons nous interesser à une analyse plus ciblée des clients, et aux liens entres les differentes variables.\n",
    "\n",
    "### Plan \n",
    "Lien entre:\n",
    "- Le genre(sexe) et les catégories des livres achetés \n",
    "- L'âge  et le montant total du panier \n",
    "- L'âge et la fréquence d'achat \n",
    "- L'âge et la taille du panier moyen \n",
    "- L'âge et les catégories des livres achetés "
   ]
  },
  {
   "cell_type": "markdown",
   "metadata": {},
   "source": [
    "📌<br /> \n",
    "### Comment choisir un test statistique ?\n",
    "Concernant le choix des test statistiques, nous allons nous appuyer sur le tableau recapitulatif ci-dessous, selon le nombre de variables utilisées et leur type.\n",
    "|Type of variables|Statistic Test|\n",
    "|---|---|\n",
    "|one numeric |t test|\n",
    "|two numeric|correlation test|\n",
    "|one numeric & one categorical|t test ou Anova|\n",
    "|Two categorical|chi squared|"
   ]
  },
  {
   "cell_type": "markdown",
   "metadata": {},
   "source": [
    "##### Préparation des données (selon nettoyage fait dans partie 1)"
   ]
  },
  {
   "cell_type": "markdown",
   "metadata": {},
   "source": [
    "J' importe les modules necessaires pour l'analyse."
   ]
  },
  {
   "cell_type": "code",
   "execution_count": 8,
   "metadata": {},
   "outputs": [],
   "source": [
    "import os\n",
    "import pandas as pd\n",
    "import numpy as np\n",
    "import matplotlib.pyplot as plt\n",
    "import seaborn as sns\n",
    "import researchpy as rp\n",
    "import scipy.stats as stats\n",
    "from scipy.stats import shapiro\n",
    "from scipy.stats import kstest"
   ]
  },
  {
   "cell_type": "markdown",
   "metadata": {},
   "source": [
    "Je charge les datasets dans les dataframes.\n",
    "Et je fais le merge des trois fichiers."
   ]
  },
  {
   "cell_type": "code",
   "execution_count": 9,
   "metadata": {},
   "outputs": [],
   "source": [
    "df_customers = pd.read_csv('customers.csv')\n",
    "df_products =pd.read_csv('products.csv')\n",
    "df_transactions=pd.read_csv('transactions.csv')\n",
    "\n",
    "#supprimer les valeurs de test pour transactions.\n",
    "df_transactions = df_transactions[df_transactions[\"client_id\"].str.startswith(\"ct\")==False]\n",
    "#supprimer les valeurs de test pour products.\n",
    "df_products= df_products[df_products[\"id_prod\"].str.startswith(\"T_0\")==False]\n",
    "#supprimer les valeurs de test pour customers.\n",
    "df_customers = df_customers[df_customers[\"client_id\"].str.startswith(\"ct\")==False]"
   ]
  },
  {
   "cell_type": "code",
   "execution_count": 10,
   "metadata": {},
   "outputs": [
    {
     "data": {
      "text/html": [
       "<div>\n",
       "<style scoped>\n",
       "    .dataframe tbody tr th:only-of-type {\n",
       "        vertical-align: middle;\n",
       "    }\n",
       "\n",
       "    .dataframe tbody tr th {\n",
       "        vertical-align: top;\n",
       "    }\n",
       "\n",
       "    .dataframe thead th {\n",
       "        text-align: right;\n",
       "    }\n",
       "</style>\n",
       "<table border=\"1\" class=\"dataframe\">\n",
       "  <thead>\n",
       "    <tr style=\"text-align: right;\">\n",
       "      <th></th>\n",
       "      <th>id_prod</th>\n",
       "      <th>date</th>\n",
       "      <th>session_id</th>\n",
       "      <th>client_id</th>\n",
       "      <th>price</th>\n",
       "      <th>categ</th>\n",
       "      <th>sex</th>\n",
       "      <th>birth</th>\n",
       "      <th>age</th>\n",
       "      <th>age_group</th>\n",
       "    </tr>\n",
       "  </thead>\n",
       "  <tbody>\n",
       "    <tr>\n",
       "      <th>0</th>\n",
       "      <td>0_1518</td>\n",
       "      <td>2022-05-20 13:21:29.043970</td>\n",
       "      <td>s_211425</td>\n",
       "      <td>c_103</td>\n",
       "      <td>4.18</td>\n",
       "      <td>0</td>\n",
       "      <td>f</td>\n",
       "      <td>1986</td>\n",
       "      <td>37</td>\n",
       "      <td>35-44</td>\n",
       "    </tr>\n",
       "    <tr>\n",
       "      <th>1</th>\n",
       "      <td>0_1518</td>\n",
       "      <td>2021-07-20 13:21:29.043970</td>\n",
       "      <td>s_64849</td>\n",
       "      <td>c_103</td>\n",
       "      <td>4.18</td>\n",
       "      <td>0</td>\n",
       "      <td>f</td>\n",
       "      <td>1986</td>\n",
       "      <td>37</td>\n",
       "      <td>35-44</td>\n",
       "    </tr>\n",
       "  </tbody>\n",
       "</table>\n",
       "</div>"
      ],
      "text/plain": [
       "  id_prod                        date session_id client_id  price  categ sex  \\\n",
       "0  0_1518  2022-05-20 13:21:29.043970   s_211425     c_103   4.18      0   f   \n",
       "1  0_1518  2021-07-20 13:21:29.043970    s_64849     c_103   4.18      0   f   \n",
       "\n",
       "   birth  age age_group  \n",
       "0   1986   37     35-44  \n",
       "1   1986   37     35-44  "
      ]
     },
     "execution_count": 10,
     "metadata": {},
     "output_type": "execute_result"
    }
   ],
   "source": [
    "#merged transactions & products\n",
    "trpr = pd.merge(df_transactions, df_products, on=['id_prod'])\n",
    "#merged trpr & customers\n",
    "troisfichier = pd.merge(trpr, df_customers, on=['client_id'])\n",
    "\n",
    "#Je calcule l'âge pour chaque clients\n",
    "now = 2023\n",
    "troisfichier['age'] = now - troisfichier['birth']\n",
    "\n",
    "#tranche d'âge\n",
    "bins= [18,25,35,45,55,65,100]\n",
    "labels = ['18-24','25-34','35-44','45-54','55-64','65+']\n",
    "troisfichier['age_group'] = pd.cut(troisfichier['age'], bins=bins, labels=labels, right=False)\n",
    "troisfichier.head(2)"
   ]
  },
  {
   "cell_type": "markdown",
   "metadata": {},
   "source": [
    " ✔️Ci-dessus j'ai déjà préparé le dataframe fusionné (incluant âge , tranche d'âge) : troisfichier "
   ]
  },
  {
   "cell_type": "markdown",
   "metadata": {},
   "source": [
    "Nous allons maintenant nous interesser plus en détails aux clients ciblées et aux liens entres les différentes variables. Nous utiliserons des tests statistiques pour prouver ou rejeter les liens."
   ]
  },
  {
   "cell_type": "markdown",
   "metadata": {},
   "source": [
    "## 🍄1. Genre et catégories des livres achetées\n",
    "Il y a-t-il une corrélation entre le genre du client et la catégorie des livre achetées ?"
   ]
  },
  {
   "cell_type": "markdown",
   "metadata": {},
   "source": [
    "   On va d'abord dessiner un diagramme de baton pour montrer le genre et la categorie des livres achetes par nombre de ventes. </br>\n",
    "   Je calcule donc avant le nombre de ventes par genre et categorie : "
   ]
  },
  {
   "cell_type": "code",
   "execution_count": 4,
   "metadata": {},
   "outputs": [
    {
     "data": {
      "text/html": [
       "<div>\n",
       "<style scoped>\n",
       "    .dataframe tbody tr th:only-of-type {\n",
       "        vertical-align: middle;\n",
       "    }\n",
       "\n",
       "    .dataframe tbody tr th {\n",
       "        vertical-align: top;\n",
       "    }\n",
       "\n",
       "    .dataframe thead th {\n",
       "        text-align: right;\n",
       "    }\n",
       "</style>\n",
       "<table border=\"1\" class=\"dataframe\">\n",
       "  <thead>\n",
       "    <tr style=\"text-align: right;\">\n",
       "      <th></th>\n",
       "      <th>sex</th>\n",
       "      <th>categ</th>\n",
       "      <th>cnt</th>\n",
       "    </tr>\n",
       "  </thead>\n",
       "  <tbody>\n",
       "    <tr>\n",
       "      <th>0</th>\n",
       "      <td>f</td>\n",
       "      <td>0</td>\n",
       "      <td>206103</td>\n",
       "    </tr>\n",
       "    <tr>\n",
       "      <th>1</th>\n",
       "      <td>f</td>\n",
       "      <td>1</td>\n",
       "      <td>114899</td>\n",
       "    </tr>\n",
       "    <tr>\n",
       "      <th>2</th>\n",
       "      <td>f</td>\n",
       "      <td>2</td>\n",
       "      <td>17283</td>\n",
       "    </tr>\n",
       "    <tr>\n",
       "      <th>3</th>\n",
       "      <td>m</td>\n",
       "      <td>0</td>\n",
       "      <td>209356</td>\n",
       "    </tr>\n",
       "    <tr>\n",
       "      <th>4</th>\n",
       "      <td>m</td>\n",
       "      <td>1</td>\n",
       "      <td>112270</td>\n",
       "    </tr>\n",
       "  </tbody>\n",
       "</table>\n",
       "</div>"
      ],
      "text/plain": [
       "  sex  categ     cnt\n",
       "0   f      0  206103\n",
       "1   f      1  114899\n",
       "2   f      2   17283\n",
       "3   m      0  209356\n",
       "4   m      1  112270"
      ]
     },
     "execution_count": 4,
     "metadata": {},
     "output_type": "execute_result"
    }
   ],
   "source": [
    "t1=troisfichier.copy()\n",
    "t1= t1.groupby(['sex','categ'])[\"price\"].count().rename(\"cnt\").reset_index()\n",
    "t1.head()"
   ]
  },
  {
   "cell_type": "code",
   "execution_count": 22,
   "metadata": {},
   "outputs": [
    {
     "data": {
      "text/plain": [
       "<AxesSubplot:xlabel='Genre'>"
      ]
     },
     "execution_count": 22,
     "metadata": {},
     "output_type": "execute_result"
    },
    {
     "data": {
      "image/png": "[encoded data removed]",
      "text/plain": [
       "<Figure size 432x288 with 1 Axes>"
      ]
     },
     "metadata": {
      "needs_background": "light"
     },
     "output_type": "display_data"
    }
   ],
   "source": [
    "# creating dataframe\n",
    "df = pd.DataFrame({\n",
    "    'Genre': ['F' , 'M'],\n",
    "    'Categ0': t1[t1.categ.eq(0)]['cnt'].values,\n",
    "    'Categ1': t1[t1.categ.eq(1)]['cnt'].values,\n",
    "    'Categ2': t1[t1.categ.eq(2)]['cnt'].values\n",
    "})\n",
    "# plotting graph\n",
    "df.plot(x=\"Genre\", y=['Categ0', 'Categ1', 'Categ2'], kind=\"bar\")"
   ]
  },
  {
   "cell_type": "markdown",
   "metadata": {},
   "source": [
    "On constate que le nombre de ventes pour les femmes et les hommes sont similaires. </br> \n",
    "Je vais donc faire le diagramme avec la part de CA."
   ]
  },
  {
   "cell_type": "code",
   "execution_count": 5,
   "metadata": {},
   "outputs": [
    {
     "data": {
      "text/html": [
       "<div>\n",
       "<style scoped>\n",
       "    .dataframe tbody tr th:only-of-type {\n",
       "        vertical-align: middle;\n",
       "    }\n",
       "\n",
       "    .dataframe tbody tr th {\n",
       "        vertical-align: top;\n",
       "    }\n",
       "\n",
       "    .dataframe thead th {\n",
       "        text-align: right;\n",
       "    }\n",
       "</style>\n",
       "<table border=\"1\" class=\"dataframe\">\n",
       "  <thead>\n",
       "    <tr style=\"text-align: right;\">\n",
       "      <th></th>\n",
       "      <th>sex</th>\n",
       "      <th>categ</th>\n",
       "      <th>ca</th>\n",
       "    </tr>\n",
       "  </thead>\n",
       "  <tbody>\n",
       "    <tr>\n",
       "      <th>0</th>\n",
       "      <td>f</td>\n",
       "      <td>0</td>\n",
       "      <td>2190013.07</td>\n",
       "    </tr>\n",
       "    <tr>\n",
       "      <th>1</th>\n",
       "      <td>f</td>\n",
       "      <td>1</td>\n",
       "      <td>2358417.02</td>\n",
       "    </tr>\n",
       "  </tbody>\n",
       "</table>\n",
       "</div>"
      ],
      "text/plain": [
       "  sex  categ          ca\n",
       "0   f      0  2190013.07\n",
       "1   f      1  2358417.02"
      ]
     },
     "execution_count": 5,
     "metadata": {},
     "output_type": "execute_result"
    }
   ],
   "source": [
    "t2=troisfichier.copy()\n",
    "t2= t2.groupby(['sex','categ'])[\"price\"].sum().rename(\"ca\").reset_index()\n",
    "t2.head(2)"
   ]
  },
  {
   "cell_type": "code",
   "execution_count": 6,
   "metadata": {},
   "outputs": [
    {
     "data": {
      "text/plain": [
       "<AxesSubplot:xlabel='Genre'>"
      ]
     },
     "execution_count": 6,
     "metadata": {},
     "output_type": "execute_result"
    },
    {
     "data": {
      "image/png": "[encoded data removed]",
      "text/plain": [
       "<Figure size 432x288 with 1 Axes>"
      ]
     },
     "metadata": {
      "needs_background": "light"
     },
     "output_type": "display_data"
    }
   ],
   "source": [
    "# creating dataframe\n",
    "df = pd.DataFrame({\n",
    "    'Genre': ['F' , 'M'],\n",
    "    'Categ0': t2[t2.categ.eq(0)]['ca'].values,\n",
    "    'Categ1': t2[t2.categ.eq(1)]['ca'].values,\n",
    "    'Categ2': t2[t2.categ.eq(2)]['ca'].values\n",
    "})\n",
    "# plotting graph\n",
    "df.plot(x=\"Genre\", y=['Categ0', 'Categ1', 'Categ2'], kind=\"bar\", title=\"Répartition par genre par catégorie\")"
   ]
  },
  {
   "cell_type": "markdown",
   "metadata": {},
   "source": [
    "La distributation du CA par genre et catégorie est aussi plus au moins similiaire. </br>\n",
    "Maintenant, on va utiliser le test khi-deux d' indépendance."
   ]
  },
  {
   "cell_type": "markdown",
   "metadata": {},
   "source": [
    "#### ⚡Test statistique: </br>\n",
    "Ici, le genre est une variable **qualitative nominale**, et la catégorie de livre est une variable **qualitative nominale**.  </br>\n",
    "On peut utiliser le **test du khi-deux d'indépendance**. </br>\n",
    "</br>\n",
    "  Assomptions:</br>\n",
    "- Les deux échantillons sont indépendants</br>\n",
    "- Aucun nombre de cellules attendu n'est = 0</br>\n",
    "- Pas plus de 20 % des cellules ont un nombre de cellules attendu < 5 </br>\n",
    "</br>\n",
    "Voici les hypothèses pour le test d'indépendance:\n",
    "- H0:  il y pas de lien entre Genre(sexe) et la catégorie des livres achetées\n",
    "- H1:  un lien corrélation"
   ]
  },
  {
   "cell_type": "markdown",
   "metadata": {},
   "source": [
    "J'utilise *summary_cat* pour regarder les informations des deux varibles qui nous intéressent."
   ]
  },
  {
   "cell_type": "code",
   "execution_count": 7,
   "metadata": {},
   "outputs": [
    {
     "data": {
      "text/html": [
       "<div>\n",
       "<style scoped>\n",
       "    .dataframe tbody tr th:only-of-type {\n",
       "        vertical-align: middle;\n",
       "    }\n",
       "\n",
       "    .dataframe tbody tr th {\n",
       "        vertical-align: top;\n",
       "    }\n",
       "\n",
       "    .dataframe thead th {\n",
       "        text-align: right;\n",
       "    }\n",
       "</style>\n",
       "<table border=\"1\" class=\"dataframe\">\n",
       "  <thead>\n",
       "    <tr style=\"text-align: right;\">\n",
       "      <th></th>\n",
       "      <th>Variable</th>\n",
       "      <th>Outcome</th>\n",
       "      <th>Count</th>\n",
       "      <th>Percent</th>\n",
       "    </tr>\n",
       "  </thead>\n",
       "  <tbody>\n",
       "    <tr>\n",
       "      <th>0</th>\n",
       "      <td>sex</td>\n",
       "      <td>m</td>\n",
       "      <td>340826</td>\n",
       "      <td>50.19</td>\n",
       "    </tr>\n",
       "    <tr>\n",
       "      <th>1</th>\n",
       "      <td></td>\n",
       "      <td>f</td>\n",
       "      <td>338285</td>\n",
       "      <td>49.81</td>\n",
       "    </tr>\n",
       "    <tr>\n",
       "      <th>2</th>\n",
       "      <td>categ</td>\n",
       "      <td>0</td>\n",
       "      <td>415459</td>\n",
       "      <td>61.18</td>\n",
       "    </tr>\n",
       "    <tr>\n",
       "      <th>3</th>\n",
       "      <td></td>\n",
       "      <td>1</td>\n",
       "      <td>227169</td>\n",
       "      <td>33.45</td>\n",
       "    </tr>\n",
       "    <tr>\n",
       "      <th>4</th>\n",
       "      <td></td>\n",
       "      <td>2</td>\n",
       "      <td>36483</td>\n",
       "      <td>5.37</td>\n",
       "    </tr>\n",
       "  </tbody>\n",
       "</table>\n",
       "</div>"
      ],
      "text/plain": [
       "  Variable Outcome   Count  Percent\n",
       "0      sex       m  340826    50.19\n",
       "1                f  338285    49.81\n",
       "2    categ       0  415459    61.18\n",
       "3                1  227169    33.45\n",
       "4                2   36483     5.37"
      ]
     },
     "execution_count": 7,
     "metadata": {},
     "output_type": "execute_result"
    }
   ],
   "source": [
    "df_categ=troisfichier.copy()\n",
    "rp.summary_cat(df_categ[[\"sex\", \"categ\"]])"
   ]
  },
  {
   "cell_type": "markdown",
   "metadata": {},
   "source": [
    "On créer un table de contingence avec la fonction *crosstab* "
   ]
  },
  {
   "cell_type": "code",
   "execution_count": 169,
   "metadata": {},
   "outputs": [
    {
     "data": {
      "text/html": [
       "<div>\n",
       "<style scoped>\n",
       "    .dataframe tbody tr th:only-of-type {\n",
       "        vertical-align: middle;\n",
       "    }\n",
       "\n",
       "    .dataframe tbody tr th {\n",
       "        vertical-align: top;\n",
       "    }\n",
       "\n",
       "    .dataframe thead th {\n",
       "        text-align: right;\n",
       "    }\n",
       "</style>\n",
       "<table border=\"1\" class=\"dataframe\">\n",
       "  <thead>\n",
       "    <tr style=\"text-align: right;\">\n",
       "      <th>categ</th>\n",
       "      <th>0</th>\n",
       "      <th>1</th>\n",
       "      <th>2</th>\n",
       "    </tr>\n",
       "    <tr>\n",
       "      <th>sex</th>\n",
       "      <th></th>\n",
       "      <th></th>\n",
       "      <th></th>\n",
       "    </tr>\n",
       "  </thead>\n",
       "  <tbody>\n",
       "    <tr>\n",
       "      <th>f</th>\n",
       "      <td>206103</td>\n",
       "      <td>114899</td>\n",
       "      <td>17283</td>\n",
       "    </tr>\n",
       "    <tr>\n",
       "      <th>m</th>\n",
       "      <td>209356</td>\n",
       "      <td>112270</td>\n",
       "      <td>19200</td>\n",
       "    </tr>\n",
       "  </tbody>\n",
       "</table>\n",
       "</div>"
      ],
      "text/plain": [
       "categ       0       1      2\n",
       "sex                         \n",
       "f      206103  114899  17283\n",
       "m      209356  112270  19200"
      ]
     },
     "execution_count": 169,
     "metadata": {},
     "output_type": "execute_result"
    }
   ],
   "source": [
    "# nbt (nombre de ventes)\n",
    "crosstab = pd.crosstab(df_categ[\"sex\"],df_categ[\"categ\"])\n",
    "crosstab"
   ]
  },
  {
   "cell_type": "markdown",
   "metadata": {},
   "source": [
    "Ci-dessous ,on fait la même chose avec **normalize=True**. C'est juste pour regarder le ratio des ventes au lieu du nombre de ventes."
   ]
  },
  {
   "cell_type": "code",
   "execution_count": 168,
   "metadata": {},
   "outputs": [
    {
     "data": {
      "text/html": [
       "<div>\n",
       "<style scoped>\n",
       "    .dataframe tbody tr th:only-of-type {\n",
       "        vertical-align: middle;\n",
       "    }\n",
       "\n",
       "    .dataframe tbody tr th {\n",
       "        vertical-align: top;\n",
       "    }\n",
       "\n",
       "    .dataframe thead th {\n",
       "        text-align: right;\n",
       "    }\n",
       "</style>\n",
       "<table border=\"1\" class=\"dataframe\">\n",
       "  <thead>\n",
       "    <tr style=\"text-align: right;\">\n",
       "      <th>categ</th>\n",
       "      <th>0</th>\n",
       "      <th>1</th>\n",
       "      <th>2</th>\n",
       "    </tr>\n",
       "    <tr>\n",
       "      <th>sex</th>\n",
       "      <th></th>\n",
       "      <th></th>\n",
       "      <th></th>\n",
       "    </tr>\n",
       "  </thead>\n",
       "  <tbody>\n",
       "    <tr>\n",
       "      <th>f</th>\n",
       "      <td>0.303489</td>\n",
       "      <td>0.169190</td>\n",
       "      <td>0.025449</td>\n",
       "    </tr>\n",
       "    <tr>\n",
       "      <th>m</th>\n",
       "      <td>0.308280</td>\n",
       "      <td>0.165319</td>\n",
       "      <td>0.028272</td>\n",
       "    </tr>\n",
       "  </tbody>\n",
       "</table>\n",
       "</div>"
      ],
      "text/plain": [
       "categ         0         1         2\n",
       "sex                                \n",
       "f      0.303489  0.169190  0.025449\n",
       "m      0.308280  0.165319  0.028272"
      ]
     },
     "execution_count": 168,
     "metadata": {},
     "output_type": "execute_result"
    }
   ],
   "source": [
    "# nbt en ratio ( fréquance)\n",
    "crosstab_ratio = pd.crosstab(df_categ[\"sex\"],df_categ[\"categ\"],normalize=True)\n",
    "crosstab_ratio"
   ]
  },
  {
   "cell_type": "markdown",
   "metadata": {},
   "source": [
    "On execute le test chi-squared (khi-deux) en donnant en paramètre le tableau de contingence."
   ]
  },
  {
   "cell_type": "code",
   "execution_count": 170,
   "metadata": {},
   "outputs": [
    {
     "data": {
      "text/plain": [
       "(147.11906816131497,\n",
       " 1.1310980597090762e-32,\n",
       " 2,\n",
       " array([[206952.24759281, 113159.50583189,  18173.2465753 ],\n",
       "        [208506.75240719, 114009.49416811,  18309.7534247 ]]))"
      ]
     },
     "execution_count": 170,
     "metadata": {},
     "output_type": "execute_result"
    }
   ],
   "source": [
    "stats.chi2_contingency(crosstab)"
   ]
  },
  {
   "cell_type": "markdown",
   "metadata": {},
   "source": [
    "Ce test retourne : \n",
    "- 1. **La Pearson Ch-square value**\n",
    "- 2. **La p-value**\n",
    "- 2. Le degrée de libérte (degree of freedom) : *(r -1 )x(c-1) = dof* \n",
    "- 4. Un tableau des valeurs expected."
   ]
  },
  {
   "cell_type": "markdown",
   "metadata": {},
   "source": [
    "La p-value est 0, donc on rejete l' hypothèse null. </br>\n",
    "On peut donc dire qu'il y a un lien entre le genre et la catégorie."
   ]
  },
  {
   "cell_type": "markdown",
   "metadata": {},
   "source": [
    "On refait le test avec la function *crosstab* du module *researchpy* . </br>\n",
    "L' avantage est que cette fonctiion execute aussi le **test V de Cramer**, qui permet de décrire l'intensité de la rélation entre les deux variables."
   ]
  },
  {
   "cell_type": "code",
   "execution_count": 162,
   "metadata": {},
   "outputs": [
    {
     "data": {
      "text/html": [
       "<div>\n",
       "<style scoped>\n",
       "    .dataframe tbody tr th:only-of-type {\n",
       "        vertical-align: middle;\n",
       "    }\n",
       "\n",
       "    .dataframe tbody tr th {\n",
       "        vertical-align: top;\n",
       "    }\n",
       "\n",
       "    .dataframe thead tr th {\n",
       "        text-align: left;\n",
       "    }\n",
       "\n",
       "    .dataframe thead tr:last-of-type th {\n",
       "        text-align: right;\n",
       "    }\n",
       "</style>\n",
       "<table border=\"1\" class=\"dataframe\">\n",
       "  <thead>\n",
       "    <tr>\n",
       "      <th></th>\n",
       "      <th colspan=\"4\" halign=\"left\">categ</th>\n",
       "    </tr>\n",
       "    <tr>\n",
       "      <th>categ</th>\n",
       "      <th>0</th>\n",
       "      <th>1</th>\n",
       "      <th>2</th>\n",
       "      <th>All</th>\n",
       "    </tr>\n",
       "    <tr>\n",
       "      <th>sex</th>\n",
       "      <th></th>\n",
       "      <th></th>\n",
       "      <th></th>\n",
       "      <th></th>\n",
       "    </tr>\n",
       "  </thead>\n",
       "  <tbody>\n",
       "    <tr>\n",
       "      <th>f</th>\n",
       "      <td>30.35</td>\n",
       "      <td>16.92</td>\n",
       "      <td>2.54</td>\n",
       "      <td>49.81</td>\n",
       "    </tr>\n",
       "    <tr>\n",
       "      <th>m</th>\n",
       "      <td>30.83</td>\n",
       "      <td>16.53</td>\n",
       "      <td>2.83</td>\n",
       "      <td>50.19</td>\n",
       "    </tr>\n",
       "    <tr>\n",
       "      <th>All</th>\n",
       "      <td>61.18</td>\n",
       "      <td>33.45</td>\n",
       "      <td>5.37</td>\n",
       "      <td>100.00</td>\n",
       "    </tr>\n",
       "  </tbody>\n",
       "</table>\n",
       "</div>"
      ],
      "text/plain": [
       "       categ                     \n",
       "categ      0      1     2     All\n",
       "sex                              \n",
       "f      30.35  16.92  2.54   49.81\n",
       "m      30.83  16.53  2.83   50.19\n",
       "All    61.18  33.45  5.37  100.00"
      ]
     },
     "execution_count": 162,
     "metadata": {},
     "output_type": "execute_result"
    }
   ],
   "source": [
    "## voici le tableau de contingence \n",
    "crosstab, test_results, expected = rp.crosstab(df_categ[\"sex\"], df_categ[\"categ\"],\n",
    "                                               test= \"chi-square\",\n",
    "                                               expected_freqs= True,\n",
    "                                               prop= \"cell\")\n",
    "crosstab"
   ]
  },
  {
   "cell_type": "code",
   "execution_count": 163,
   "metadata": {},
   "outputs": [
    {
     "data": {
      "text/html": [
       "<div>\n",
       "<style scoped>\n",
       "    .dataframe tbody tr th:only-of-type {\n",
       "        vertical-align: middle;\n",
       "    }\n",
       "\n",
       "    .dataframe tbody tr th {\n",
       "        vertical-align: top;\n",
       "    }\n",
       "\n",
       "    .dataframe thead th {\n",
       "        text-align: right;\n",
       "    }\n",
       "</style>\n",
       "<table border=\"1\" class=\"dataframe\">\n",
       "  <thead>\n",
       "    <tr style=\"text-align: right;\">\n",
       "      <th></th>\n",
       "      <th>Chi-square test</th>\n",
       "      <th>results</th>\n",
       "    </tr>\n",
       "  </thead>\n",
       "  <tbody>\n",
       "    <tr>\n",
       "      <th>0</th>\n",
       "      <td>Pearson Chi-square ( 2.0) =</td>\n",
       "      <td>147.1191</td>\n",
       "    </tr>\n",
       "    <tr>\n",
       "      <th>1</th>\n",
       "      <td>p-value =</td>\n",
       "      <td>0.0000</td>\n",
       "    </tr>\n",
       "    <tr>\n",
       "      <th>2</th>\n",
       "      <td>Cramer's V =</td>\n",
       "      <td>0.0147</td>\n",
       "    </tr>\n",
       "  </tbody>\n",
       "</table>\n",
       "</div>"
      ],
      "text/plain": [
       "                Chi-square test   results\n",
       "0  Pearson Chi-square ( 2.0) =   147.1191\n",
       "1                    p-value =     0.0000\n",
       "2                 Cramer's V =     0.0147"
      ]
     },
     "execution_count": 163,
     "metadata": {},
     "output_type": "execute_result"
    }
   ],
   "source": [
    "test_results"
   ]
  },
  {
   "cell_type": "markdown",
   "metadata": {},
   "source": [
    "Ici , on a le résultat du test V de Cramer qui permet de comparer l'intensite de lien entre les deux variables.\\\n",
    "0.0147( > 0) indique un lien très faible entre le genre et la catégorie des livres.\n",
    "\n",
    "\n",
    "|Phi and Cramer's V\t|Interpretation|\n",
    "|---|---|\n",
    "|>0.25|Very strong|\n",
    "|>0.15|Strong|\n",
    "|>0.10|Moderate|\n",
    "|>0.05|Weak|\n",
    "|>0|No or very weak|"
   ]
  },
  {
   "cell_type": "markdown",
   "metadata": {},
   "source": [
    "#### ✔️conclusion\n",
    "Il y a un lien entre le genre et la catégorie. Mais ce lien est très faible."
   ]
  },
  {
   "cell_type": "markdown",
   "metadata": {},
   "source": [
    "## 🍄2. Age et montant total du panier\n",
    "Ici, l'âge est une variable **quantitative continue**, et montant total du panier est une variable **quantitative continue**.  </br>\n"
   ]
  },
  {
   "cell_type": "markdown",
   "metadata": {},
   "source": [
    "Comme les deux variables sont quantitatives, on peut utiliser un diagramme en nuage de point pour montrer leur correlation et la tendance.\n",
    "Je calcule le montant total du panier de chaque client.\n",
    "Chaque panier possede un numero de session unique (*session_id*). Donc pour trouver le montant du panier, on faire la somme des prix ayant la meme *session_id*."
   ]
  },
  {
   "cell_type": "code",
   "execution_count": 38,
   "metadata": {},
   "outputs": [
    {
     "data": {
      "text/html": [
       "<div>\n",
       "<style scoped>\n",
       "    .dataframe tbody tr th:only-of-type {\n",
       "        vertical-align: middle;\n",
       "    }\n",
       "\n",
       "    .dataframe tbody tr th {\n",
       "        vertical-align: top;\n",
       "    }\n",
       "\n",
       "    .dataframe thead th {\n",
       "        text-align: right;\n",
       "    }\n",
       "</style>\n",
       "<table border=\"1\" class=\"dataframe\">\n",
       "  <thead>\n",
       "    <tr style=\"text-align: right;\">\n",
       "      <th></th>\n",
       "      <th>session_id</th>\n",
       "      <th>montant du panier</th>\n",
       "      <th>age</th>\n",
       "    </tr>\n",
       "  </thead>\n",
       "  <tbody>\n",
       "    <tr>\n",
       "      <th>0</th>\n",
       "      <td>s_1</td>\n",
       "      <td>11.99</td>\n",
       "      <td>56</td>\n",
       "    </tr>\n",
       "    <tr>\n",
       "      <th>1</th>\n",
       "      <td>s_10</td>\n",
       "      <td>26.99</td>\n",
       "      <td>53</td>\n",
       "    </tr>\n",
       "    <tr>\n",
       "      <th>2</th>\n",
       "      <td>s_100</td>\n",
       "      <td>33.72</td>\n",
       "      <td>45</td>\n",
       "    </tr>\n",
       "    <tr>\n",
       "      <th>3</th>\n",
       "      <td>s_1000</td>\n",
       "      <td>39.22</td>\n",
       "      <td>34</td>\n",
       "    </tr>\n",
       "    <tr>\n",
       "      <th>4</th>\n",
       "      <td>s_10000</td>\n",
       "      <td>41.49</td>\n",
       "      <td>34</td>\n",
       "    </tr>\n",
       "  </tbody>\n",
       "</table>\n",
       "</div>"
      ],
      "text/plain": [
       "  session_id  montant du panier  age\n",
       "0        s_1              11.99   56\n",
       "1       s_10              26.99   53\n",
       "2      s_100              33.72   45\n",
       "3     s_1000              39.22   34\n",
       "4    s_10000              41.49   34"
      ]
     },
     "execution_count": 38,
     "metadata": {},
     "output_type": "execute_result"
    }
   ],
   "source": [
    "df_basket =troisfichier.copy()\n",
    "df_basket=df_basket.groupby(['session_id'], as_index=False).agg({'price':'sum' , 'age' :'first'}).rename(columns={\"price\":\"montant du panier\"})\n",
    "df_basket.head()"
   ]
  },
  {
   "cell_type": "code",
   "execution_count": 37,
   "metadata": {},
   "outputs": [
    {
     "data": {
      "text/plain": [
       "[Text(0.5, 1.0, \"Prix du montant du panier, selon l'age\")]"
      ]
     },
     "execution_count": 37,
     "metadata": {},
     "output_type": "execute_result"
    },
    {
     "data": {
      "image/png": "[encoded data removed]",
      "text/plain": [
       "<Figure size 432x288 with 1 Axes>"
      ]
     },
     "metadata": {
      "needs_background": "light"
     },
     "output_type": "display_data"
    }
   ],
   "source": [
    "# On prend juste 3000 echantillons pour ne pas saturer le diagramme\n",
    "df_basket_sample =df_basket.sample(3000)\n",
    "# use the function regplot to make a scatterplot\n",
    "sns.regplot(x=df_basket_sample[\"age\"], y=df_basket_sample[\"montant du panier\"],line_kws={\"color\": \"red\"}).set(title=\"Prix du montant du panier, selon l'age\")"
   ]
  },
  {
   "cell_type": "markdown",
   "metadata": {},
   "source": [
    "Avant de faire le test de Corrélation, on verifie que les données de la variable \"montant du panier\" sont normalement distribuées. \n",
    "On fait le test de normalité pour deux variables.  "
   ]
  },
  {
   "cell_type": "markdown",
   "metadata": {},
   "source": [
    "Pourquoi utilisons-nous shapiro ? </br>\n",
    "Il s'agit d'un test de normalité. </br>\n",
    "H0 (Accepté) : l'échantillon correspond à une distribution normale. (P0 > 0,05) </br>\n",
    "H1 (rejeté) : l'échantillon ne correspond pas à une distribution normale. </br>"
   ]
  },
  {
   "cell_type": "code",
   "execution_count": 47,
   "metadata": {},
   "outputs": [
    {
     "data": {
      "text/plain": [
       "ShapiroResult(statistic=0.7060815095901489, pvalue=0.0)"
      ]
     },
     "execution_count": 47,
     "metadata": {},
     "output_type": "execute_result"
    }
   ],
   "source": [
    "# variable montant du panier\n",
    "shapiro(df_basket_sample[\"montant du panier\"]) "
   ]
  },
  {
   "cell_type": "code",
   "execution_count": 49,
   "metadata": {},
   "outputs": [
    {
     "data": {
      "text/plain": [
       "ShapiroResult(statistic=0.9829424023628235, pvalue=1.5337442297254105e-18)"
      ]
     },
     "execution_count": 49,
     "metadata": {},
     "output_type": "execute_result"
    }
   ],
   "source": [
    "# variable montant de l'âge\n",
    "shapiro(df_basket_sample[\"age\"]) "
   ]
  },
  {
   "cell_type": "markdown",
   "metadata": {},
   "source": [
    "Nos deux variable ne proviennent pas de distribution normal,  donc on ne va pas faire le test de correlation de Pearson, mais plutot **le test de correlation de Spearman** (Test non-parametrique)"
   ]
  },
  {
   "cell_type": "markdown",
   "metadata": {},
   "source": [
    "#### ⚡Test statistique:\n",
    "Voici les hypothèses pour le test de Corrélation (avec la mehode *Spearman*):\n",
    "- H0:  il y pas de lien entre l'âge et le montant total du panier    \n",
    "- H1:  un lien corrélation"
   ]
  },
  {
   "cell_type": "code",
   "execution_count": 26,
   "metadata": {},
   "outputs": [
    {
     "data": {
      "text/html": [
       "<div>\n",
       "<style scoped>\n",
       "    .dataframe tbody tr th:only-of-type {\n",
       "        vertical-align: middle;\n",
       "    }\n",
       "\n",
       "    .dataframe tbody tr th {\n",
       "        vertical-align: top;\n",
       "    }\n",
       "\n",
       "    .dataframe thead th {\n",
       "        text-align: right;\n",
       "    }\n",
       "</style>\n",
       "<table border=\"1\" class=\"dataframe\">\n",
       "  <thead>\n",
       "    <tr style=\"text-align: right;\">\n",
       "      <th></th>\n",
       "      <th>age</th>\n",
       "      <th>price</th>\n",
       "    </tr>\n",
       "  </thead>\n",
       "  <tbody>\n",
       "    <tr>\n",
       "      <th>0</th>\n",
       "      <td>56</td>\n",
       "      <td>11.99</td>\n",
       "    </tr>\n",
       "    <tr>\n",
       "      <th>1</th>\n",
       "      <td>53</td>\n",
       "      <td>26.99</td>\n",
       "    </tr>\n",
       "  </tbody>\n",
       "</table>\n",
       "</div>"
      ],
      "text/plain": [
       "   age  price\n",
       "0   56  11.99\n",
       "1   53  26.99"
      ]
     },
     "execution_count": 26,
     "metadata": {},
     "output_type": "execute_result"
    }
   ],
   "source": [
    "#On veux seulement l'âge et le montant total du panier.\n",
    "df_basket=df_basket[['age','price']].copy()\n",
    "df_basket.head(2)"
   ]
  },
  {
   "cell_type": "code",
   "execution_count": 58,
   "metadata": {},
   "outputs": [
    {
     "data": {
      "text/html": [
       "<div>\n",
       "<style scoped>\n",
       "    .dataframe tbody tr th:only-of-type {\n",
       "        vertical-align: middle;\n",
       "    }\n",
       "\n",
       "    .dataframe tbody tr th {\n",
       "        vertical-align: top;\n",
       "    }\n",
       "\n",
       "    .dataframe thead th {\n",
       "        text-align: right;\n",
       "    }\n",
       "</style>\n",
       "<table border=\"1\" class=\"dataframe\">\n",
       "  <thead>\n",
       "    <tr style=\"text-align: right;\">\n",
       "      <th></th>\n",
       "      <th>montant du panier</th>\n",
       "      <th>age</th>\n",
       "    </tr>\n",
       "  </thead>\n",
       "  <tbody>\n",
       "    <tr>\n",
       "      <th>montant du panier</th>\n",
       "      <td>1.000000</td>\n",
       "      <td>-0.338193</td>\n",
       "    </tr>\n",
       "    <tr>\n",
       "      <th>age</th>\n",
       "      <td>-0.338193</td>\n",
       "      <td>1.000000</td>\n",
       "    </tr>\n",
       "  </tbody>\n",
       "</table>\n",
       "</div>"
      ],
      "text/plain": [
       "                   montant du panier       age\n",
       "montant du panier           1.000000 -0.338193\n",
       "age                        -0.338193  1.000000"
      ]
     },
     "execution_count": 58,
     "metadata": {},
     "output_type": "execute_result"
    }
   ],
   "source": [
    "# correlation\n",
    "df_basket.corr(method=\"spearman\")"
   ]
  },
  {
   "cell_type": "markdown",
   "metadata": {},
   "source": [
    "On obtient un coefficient de corrélation de -0.34. Il s' agit d'une corrélation faible négative.</br>\n",
    "Le coefficient de corrélation de Spearman (r<sub>s</sub>) est compris entre -1 et 1, *r<sub>s</sub>* > 0 étant une corrélation positive et *r<sub>s</sub>* < 0 étant une corrélation négative. </br>\n",
    "Plus la valeur absolue de *r<sub>s</sub>*  est grande, plus la corrélation entre les variables est forte.</br>\n",
    "\n",
    "|Correlation Coeffient (r<sub>s</sub>) |Interpretation|\n",
    "|---|---|\n",
    "|0.9< (r<sub>s</sub>) <1|Very strong|\n",
    "|0.7< (r<sub>s</sub>) <0.9|Strong|\n",
    "|0.4< (r<sub>s</sub>) <0.7|Moderate|\n",
    "|0.2< (r<sub>s</sub>) <0.4|Weak|\n",
    "|0< (r<sub>s</sub>) <0.2|No or very weak|"
   ]
  },
  {
   "cell_type": "markdown",
   "metadata": {},
   "source": [
    "On peut visualiser ce résultat avec une *heatmap*."
   ]
  },
  {
   "cell_type": "code",
   "execution_count": 55,
   "metadata": {},
   "outputs": [
    {
     "data": {
      "text/plain": [
       "Text(0.5, 1.0, 'Correlation de Spearman')"
      ]
     },
     "execution_count": 55,
     "metadata": {},
     "output_type": "execute_result"
    },
    {
     "data": {
      "image/png": "[encoded data removed]",
      "text/plain": [
       "<Figure size 720x432 with 2 Axes>"
      ]
     },
     "metadata": {
      "needs_background": "light"
     },
     "output_type": "display_data"
    }
   ],
   "source": [
    "plt.figure(figsize=(10,6))\n",
    "heatmap = sns.heatmap(df_basket.corr(method=\"spearman\"), vmin=1, vmax=1, annot=True)\n",
    "plt.title(\"Correlation de Spearman\")"
   ]
  },
  {
   "cell_type": "code",
   "execution_count": 57,
   "metadata": {},
   "outputs": [
    {
     "data": {
      "text/plain": [
       "Text(0.5, 1.0, 'Correlation de Pearson')"
      ]
     },
     "execution_count": 57,
     "metadata": {},
     "output_type": "execute_result"
    },
    {
     "data": {
      "image/png": "[encoded data removed]",
      "text/plain": [
       "<Figure size 720x432 with 2 Axes>"
      ]
     },
     "metadata": {
      "needs_background": "light"
     },
     "output_type": "display_data"
    }
   ],
   "source": [
    "plt.figure(figsize=(10,6))\n",
    "heatmap = sns.heatmap(df_basket.corr(method=\"pearson\"), vmin=1, vmax=1, annot=True)\n",
    "plt.title(\"Correlation de Pearson\")"
   ]
  },
  {
   "cell_type": "code",
   "execution_count": 100,
   "metadata": {},
   "outputs": [
    {
     "data": {
      "text/plain": [
       "SpearmanrResult(correlation=-0.33819314877296236, pvalue=0.0)"
      ]
     },
     "execution_count": 100,
     "metadata": {},
     "output_type": "execute_result"
    }
   ],
   "source": [
    "stats.spearmanr(df_basket[\"age\"], df_basket[\"montant du panier\"])"
   ]
  },
  {
   "cell_type": "markdown",
   "metadata": {},
   "source": [
    "#### ✔️conclusion\n",
    "La p-value est de 0, donc il y a un lien en l'age et le montant total du panier.\n",
    "On peut constater qu'en fait la méthode de Pearson donne dans notre cas un resultat similaire, bien qu'on a échoué le test de normalité (assomption pour la méthode Pearson) <br>\n",
    "Pour résumer, on peut conclure qu'**il y a une corrélation entre l'âge et le montant du panier**. Le coéfficient étant négatif, on peut dire que lorsque l'âge augmente, le montant total du panier a tendance à baisser."
   ]
  },
  {
   "cell_type": "markdown",
   "metadata": {},
   "source": [
    "## 🍄3. Age et fréquence d'achat\n",
    "Ici, l'âge est une variable **quantitative continue**, et la fréquence d'achat est une variable **quantitative continue**.  </br>\n",
    "\n",
    "Il y a-t-il une correlation en l'age et la frequence d'achat ?"
   ]
  },
  {
   "cell_type": "markdown",
   "metadata": {},
   "source": [
    "Comme les deux variables sont quantitatives, on va utiliser un diagramme en nuage de point pour montrer leur correlation et la tendance. </br>\n",
    "Je calcule d'abord le nombre d'achat de chaque client. Pour cela, je compte les *session_id* par client et par age."
   ]
  },
  {
   "cell_type": "code",
   "execution_count": 62,
   "metadata": {},
   "outputs": [
    {
     "data": {
      "text/html": [
       "<div>\n",
       "<style scoped>\n",
       "    .dataframe tbody tr th:only-of-type {\n",
       "        vertical-align: middle;\n",
       "    }\n",
       "\n",
       "    .dataframe tbody tr th {\n",
       "        vertical-align: top;\n",
       "    }\n",
       "\n",
       "    .dataframe thead th {\n",
       "        text-align: right;\n",
       "    }\n",
       "</style>\n",
       "<table border=\"1\" class=\"dataframe\">\n",
       "  <thead>\n",
       "    <tr style=\"text-align: right;\">\n",
       "      <th></th>\n",
       "      <th>client_id</th>\n",
       "      <th>age</th>\n",
       "      <th>nombre d'achat</th>\n",
       "    </tr>\n",
       "  </thead>\n",
       "  <tbody>\n",
       "    <tr>\n",
       "      <th>0</th>\n",
       "      <td>c_1</td>\n",
       "      <td>68</td>\n",
       "      <td>39</td>\n",
       "    </tr>\n",
       "    <tr>\n",
       "      <th>1</th>\n",
       "      <td>c_10</td>\n",
       "      <td>67</td>\n",
       "      <td>58</td>\n",
       "    </tr>\n",
       "    <tr>\n",
       "      <th>2</th>\n",
       "      <td>c_100</td>\n",
       "      <td>31</td>\n",
       "      <td>8</td>\n",
       "    </tr>\n",
       "    <tr>\n",
       "      <th>3</th>\n",
       "      <td>c_1000</td>\n",
       "      <td>57</td>\n",
       "      <td>125</td>\n",
       "    </tr>\n",
       "    <tr>\n",
       "      <th>4</th>\n",
       "      <td>c_1001</td>\n",
       "      <td>41</td>\n",
       "      <td>102</td>\n",
       "    </tr>\n",
       "  </tbody>\n",
       "</table>\n",
       "</div>"
      ],
      "text/plain": [
       "  client_id  age  nombre d'achat\n",
       "0       c_1   68              39\n",
       "1      c_10   67              58\n",
       "2     c_100   31               8\n",
       "3    c_1000   57             125\n",
       "4    c_1001   41             102"
      ]
     },
     "execution_count": 62,
     "metadata": {},
     "output_type": "execute_result"
    }
   ],
   "source": [
    "df_achat=troisfichier.copy()\n",
    "df_achat=df_achat.groupby(['client_id','age']).session_id.agg('count').reset_index(name='nombre d\\'achat')\n",
    "df_achat.head()"
   ]
  },
  {
   "cell_type": "code",
   "execution_count": 63,
   "metadata": {},
   "outputs": [
    {
     "data": {
      "text/plain": [
       "<AxesSubplot:xlabel='age', ylabel=\"nombre d'achat\">"
      ]
     },
     "execution_count": 63,
     "metadata": {},
     "output_type": "execute_result"
    },
    {
     "data": {
      "image/png": "[encoded data removed]",
      "text/plain": [
       "<Figure size 432x288 with 1 Axes>"
      ]
     },
     "metadata": {
      "needs_background": "light"
     },
     "output_type": "display_data"
    }
   ],
   "source": [
    "# use the function regplot to make a scatterplot\n",
    "sns.regplot(x=df_achat[\"age\"], y=df_achat[\"nombre d\\'achat\"])"
   ]
  },
  {
   "cell_type": "markdown",
   "metadata": {},
   "source": [
    "On voit qu'il y a quatre points sur 5000 qui sont des valeurs aberrantes. </br>\n",
    "La valeur aberrante maximale est 25 000, ce qui signifie  que 25 000 commandes ont ete passées par un seul client. Il doit certainement s'agir d'une commande fait par une entreprise, non par un client normal. </br>\n",
    "Mous devons d'abord supprimer les valeurs aberrantes afin de voir la distribution et la tendance de la répartition des données."
   ]
  },
  {
   "cell_type": "code",
   "execution_count": 78,
   "metadata": {},
   "outputs": [
    {
     "data": {
      "text/plain": [
       "[Text(0.5, 1.0, \"Nombre d'achat selon age\")]"
      ]
     },
     "execution_count": 78,
     "metadata": {},
     "output_type": "execute_result"
    },
    {
     "data": {
      "image/png": "[encoded data removed]",
      "text/plain": [
       "<Figure size 432x288 with 1 Axes>"
      ]
     },
     "metadata": {
      "needs_background": "light"
     },
     "output_type": "display_data"
    }
   ],
   "source": [
    "df_achat2 =df_achat[df_achat[\"nombre d\\'achat\"].lt(4000)]\n",
    "#On prend un echantillon de 3000 individus pour ne pas saturer le diagramme\n",
    "df_achat2 = df_achat2.sample(3000)\n",
    "sns.regplot(x=df_achat2[\"age\"], y=df_achat2[\"nombre d\\'achat\"],line_kws={\"color\": \"red\"}).set(title=\"Nombre d'achat selon age\")"
   ]
  },
  {
   "cell_type": "markdown",
   "metadata": {},
   "source": [
    "On constate que les clients entre 30 et 50 ans semble avoir tendance à acheter plus souvent."
   ]
  },
  {
   "cell_type": "markdown",
   "metadata": {},
   "source": [
    "Je verifie la moyenne du nombre d'achat par age ( les 5 ages avec le plus grand nombre d'achat)"
   ]
  },
  {
   "cell_type": "code",
   "execution_count": 83,
   "metadata": {},
   "outputs": [
    {
     "data": {
      "text/html": [
       "<div>\n",
       "<style scoped>\n",
       "    .dataframe tbody tr th:only-of-type {\n",
       "        vertical-align: middle;\n",
       "    }\n",
       "\n",
       "    .dataframe tbody tr th {\n",
       "        vertical-align: top;\n",
       "    }\n",
       "\n",
       "    .dataframe thead th {\n",
       "        text-align: right;\n",
       "    }\n",
       "</style>\n",
       "<table border=\"1\" class=\"dataframe\">\n",
       "  <thead>\n",
       "    <tr style=\"text-align: right;\">\n",
       "      <th></th>\n",
       "      <th>nombre d'achat</th>\n",
       "    </tr>\n",
       "    <tr>\n",
       "      <th>age</th>\n",
       "      <th></th>\n",
       "    </tr>\n",
       "  </thead>\n",
       "  <tbody>\n",
       "    <tr>\n",
       "      <th>45</th>\n",
       "      <td>136.520000</td>\n",
       "    </tr>\n",
       "    <tr>\n",
       "      <th>39</th>\n",
       "      <td>134.661290</td>\n",
       "    </tr>\n",
       "    <tr>\n",
       "      <th>38</th>\n",
       "      <td>130.547619</td>\n",
       "    </tr>\n",
       "    <tr>\n",
       "      <th>35</th>\n",
       "      <td>128.935065</td>\n",
       "    </tr>\n",
       "    <tr>\n",
       "      <th>49</th>\n",
       "      <td>125.264151</td>\n",
       "    </tr>\n",
       "  </tbody>\n",
       "</table>\n",
       "</div>"
      ],
      "text/plain": [
       "     nombre d'achat\n",
       "age                \n",
       "45       136.520000\n",
       "39       134.661290\n",
       "38       130.547619\n",
       "35       128.935065\n",
       "49       125.264151"
      ]
     },
     "execution_count": 83,
     "metadata": {},
     "output_type": "execute_result"
    }
   ],
   "source": [
    "df_achat2.groupby(\"age\").agg({\"nombre d\\'achat\":\"mean\"}).sort_values(by=[\"nombre d\\'achat\"],ascending=False).head()"
   ]
  },
  {
   "cell_type": "markdown",
   "metadata": {},
   "source": [
    "Avec la fonction *describe*, on peut voir que la moyenne global est de 68 achats, alors que pour les tops (entre 30 et 50) on a une moyenne presque double."
   ]
  },
  {
   "cell_type": "code",
   "execution_count": 84,
   "metadata": {},
   "outputs": [
    {
     "data": {
      "text/html": [
       "<div>\n",
       "<style scoped>\n",
       "    .dataframe tbody tr th:only-of-type {\n",
       "        vertical-align: middle;\n",
       "    }\n",
       "\n",
       "    .dataframe tbody tr th {\n",
       "        vertical-align: top;\n",
       "    }\n",
       "\n",
       "    .dataframe thead th {\n",
       "        text-align: right;\n",
       "    }\n",
       "</style>\n",
       "<table border=\"1\" class=\"dataframe\">\n",
       "  <thead>\n",
       "    <tr style=\"text-align: right;\">\n",
       "      <th></th>\n",
       "      <th>nombre d'achat</th>\n",
       "    </tr>\n",
       "  </thead>\n",
       "  <tbody>\n",
       "    <tr>\n",
       "      <th>count</th>\n",
       "      <td>75.000000</td>\n",
       "    </tr>\n",
       "    <tr>\n",
       "      <th>mean</th>\n",
       "      <td>67.582353</td>\n",
       "    </tr>\n",
       "    <tr>\n",
       "      <th>std</th>\n",
       "      <td>32.855257</td>\n",
       "    </tr>\n",
       "    <tr>\n",
       "      <th>min</th>\n",
       "      <td>13.000000</td>\n",
       "    </tr>\n",
       "    <tr>\n",
       "      <th>25%</th>\n",
       "      <td>45.880769</td>\n",
       "    </tr>\n",
       "    <tr>\n",
       "      <th>50%</th>\n",
       "      <td>57.320000</td>\n",
       "    </tr>\n",
       "    <tr>\n",
       "      <th>75%</th>\n",
       "      <td>102.514645</td>\n",
       "    </tr>\n",
       "    <tr>\n",
       "      <th>max</th>\n",
       "      <td>136.520000</td>\n",
       "    </tr>\n",
       "  </tbody>\n",
       "</table>\n",
       "</div>"
      ],
      "text/plain": [
       "       nombre d'achat\n",
       "count       75.000000\n",
       "mean        67.582353\n",
       "std         32.855257\n",
       "min         13.000000\n",
       "25%         45.880769\n",
       "50%         57.320000\n",
       "75%        102.514645\n",
       "max        136.520000"
      ]
     },
     "execution_count": 84,
     "metadata": {},
     "output_type": "execute_result"
    }
   ],
   "source": [
    "df_achat2.groupby(\"age\").agg({\"nombre d\\'achat\":\"mean\"}).sort_values(by=[\"nombre d\\'achat\"],ascending=False).describe()"
   ]
  },
  {
   "cell_type": "markdown",
   "metadata": {},
   "source": [
    "On fait le test de normalité **shapiro** sur les deux variables avant de choisir la methode pour le test de correlation </br>\n",
    "\n",
    "H0 (Accepté) : l'échantillon correspond à une distribution normale. (P0 > 0,05) </br>\n",
    "H1 (rejeté) : l'échantillon ne correspond pas à une distribution normale. </br>"
   ]
  },
  {
   "cell_type": "code",
   "execution_count": 85,
   "metadata": {},
   "outputs": [
    {
     "data": {
      "text/plain": [
       "(ShapiroResult(statistic=0.9709421396255493, pvalue=3.265601340980467e-24),\n",
       " ShapiroResult(statistic=0.8255009055137634, pvalue=0.0))"
      ]
     },
     "execution_count": 85,
     "metadata": {},
     "output_type": "execute_result"
    }
   ],
   "source": [
    "# variable âge et variable nombre d'achat\n",
    "shapiro(df_achat2[\"age\"]) , shapiro(df_achat2[\"nombre d\\'achat\"]) "
   ]
  },
  {
   "cell_type": "markdown",
   "metadata": {},
   "source": [
    "L'hyphothese null est rejetee, donc ces donnees ne sont pas d' une distributon normale. </br>\n",
    "Je verifie aussi avec le test de **Kolmogorov-Smirnov** ( alternative a **shapiro**), qui est plus adapte dans le cas de grands echantillons."
   ]
  },
  {
   "cell_type": "code",
   "execution_count": 77,
   "metadata": {},
   "outputs": [
    {
     "data": {
      "text/plain": [
       "KstestResult(statistic=0.9928361484799978, pvalue=0.0)"
      ]
     },
     "execution_count": 77,
     "metadata": {},
     "output_type": "execute_result"
    }
   ],
   "source": [
    "# Ce test est une alternative lorsque les donnees sont nombreuses.\n",
    "kstest(df_achat[\"nombre d\\'achat\"],'norm'), kstest(df_achat.age, 'norm')"
   ]
  },
  {
   "cell_type": "markdown",
   "metadata": {},
   "source": [
    "Nos deux variable ne proviennent pas de distribution normal,  donc on va faire le **test non-parametrique de correlation de Spearman** "
   ]
  },
  {
   "cell_type": "markdown",
   "metadata": {},
   "source": [
    "#### ⚡Test statistique: </br>\n",
    "  **Test de correlation de Spearman**\n",
    "- H0:  il y pas de lien entre age & frequence d'achat \n",
    "- H1:  un lien correlation"
   ]
  },
  {
   "cell_type": "code",
   "execution_count": 73,
   "metadata": {},
   "outputs": [
    {
     "data": {
      "text/html": [
       "<div>\n",
       "<style scoped>\n",
       "    .dataframe tbody tr th:only-of-type {\n",
       "        vertical-align: middle;\n",
       "    }\n",
       "\n",
       "    .dataframe tbody tr th {\n",
       "        vertical-align: top;\n",
       "    }\n",
       "\n",
       "    .dataframe thead th {\n",
       "        text-align: right;\n",
       "    }\n",
       "</style>\n",
       "<table border=\"1\" class=\"dataframe\">\n",
       "  <thead>\n",
       "    <tr style=\"text-align: right;\">\n",
       "      <th></th>\n",
       "      <th>age</th>\n",
       "      <th>nombre d'achat</th>\n",
       "    </tr>\n",
       "  </thead>\n",
       "  <tbody>\n",
       "    <tr>\n",
       "      <th>age</th>\n",
       "      <td>1.00000</td>\n",
       "      <td>0.12812</td>\n",
       "    </tr>\n",
       "    <tr>\n",
       "      <th>nombre d'achat</th>\n",
       "      <td>0.12812</td>\n",
       "      <td>1.00000</td>\n",
       "    </tr>\n",
       "  </tbody>\n",
       "</table>\n",
       "</div>"
      ],
      "text/plain": [
       "                    age  nombre d'achat\n",
       "age             1.00000         0.12812\n",
       "nombre d'achat  0.12812         1.00000"
      ]
     },
     "execution_count": 73,
     "metadata": {},
     "output_type": "execute_result"
    }
   ],
   "source": [
    "df_achat.corr(method=\"spearman\")"
   ]
  },
  {
   "cell_type": "code",
   "execution_count": 86,
   "metadata": {},
   "outputs": [
    {
     "data": {
      "text/plain": [
       "Text(0.5, 1.0, 'Correlation de Spearman')"
      ]
     },
     "execution_count": 86,
     "metadata": {},
     "output_type": "execute_result"
    },
    {
     "data": {
      "image/png": "[encoded data removed]",
      "text/plain": [
       "<Figure size 720x432 with 2 Axes>"
      ]
     },
     "metadata": {
      "needs_background": "light"
     },
     "output_type": "display_data"
    }
   ],
   "source": [
    "plt.figure(figsize=(10,6))\n",
    "heatmap = sns.heatmap(df_achat.corr(method=\"spearman\"), vmin=1, vmax=1, annot=True)\n",
    "plt.title(\"Correlation de Spearman\")"
   ]
  },
  {
   "cell_type": "markdown",
   "metadata": {},
   "source": [
    "On obtient un coefficient de corrélation de 0.13. Il s' agit d'une corrélation très faible.</br>\n",
    "Le coefficient de corrélation de Spearman (r<sub>s</sub>) est compris entre -1 et 1, *r<sub>s</sub>* > 0 étant une corrélation positive et *r<sub>s</sub>* < 0 étant une corrélation négative. </br>\n",
    "Plus la valeur absolue de *r<sub>s</sub>*  est grande, plus la corrélation entre les variables est forte.</br>\n",
    "\n",
    "|Correlation Coeffient (r<sub>s</sub>) |Interpretation|\n",
    "|---|---|\n",
    "|0.9< (r<sub>s</sub>) <1|Very strong|\n",
    "|0.7< (r<sub>s</sub>) <0.9|Strong|\n",
    "|0.4< (r<sub>s</sub>) <0.7|Moderate|\n",
    "|0.2< (r<sub>s</sub>) <0.4|Weak|\n",
    "|0< (r<sub>s</sub>) <0.2|No or very weak|"
   ]
  },
  {
   "cell_type": "code",
   "execution_count": 90,
   "metadata": {},
   "outputs": [
    {
     "data": {
      "text/plain": [
       "SpearmanrResult(correlation=0.1281196863733412, pvalue=8.377986603451065e-33)"
      ]
     },
     "execution_count": 90,
     "metadata": {},
     "output_type": "execute_result"
    }
   ],
   "source": [
    "# On verifie la p-value\n",
    "stats.spearmanr(df_achat[\"age\"], df_achat[\"nombre d\\'achat\"])"
   ]
  },
  {
   "cell_type": "markdown",
   "metadata": {},
   "source": [
    "#### ✔️conclusion\n",
    "La p-value est de 0, donc **il y a bien un lien entre l'age et la frequence d'achat**. Mais il s'agit d'une correlation tres faible."
   ]
  },
  {
   "cell_type": "markdown",
   "metadata": {},
   "source": [
    "## 🍄4. Age et taille du panier moyen\n",
    "#### *Il y a-t-il un lien entre l'age et la taille du panier moyen?* </b>\n",
    "Ici, l'âge est une variable **quantitative continue**, et la taille du panier moyen est une variable **quantitative continue**.  </br>\n"
   ]
  },
  {
   "cell_type": "markdown",
   "metadata": {},
   "source": [
    "Les deux variables sont quantitatives, on va utiliser un diagramme en nuage de point pour montrer les données </br>\n",
    "Je calcule d'abord la taille de chaque panier. Pour cela, j'additionne tous les *session_id* par client et par age."
   ]
  },
  {
   "cell_type": "code",
   "execution_count": 140,
   "metadata": {},
   "outputs": [
    {
     "data": {
      "text/html": [
       "<div>\n",
       "<style scoped>\n",
       "    .dataframe tbody tr th:only-of-type {\n",
       "        vertical-align: middle;\n",
       "    }\n",
       "\n",
       "    .dataframe tbody tr th {\n",
       "        vertical-align: top;\n",
       "    }\n",
       "\n",
       "    .dataframe thead th {\n",
       "        text-align: right;\n",
       "    }\n",
       "</style>\n",
       "<table border=\"1\" class=\"dataframe\">\n",
       "  <thead>\n",
       "    <tr style=\"text-align: right;\">\n",
       "      <th></th>\n",
       "      <th>session_id</th>\n",
       "      <th>taille du panier</th>\n",
       "      <th>client_id</th>\n",
       "      <th>age</th>\n",
       "    </tr>\n",
       "  </thead>\n",
       "  <tbody>\n",
       "    <tr>\n",
       "      <th>0</th>\n",
       "      <td>s_1</td>\n",
       "      <td>1</td>\n",
       "      <td>c_329</td>\n",
       "      <td>56</td>\n",
       "    </tr>\n",
       "    <tr>\n",
       "      <th>1</th>\n",
       "      <td>s_10</td>\n",
       "      <td>1</td>\n",
       "      <td>c_2218</td>\n",
       "      <td>53</td>\n",
       "    </tr>\n",
       "    <tr>\n",
       "      <th>2</th>\n",
       "      <td>s_100</td>\n",
       "      <td>2</td>\n",
       "      <td>c_3854</td>\n",
       "      <td>45</td>\n",
       "    </tr>\n",
       "    <tr>\n",
       "      <th>3</th>\n",
       "      <td>s_1000</td>\n",
       "      <td>4</td>\n",
       "      <td>c_1014</td>\n",
       "      <td>34</td>\n",
       "    </tr>\n",
       "    <tr>\n",
       "      <th>4</th>\n",
       "      <td>s_10000</td>\n",
       "      <td>3</td>\n",
       "      <td>c_476</td>\n",
       "      <td>34</td>\n",
       "    </tr>\n",
       "  </tbody>\n",
       "</table>\n",
       "</div>"
      ],
      "text/plain": [
       "  session_id  taille du panier client_id  age\n",
       "0        s_1                 1     c_329   56\n",
       "1       s_10                 1    c_2218   53\n",
       "2      s_100                 2    c_3854   45\n",
       "3     s_1000                 4    c_1014   34\n",
       "4    s_10000                 3     c_476   34"
      ]
     },
     "execution_count": 140,
     "metadata": {},
     "output_type": "execute_result"
    }
   ],
   "source": [
    "df_panier=troisfichier.copy()\n",
    "df_panier=df_panier.groupby(['session_id'], as_index=False).agg({'price':'count','client_id':'first','age':'first'}).rename(columns={\"price\":\"taille du panier\"})\n",
    "df_panier.head()"
   ]
  },
  {
   "cell_type": "markdown",
   "metadata": {},
   "source": [
    "Je calcule la taille du panier moyen par âge."
   ]
  },
  {
   "cell_type": "code",
   "execution_count": 141,
   "metadata": {},
   "outputs": [
    {
     "data": {
      "text/html": [
       "<div>\n",
       "<style scoped>\n",
       "    .dataframe tbody tr th:only-of-type {\n",
       "        vertical-align: middle;\n",
       "    }\n",
       "\n",
       "    .dataframe tbody tr th {\n",
       "        vertical-align: top;\n",
       "    }\n",
       "\n",
       "    .dataframe thead th {\n",
       "        text-align: right;\n",
       "    }\n",
       "</style>\n",
       "<table border=\"1\" class=\"dataframe\">\n",
       "  <thead>\n",
       "    <tr style=\"text-align: right;\">\n",
       "      <th></th>\n",
       "      <th>age</th>\n",
       "      <th>taille du panier</th>\n",
       "    </tr>\n",
       "  </thead>\n",
       "  <tbody>\n",
       "    <tr>\n",
       "      <th>0</th>\n",
       "      <td>19</td>\n",
       "      <td>1.762741</td>\n",
       "    </tr>\n",
       "    <tr>\n",
       "      <th>1</th>\n",
       "      <td>20</td>\n",
       "      <td>1.702766</td>\n",
       "    </tr>\n",
       "    <tr>\n",
       "      <th>2</th>\n",
       "      <td>21</td>\n",
       "      <td>1.760369</td>\n",
       "    </tr>\n",
       "    <tr>\n",
       "      <th>3</th>\n",
       "      <td>22</td>\n",
       "      <td>1.749074</td>\n",
       "    </tr>\n",
       "    <tr>\n",
       "      <th>4</th>\n",
       "      <td>23</td>\n",
       "      <td>1.822800</td>\n",
       "    </tr>\n",
       "  </tbody>\n",
       "</table>\n",
       "</div>"
      ],
      "text/plain": [
       "   age  taille du panier\n",
       "0   19          1.762741\n",
       "1   20          1.702766\n",
       "2   21          1.760369\n",
       "3   22          1.749074\n",
       "4   23          1.822800"
      ]
     },
     "execution_count": 141,
     "metadata": {},
     "output_type": "execute_result"
    }
   ],
   "source": [
    "df_panier_mean = df_panier.groupby(['age'], as_index=False).agg({'taille du panier':'mean'})\n",
    "df_panier_mean.head()"
   ]
  },
  {
   "cell_type": "code",
   "execution_count": 143,
   "metadata": {},
   "outputs": [
    {
     "data": {
      "text/plain": [
       "<AxesSubplot:xlabel='age', ylabel='taille du panier'>"
      ]
     },
     "execution_count": 143,
     "metadata": {},
     "output_type": "execute_result"
    },
    {
     "data": {
      "image/png": "[encoded data removed]",
      "text/plain": [
       "<Figure size 770.4x379.44 with 1 Axes>"
      ]
     },
     "metadata": {},
     "output_type": "display_data"
    }
   ],
   "source": [
    "sns.regplot(x=df_panier_mean[\"age\"], y=df_panier_mean[\"taille du panier\"],line_kws={\"color\": \"red\"})"
   ]
  },
  {
   "cell_type": "markdown",
   "metadata": {},
   "source": [
    "On voit que les donnees ne rentrent pas dans le modele lineaire."
   ]
  },
  {
   "cell_type": "markdown",
   "metadata": {},
   "source": [
    "On fait le test de normalité **shapiro** sur les deux variables avant de choisir la méthode pour le test de corrélation. </br>\n",
    "\n",
    "H0 (Accepté) : l'échantillon correspond à une distribution normale. (P0 > 0,05) </br>\n",
    "H1 (rejeté) : l'échantillon ne correspond pas à une distribution normale. </br>"
   ]
  },
  {
   "cell_type": "code",
   "execution_count": 145,
   "metadata": {},
   "outputs": [
    {
     "data": {
      "text/plain": [
       "(ShapiroResult(statistic=0.9549235701560974, pvalue=0.008753503672778606),\n",
       " ShapiroResult(statistic=0.7821385860443115, pvalue=2.9776876520060114e-09))"
      ]
     },
     "execution_count": 145,
     "metadata": {},
     "output_type": "execute_result"
    }
   ],
   "source": [
    "# variable âge et variable nombre d'achat\n",
    "shapiro(df_panier_mean[\"age\"]) , shapiro(df_panier_mean[\"taille du panier\"]) "
   ]
  },
  {
   "cell_type": "markdown",
   "metadata": {},
   "source": [
    "Nos deux variable ne proviennent pas de distribution normal,  donc on va faire le **test non-parametrique de correlation de Spearman** "
   ]
  },
  {
   "cell_type": "markdown",
   "metadata": {},
   "source": [
    "#### ⚡Test statistique: </br>\n",
    "H0:  il y a pas de lien entre age et la taille du panier moyen \n",
    "H1:  un lien correlation"
   ]
  },
  {
   "cell_type": "code",
   "execution_count": 147,
   "metadata": {},
   "outputs": [
    {
     "data": {
      "text/html": [
       "<div>\n",
       "<style scoped>\n",
       "    .dataframe tbody tr th:only-of-type {\n",
       "        vertical-align: middle;\n",
       "    }\n",
       "\n",
       "    .dataframe tbody tr th {\n",
       "        vertical-align: top;\n",
       "    }\n",
       "\n",
       "    .dataframe thead th {\n",
       "        text-align: right;\n",
       "    }\n",
       "</style>\n",
       "<table border=\"1\" class=\"dataframe\">\n",
       "  <thead>\n",
       "    <tr style=\"text-align: right;\">\n",
       "      <th></th>\n",
       "      <th>age</th>\n",
       "      <th>taille du panier</th>\n",
       "    </tr>\n",
       "  </thead>\n",
       "  <tbody>\n",
       "    <tr>\n",
       "      <th>age</th>\n",
       "      <td>1.000000</td>\n",
       "      <td>-0.612085</td>\n",
       "    </tr>\n",
       "    <tr>\n",
       "      <th>taille du panier</th>\n",
       "      <td>-0.612085</td>\n",
       "      <td>1.000000</td>\n",
       "    </tr>\n",
       "  </tbody>\n",
       "</table>\n",
       "</div>"
      ],
      "text/plain": [
       "                       age  taille du panier\n",
       "age               1.000000         -0.612085\n",
       "taille du panier -0.612085          1.000000"
      ]
     },
     "execution_count": 147,
     "metadata": {},
     "output_type": "execute_result"
    }
   ],
   "source": [
    "df_panier_mean.corr(method=\"spearman\")"
   ]
  },
  {
   "cell_type": "code",
   "execution_count": 149,
   "metadata": {},
   "outputs": [
    {
     "data": {
      "text/plain": [
       "Text(0.5, 1.0, 'Correlation de Spearman')"
      ]
     },
     "execution_count": 149,
     "metadata": {},
     "output_type": "execute_result"
    },
    {
     "data": {
      "image/png": "[encoded data removed]",
      "text/plain": [
       "<Figure size 720x432 with 2 Axes>"
      ]
     },
     "metadata": {},
     "output_type": "display_data"
    }
   ],
   "source": [
    "plt.figure(figsize=(10,6))\n",
    "heatmap = sns.heatmap(df_panier_mean.corr(method=\"spearman\"), vmin=1, vmax=1, annot=True)\n",
    "plt.title(\"Correlation de Spearman\")"
   ]
  },
  {
   "cell_type": "markdown",
   "metadata": {},
   "source": [
    "On obtient un coefficient de corrélation de -0.61. Il s' agit d'une corrélation modérée.</br>\n",
    "\n",
    "|Correlation Coeffient (r<sub>s</sub>) |Interpretation|\n",
    "|---|---|\n",
    "|0.9< (r<sub>s</sub>) <1|Very strong|\n",
    "|0.7< (r<sub>s</sub>) <0.9|Strong|\n",
    "|**0.4< (r<sub>s</sub>) <0.7** |**Moderate**|\n",
    "|0.2< (r<sub>s</sub>) <0.4|Weak|\n",
    "|0< (r<sub>s</sub>) <0.2|No or very weak|"
   ]
  },
  {
   "cell_type": "code",
   "execution_count": 99,
   "metadata": {},
   "outputs": [
    {
     "data": {
      "text/plain": [
       "SpearmanrResult(correlation=-0.7606288448393711, pvalue=1.5702923018181533e-15)"
      ]
     },
     "execution_count": 99,
     "metadata": {},
     "output_type": "execute_result"
    }
   ],
   "source": [
    "# On verifie la p-value\n",
    "stats.spearmanr(df_panier[\"age\"], df_panier[\"price\"])"
   ]
  },
  {
   "cell_type": "markdown",
   "metadata": {},
   "source": [
    "#### ✔️conclusion\n",
    "La p-value est sous le seuil de 0.05, donc **il y a bien un lien entre l'age et la taille du panier moyen**. Et il s'agit d'une corrélation modérée.\n",
    "Le coéfficient étant négatif, on peut dire que lorsque l'âge augmente, la taille du panier moyen a tendance à baisser."
   ]
  },
  {
   "cell_type": "markdown",
   "metadata": {},
   "source": [
    "Afin de montrer graphiquement la répartition entre l'âge et la taille du panier moyen, \n",
    "je dessine des boîtes à moustaches en regroupant les âges par tranches d'âge."
   ]
  },
  {
   "cell_type": "code",
   "execution_count": 123,
   "metadata": {},
   "outputs": [
    {
     "data": {
      "text/html": [
       "<div>\n",
       "<style scoped>\n",
       "    .dataframe tbody tr th:only-of-type {\n",
       "        vertical-align: middle;\n",
       "    }\n",
       "\n",
       "    .dataframe tbody tr th {\n",
       "        vertical-align: top;\n",
       "    }\n",
       "\n",
       "    .dataframe thead th {\n",
       "        text-align: right;\n",
       "    }\n",
       "</style>\n",
       "<table border=\"1\" class=\"dataframe\">\n",
       "  <thead>\n",
       "    <tr style=\"text-align: right;\">\n",
       "      <th></th>\n",
       "      <th>id_prod</th>\n",
       "      <th>date</th>\n",
       "      <th>session_id</th>\n",
       "      <th>client_id</th>\n",
       "      <th>price</th>\n",
       "      <th>categ</th>\n",
       "      <th>sex</th>\n",
       "      <th>birth</th>\n",
       "      <th>age</th>\n",
       "      <th>age_group</th>\n",
       "    </tr>\n",
       "  </thead>\n",
       "  <tbody>\n",
       "    <tr>\n",
       "      <th>0</th>\n",
       "      <td>0_1518</td>\n",
       "      <td>2022-05-20 13:21:29.043970</td>\n",
       "      <td>s_211425</td>\n",
       "      <td>c_103</td>\n",
       "      <td>4.18</td>\n",
       "      <td>0</td>\n",
       "      <td>f</td>\n",
       "      <td>1986</td>\n",
       "      <td>37</td>\n",
       "      <td>35-44</td>\n",
       "    </tr>\n",
       "    <tr>\n",
       "      <th>1</th>\n",
       "      <td>0_1518</td>\n",
       "      <td>2021-07-20 13:21:29.043970</td>\n",
       "      <td>s_64849</td>\n",
       "      <td>c_103</td>\n",
       "      <td>4.18</td>\n",
       "      <td>0</td>\n",
       "      <td>f</td>\n",
       "      <td>1986</td>\n",
       "      <td>37</td>\n",
       "      <td>35-44</td>\n",
       "    </tr>\n",
       "    <tr>\n",
       "      <th>2</th>\n",
       "      <td>0_1518</td>\n",
       "      <td>2022-08-20 13:21:29.043970</td>\n",
       "      <td>s_255965</td>\n",
       "      <td>c_103</td>\n",
       "      <td>4.18</td>\n",
       "      <td>0</td>\n",
       "      <td>f</td>\n",
       "      <td>1986</td>\n",
       "      <td>37</td>\n",
       "      <td>35-44</td>\n",
       "    </tr>\n",
       "    <tr>\n",
       "      <th>3</th>\n",
       "      <td>0_1418</td>\n",
       "      <td>2022-06-18 01:49:37.823274</td>\n",
       "      <td>s_225411</td>\n",
       "      <td>c_103</td>\n",
       "      <td>8.57</td>\n",
       "      <td>0</td>\n",
       "      <td>f</td>\n",
       "      <td>1986</td>\n",
       "      <td>37</td>\n",
       "      <td>35-44</td>\n",
       "    </tr>\n",
       "    <tr>\n",
       "      <th>4</th>\n",
       "      <td>0_1418</td>\n",
       "      <td>2021-08-18 01:49:37.823274</td>\n",
       "      <td>s_77214</td>\n",
       "      <td>c_103</td>\n",
       "      <td>8.57</td>\n",
       "      <td>0</td>\n",
       "      <td>f</td>\n",
       "      <td>1986</td>\n",
       "      <td>37</td>\n",
       "      <td>35-44</td>\n",
       "    </tr>\n",
       "  </tbody>\n",
       "</table>\n",
       "</div>"
      ],
      "text/plain": [
       "  id_prod                        date session_id client_id  price  categ sex  \\\n",
       "0  0_1518  2022-05-20 13:21:29.043970   s_211425     c_103   4.18      0   f   \n",
       "1  0_1518  2021-07-20 13:21:29.043970    s_64849     c_103   4.18      0   f   \n",
       "2  0_1518  2022-08-20 13:21:29.043970   s_255965     c_103   4.18      0   f   \n",
       "3  0_1418  2022-06-18 01:49:37.823274   s_225411     c_103   8.57      0   f   \n",
       "4  0_1418  2021-08-18 01:49:37.823274    s_77214     c_103   8.57      0   f   \n",
       "\n",
       "   birth  age age_group  \n",
       "0   1986   37     35-44  \n",
       "1   1986   37     35-44  \n",
       "2   1986   37     35-44  \n",
       "3   1986   37     35-44  \n",
       "4   1986   37     35-44  "
      ]
     },
     "execution_count": 123,
     "metadata": {},
     "output_type": "execute_result"
    }
   ],
   "source": [
    "df_merged_age=troisfichier.copy()\n",
    "df_merged_age.head()"
   ]
  },
  {
   "cell_type": "code",
   "execution_count": 125,
   "metadata": {},
   "outputs": [
    {
     "data": {
      "image/png": "[encoded data removed]",
      "text/plain": [
       "<Figure size 770.4x379.44 with 1 Axes>"
      ]
     },
     "metadata": {},
     "output_type": "display_data"
    }
   ],
   "source": [
    "# set a grey background (use sns.set_theme() if seaborn version 0.11.0 or above) \n",
    "sns.set(style=\"darkgrid\")\n",
    "sns.set(rc={'figure.figsize':(10.7,5.27)})\n",
    "\n",
    "Q1 = df_merged_age['price'].quantile(0.25)\n",
    "Q3 = df_merged_age['price'].quantile(0.75)\n",
    "IQR = Q3 - Q1    #IQR is interquartile range. \n",
    "\n",
    "filter = (df_merged_age['price'] >= Q1 - 1.5 * IQR) & (df_merged_age['price'] <= Q3 + 1.5 *IQR)\n",
    "tt=df_merged_age.loc[filter]  \n",
    "\n",
    "sns.boxplot(x=tt[\"age_group\"], y=tt[\"price\"]).set_title('La taille du panier par tranche d\\'age ')\n",
    "plt.show()"
   ]
  },
  {
   "cell_type": "markdown",
   "metadata": {},
   "source": [
    "### 🍄5. Age &  categories des livres achetés : \n",
    "##### Il y a t-il un lien entre la categorie de livre est l'age du client ?"
   ]
  },
  {
   "cell_type": "markdown",
   "metadata": {},
   "source": [
    "je calcule le nombre de ventes pour faire le diagramme de nuage à point par catégorie et l'âge pour observer la corrélation et la tendance."
   ]
  },
  {
   "cell_type": "code",
   "execution_count": 154,
   "metadata": {},
   "outputs": [
    {
     "data": {
      "text/html": [
       "<div>\n",
       "<style scoped>\n",
       "    .dataframe tbody tr th:only-of-type {\n",
       "        vertical-align: middle;\n",
       "    }\n",
       "\n",
       "    .dataframe tbody tr th {\n",
       "        vertical-align: top;\n",
       "    }\n",
       "\n",
       "    .dataframe thead th {\n",
       "        text-align: right;\n",
       "    }\n",
       "</style>\n",
       "<table border=\"1\" class=\"dataframe\">\n",
       "  <thead>\n",
       "    <tr style=\"text-align: right;\">\n",
       "      <th></th>\n",
       "      <th>age</th>\n",
       "      <th>categ</th>\n",
       "      <th>id_prod</th>\n",
       "      <th>date</th>\n",
       "      <th>nb livres achetés</th>\n",
       "      <th>client_id</th>\n",
       "      <th>price</th>\n",
       "      <th>sex</th>\n",
       "      <th>birth</th>\n",
       "      <th>age_group</th>\n",
       "    </tr>\n",
       "  </thead>\n",
       "  <tbody>\n",
       "    <tr>\n",
       "      <th>0</th>\n",
       "      <td>19</td>\n",
       "      <td>0</td>\n",
       "      <td>3418</td>\n",
       "      <td>3418</td>\n",
       "      <td>3418</td>\n",
       "      <td>3418</td>\n",
       "      <td>3418</td>\n",
       "      <td>3418</td>\n",
       "      <td>3418</td>\n",
       "      <td>3418</td>\n",
       "    </tr>\n",
       "    <tr>\n",
       "      <th>1</th>\n",
       "      <td>19</td>\n",
       "      <td>1</td>\n",
       "      <td>5719</td>\n",
       "      <td>5719</td>\n",
       "      <td>5719</td>\n",
       "      <td>5719</td>\n",
       "      <td>5719</td>\n",
       "      <td>5719</td>\n",
       "      <td>5719</td>\n",
       "      <td>5719</td>\n",
       "    </tr>\n",
       "  </tbody>\n",
       "</table>\n",
       "</div>"
      ],
      "text/plain": [
       "   age  categ  id_prod  date  nb livres achetés  client_id  price   sex  \\\n",
       "0   19      0     3418  3418               3418       3418   3418  3418   \n",
       "1   19      1     5719  5719               5719       5719   5719  5719   \n",
       "\n",
       "   birth  age_group  \n",
       "0   3418       3418  \n",
       "1   5719       5719  "
      ]
     },
     "execution_count": 154,
     "metadata": {},
     "output_type": "execute_result"
    }
   ],
   "source": [
    "df_categ_cli=troisfichier.groupby(['age','categ']).count().reset_index()\n",
    "df_categ_cli.rename(columns={\"session_id\" :\"nb livres achetés\", }, inplace=True)\n",
    "df_categ_cli.head(2)"
   ]
  },
  {
   "cell_type": "code",
   "execution_count": 155,
   "metadata": {},
   "outputs": [
    {
     "data": {
      "text/html": [
       "<div>\n",
       "<style scoped>\n",
       "    .dataframe tbody tr th:only-of-type {\n",
       "        vertical-align: middle;\n",
       "    }\n",
       "\n",
       "    .dataframe tbody tr th {\n",
       "        vertical-align: top;\n",
       "    }\n",
       "\n",
       "    .dataframe thead th {\n",
       "        text-align: right;\n",
       "    }\n",
       "</style>\n",
       "<table border=\"1\" class=\"dataframe\">\n",
       "  <thead>\n",
       "    <tr style=\"text-align: right;\">\n",
       "      <th></th>\n",
       "      <th>age</th>\n",
       "      <th>categ</th>\n",
       "      <th>id_prod</th>\n",
       "      <th>date</th>\n",
       "      <th>nb livres achetés</th>\n",
       "      <th>client_id</th>\n",
       "      <th>price</th>\n",
       "      <th>sex</th>\n",
       "      <th>birth</th>\n",
       "      <th>age_group</th>\n",
       "    </tr>\n",
       "  </thead>\n",
       "  <tbody>\n",
       "    <tr>\n",
       "      <th>2</th>\n",
       "      <td>19</td>\n",
       "      <td>2</td>\n",
       "      <td>6012</td>\n",
       "      <td>6012</td>\n",
       "      <td>6012</td>\n",
       "      <td>6012</td>\n",
       "      <td>6012</td>\n",
       "      <td>6012</td>\n",
       "      <td>6012</td>\n",
       "      <td>6012</td>\n",
       "    </tr>\n",
       "    <tr>\n",
       "      <th>5</th>\n",
       "      <td>20</td>\n",
       "      <td>2</td>\n",
       "      <td>1784</td>\n",
       "      <td>1784</td>\n",
       "      <td>1784</td>\n",
       "      <td>1784</td>\n",
       "      <td>1784</td>\n",
       "      <td>1784</td>\n",
       "      <td>1784</td>\n",
       "      <td>1784</td>\n",
       "    </tr>\n",
       "  </tbody>\n",
       "</table>\n",
       "</div>"
      ],
      "text/plain": [
       "   age  categ  id_prod  date  nb livres achetés  client_id  price   sex  \\\n",
       "2   19      2     6012  6012               6012       6012   6012  6012   \n",
       "5   20      2     1784  1784               1784       1784   1784  1784   \n",
       "\n",
       "   birth  age_group  \n",
       "2   6012       6012  \n",
       "5   1784       1784  "
      ]
     },
     "execution_count": 155,
     "metadata": {},
     "output_type": "execute_result"
    }
   ],
   "source": [
    "tt0=df_categ_cli.loc[tt[\"categ\"]==0,:]\n",
    "tt1=df_categ_cli.loc[tt[\"categ\"]==1,:]\n",
    "tt2=df_categ_cli.loc[tt[\"categ\"]==2,:]\n",
    "tt2.head(2)"
   ]
  },
  {
   "cell_type": "code",
   "execution_count": 156,
   "metadata": {},
   "outputs": [
    {
     "data": {
      "text/plain": [
       "Text(0.5, 1.0, 'Nombre de ventes par age - categorie 2')"
      ]
     },
     "execution_count": 156,
     "metadata": {},
     "output_type": "execute_result"
    },
    {
     "data": {
      "image/png": "[encoded data removed]",
      "text/plain": [
       "<Figure size 576x936 with 3 Axes>"
      ]
     },
     "metadata": {},
     "output_type": "display_data"
    }
   ],
   "source": [
    "fig, axes = plt.subplots(nrows=3, ncols=1, figsize=(8, 13),sharey=False)\n",
    "fig.tight_layout(pad=4.0) \n",
    "sns.regplot(ax=axes[0], x=tt0[\"age\"], y=tt0[\"nb livres achetés\"],scatter_kws={\"color\": \"green\"}, line_kws={\"color\": \"red\"})\n",
    "axes[0].set_title('Nombre de ventes par age - categorie 0')\n",
    "sns.regplot(ax=axes[1], x=tt1[\"age\"], y=tt1[\"nb livres achetés\"],scatter_kws={\"color\": \"purple\"}, line_kws={\"color\": \"black\"})\n",
    "axes[1].set_title('Nombre de ventes par age - categorie 1')\n",
    "sns.regplot(ax=axes[2],x=tt2[\"age\"], y=tt2[\"nb livres achetés\"],scatter_kws={\"color\": \"orange\"},line_kws={\"color\": \"green\"})\n",
    "axes[2].set_title('Nombre de ventes par age - categorie 2')"
   ]
  },
  {
   "cell_type": "markdown",
   "metadata": {},
   "source": [
    "Dès la première diagramme du haut, on peut voir que le groupe entre 30 et 50 ans est le groupe qui achète le plus de livres de catégorie 0. </br>\n",
    "D'après la diagramme au milieu, on constate que le groupe avec le plus grand nombre d'achats de livres de catégorie 1 apparaît entre 30 et 60 ans.</br>\n",
    "Dans la diagramme du bas, on voit que le groupe qui achète le plus de livres de catégorie 2 se situe entre 20 et 30 ans, ce qui signifie que les livres de catégorie 2 sont les plus populaires auprès des jeunes.</br>"
   ]
  },
  {
   "cell_type": "markdown",
   "metadata": {},
   "source": [
    "ici, on a **une variable quantitative et une variable qualitative**.</br>\n",
    "\n",
    "##### Le choix du test.</br>\n",
    "ANOVA ( parametrique ) , ou son alternative non-parametrique Kruskal-Wallis.</br>\n",
    "read: Le test de Kruskal-Wallis est souvent utilisé comme une alternative à l'ANOVA dans le cas où l'hypothèse de normalité n'est pas acceptable.</br>\n",
    "\n",
    "\n",
    "Si on veut utiliser ANOVA, on doit vérifier les conditions préalables:</br>\n",
    " - Variable x doit avoir au moins 2 modalités.</br>\n",
    " - Il doit s'agir d'une distribution normal.</br>"
   ]
  },
  {
   "cell_type": "markdown",
   "metadata": {},
   "source": [
    "##### Est ce que la répartition de l'age par catégorie suit une distribution normal? \n",
    "\n",
    "Ceci est une condition si l'on veux utiliser anova."
   ]
  },
  {
   "cell_type": "code",
   "execution_count": 126,
   "metadata": {},
   "outputs": [],
   "source": [
    "c0= troisfichier[troisfichier.categ==0]\n",
    "c1= troisfichier[troisfichier.categ==1]\n",
    "c2= troisfichier[troisfichier.categ==2]"
   ]
  },
  {
   "cell_type": "code",
   "execution_count": 133,
   "metadata": {},
   "outputs": [
    {
     "data": {
      "text/plain": [
       "<seaborn.axisgrid.FacetGrid at 0x1faaf01cf70>"
      ]
     },
     "execution_count": 133,
     "metadata": {},
     "output_type": "execute_result"
    },
    {
     "data": {
      "image/png": "[encoded data removed]",
      "text/plain": [
       "<Figure size 360x360 with 1 Axes>"
      ]
     },
     "metadata": {},
     "output_type": "display_data"
    }
   ],
   "source": [
    "#TODO: Put together the plots\n",
    "sns.displot(c0.age)"
   ]
  },
  {
   "cell_type": "code",
   "execution_count": 132,
   "metadata": {},
   "outputs": [
    {
     "data": {
      "text/plain": [
       "<seaborn.axisgrid.FacetGrid at 0x1fa962895e0>"
      ]
     },
     "execution_count": 132,
     "metadata": {},
     "output_type": "execute_result"
    },
    {
     "data": {
      "image/png": "[encoded data removed]",
      "text/plain": [
       "<Figure size 360x360 with 1 Axes>"
      ]
     },
     "metadata": {},
     "output_type": "display_data"
    }
   ],
   "source": [
    "sns.displot(c1.age)"
   ]
  },
  {
   "cell_type": "code",
   "execution_count": 134,
   "metadata": {},
   "outputs": [
    {
     "data": {
      "text/plain": [
       "<seaborn.axisgrid.FacetGrid at 0x1faaf2fab50>"
      ]
     },
     "execution_count": 134,
     "metadata": {},
     "output_type": "execute_result"
    },
    {
     "data": {
      "image/png": "[encoded data removed]",
      "text/plain": [
       "<Figure size 360x360 with 1 Axes>"
      ]
     },
     "metadata": {},
     "output_type": "display_data"
    }
   ],
   "source": [
    "sns.displot(c2.age)"
   ]
  },
  {
   "cell_type": "markdown",
   "metadata": {},
   "source": [
    "On fait le test de normalité **shapiro** sur les deux variables pour tester la normalité. </br>\n",
    "\n",
    "- H0 (Accepté) : l'échantillon correspond à une distribution normale. (P0 > 0,05) </br>\n",
    "- H1 (rejeté) : l'échantillon ne correspond pas à une distribution normale. </br>"
   ]
  },
  {
   "cell_type": "code",
   "execution_count": 157,
   "metadata": {},
   "outputs": [
    {
     "data": {
      "text/plain": [
       "ShapiroResult(statistic=0.9312242269515991, pvalue=1.6434694636309676e-39)"
      ]
     },
     "execution_count": 157,
     "metadata": {},
     "output_type": "execute_result"
    }
   ],
   "source": [
    "dfc0 = c0.sample(4000)\n",
    "shapiro(dfc0.age) "
   ]
  },
  {
   "cell_type": "code",
   "execution_count": 158,
   "metadata": {},
   "outputs": [
    {
     "data": {
      "text/plain": [
       "ShapiroResult(statistic=0.989507794380188, pvalue=1.1870017967334306e-16)"
      ]
     },
     "execution_count": 158,
     "metadata": {},
     "output_type": "execute_result"
    }
   ],
   "source": [
    "dfc1 = c1.sample(4000)\n",
    "shapiro(dfc1.age) "
   ]
  },
  {
   "cell_type": "code",
   "execution_count": 159,
   "metadata": {},
   "outputs": [
    {
     "data": {
      "text/plain": [
       "ShapiroResult(statistic=0.6715105175971985, pvalue=0.0)"
      ]
     },
     "execution_count": 159,
     "metadata": {},
     "output_type": "execute_result"
    }
   ],
   "source": [
    "dfc2 = c2.sample(4000)\n",
    "shapiro(dfc2.age) "
   ]
  },
  {
   "cell_type": "markdown",
   "metadata": {},
   "source": [
    "Anisi, **La P value est inférieur à 0.05**. Donc hypothese null est rejeté; **L'âge par catégorie n'est pas issue d'une distribution normal**. </br>\n",
    "On ne peut donc pas utiliser anova. **On va faire le test de Kruskal-Wallis**.\n",
    "Il est considéré comme l'équivalent non paramétrique de 'One-Way ANOVA'."
   ]
  },
  {
   "cell_type": "markdown",
   "metadata": {},
   "source": [
    "#### ⚡Test statistique: </br>\n",
    "Pour le test de Kruskal-Wallis on pose les hypotheses suivantes:\n",
    "- H0:  il y a pas de lien entre l'âge et la categorie des livres achetés </br>\n",
    "- H1:  un lien corrélation</br>\n"
   ]
  },
  {
   "cell_type": "code",
   "execution_count": 160,
   "metadata": {},
   "outputs": [
    {
     "data": {
      "text/plain": [
       "KruskalResult(statistic=79346.09938564085, pvalue=0.0)"
      ]
     },
     "execution_count": 160,
     "metadata": {},
     "output_type": "execute_result"
    }
   ],
   "source": [
    "#perform Kruskal-Wallis Test \n",
    "stats.kruskal(c0['age'], c1['age'], c2['age'])"
   ]
  },
  {
   "cell_type": "markdown",
   "metadata": {},
   "source": [
    "La p value est inférieur à 0.05, donc **hypothèse nulle est rejetée**. </br>\n",
    "Ainsi, on peut conclure  qu'**il y a bien un lien entre l'age et la catégorie de livre achetés**."
   ]
  },
  {
   "cell_type": "markdown",
   "metadata": {},
   "source": [
    "# Conclusion\n",
    "\n",
    "Dans ce rapport, on a examiné les differents indicateurs du CA, fait un analyse univarié et bivarié de differentes variables tel le nombre de ventes, la categorie achetée, le genre et l'age des clients, etc, On a aussi demontré grace à des tests statistiques qu'il y a une correlation entre le genre et l'age des clients et certaines variables tels que la taille du panier, la frequence d'achat et les catégories achetées."
   ]
  }
 ],
 "metadata": {
  "kernelspec": {
   "display_name": "Python 3.9.12 ('base')",
   "language": "python",
   "name": "python3"
  },
  "language_info": {
   "codemirror_mode": {
    "name": "ipython",
    "version": 3
   },
   "file_extension": ".py",
   "mimetype": "text/x-python",
   "name": "python",
   "nbconvert_exporter": "python",
   "pygments_lexer": "ipython3",
   "version": "3.9.12"
  },
  "orig_nbformat": 4,
  "vscode": {
   "interpreter": {
    "hash": "d7dda7c54a232f88660cb0d49e4118d35f81f6f59937d41a85f4eafe1d086155"
   }
  }
 },
 "nbformat": 4,
 "nbformat_minor": 2
}
