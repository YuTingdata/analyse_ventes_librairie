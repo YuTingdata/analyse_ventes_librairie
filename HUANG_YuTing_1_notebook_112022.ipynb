{
 "cells": [
  {
   "cell_type": "markdown",
   "metadata": {},
   "source": [
    "# Projet 6: Analysez les ventes d'une librairie avec R ou Python \n",
    "\n",
    "# Introduction \n",
    "\n",
    "Dans ce projet, il est demandé d'analyser et de rapprocher les données de trois fichiers csv \"products\", customers et \"transactions\". \n",
    "La table \"products\" contient les reférences des livres, leurs prix de vente. La table \"customers\" contient les informations des clients du site. La table \"transactions\" contients les achats effectués sur le site..\n",
    "\n",
    "# Objectif: \n",
    "    Faire le point après deux ans d'exercice,\n",
    "    pouvoir analyser ses points forts,\n",
    "    pouvoir analyser ses points faibles,\n",
    "    pouvoir analyser les comportements clients,etc.\n",
    "\n",
    "# Exploration"
   ]
  },
  {
   "cell_type": "markdown",
   "metadata": {},
   "source": [
    "J' importe les modules necessaires pour l'analyse."
   ]
  },
  {
   "cell_type": "code",
   "execution_count": 12,
   "metadata": {},
   "outputs": [],
   "source": [
    "import os\n",
    "import pandas as pd\n",
    "import numpy as np\n",
    "import matplotlib.pyplot as plt\n",
    "import seaborn as sns"
   ]
  },
  {
   "cell_type": "markdown",
   "metadata": {},
   "source": [
    "Je charge les datasets dans des dataframes."
   ]
  },
  {
   "cell_type": "code",
   "execution_count": 13,
   "metadata": {},
   "outputs": [],
   "source": [
    "df_customers = pd.read_csv('customers.csv')\n",
    "df_products =pd.read_csv('products.csv')\n",
    "df_transactions=pd.read_csv('transactions.csv')"
   ]
  },
  {
   "cell_type": "markdown",
   "metadata": {},
   "source": [
    "Je vérifie d'abord les dimensions de chaque fichiers (nombre de lignes et nombre de colonnes)"
   ]
  },
  {
   "cell_type": "code",
   "execution_count": 14,
   "metadata": {},
   "outputs": [
    {
     "name": "stdout",
     "output_type": "stream",
     "text": [
      "customers : (8623, 3)\n",
      "products : (3287, 3)\n",
      "transactions : (679532, 4)\n"
     ]
    }
   ],
   "source": [
    "print(os.linesep.join([ \"customers : \" + str(df_customers.shape), \"products : \" + str(df_products.shape), \"transactions : \" + str(df_transactions.shape) ]))"
   ]
  },
  {
   "cell_type": "markdown",
   "metadata": {},
   "source": [
    "On constate qu'il y a plus lignes dans \"transactions\" que dans le fichier \"customers\" et \"products\".</br> \n",
    "C'est normal car ce dataframe contient toutes les transactions."
   ]
  },
  {
   "cell_type": "markdown",
   "metadata": {},
   "source": [
    "### Quels sont les informations contenues dans les dataframes ?"
   ]
  },
  {
   "cell_type": "code",
   "execution_count": 5,
   "metadata": {},
   "outputs": [
    {
     "name": "stdout",
     "output_type": "stream",
     "text": [
      "<class 'pandas.core.frame.DataFrame'>\n",
      "RangeIndex: 679532 entries, 0 to 679531\n",
      "Data columns (total 4 columns):\n",
      " #   Column      Non-Null Count   Dtype \n",
      "---  ------      --------------   ----- \n",
      " 0   id_prod     679532 non-null  object\n",
      " 1   date        679532 non-null  object\n",
      " 2   session_id  679532 non-null  object\n",
      " 3   client_id   679532 non-null  object\n",
      "dtypes: object(4)\n",
      "memory usage: 20.7+ MB\n"
     ]
    }
   ],
   "source": [
    "df_transactions.info()"
   ]
  },
  {
   "cell_type": "markdown",
   "metadata": {},
   "source": [
    "Une transaction est faite sur un produit ( *id_prod* ), à une date (*date*) , et par un client (*client_id*)."
   ]
  },
  {
   "cell_type": "code",
   "execution_count": 36,
   "metadata": {},
   "outputs": [
    {
     "name": "stdout",
     "output_type": "stream",
     "text": [
      "<class 'pandas.core.frame.DataFrame'>\n",
      "RangeIndex: 3287 entries, 0 to 3286\n",
      "Data columns (total 3 columns):\n",
      " #   Column   Non-Null Count  Dtype  \n",
      "---  ------   --------------  -----  \n",
      " 0   id_prod  3287 non-null   object \n",
      " 1   price    3287 non-null   float64\n",
      " 2   categ    3287 non-null   int64  \n",
      "dtypes: float64(1), int64(1), object(1)\n",
      "memory usage: 77.2+ KB\n"
     ]
    }
   ],
   "source": [
    "df_products.info()"
   ]
  },
  {
   "cell_type": "markdown",
   "metadata": {},
   "source": [
    "Un produit a un prix et une catégorie."
   ]
  },
  {
   "cell_type": "code",
   "execution_count": 37,
   "metadata": {},
   "outputs": [
    {
     "name": "stdout",
     "output_type": "stream",
     "text": [
      "<class 'pandas.core.frame.DataFrame'>\n",
      "RangeIndex: 8623 entries, 0 to 8622\n",
      "Data columns (total 3 columns):\n",
      " #   Column     Non-Null Count  Dtype \n",
      "---  ------     --------------  ----- \n",
      " 0   client_id  8623 non-null   object\n",
      " 1   sex        8623 non-null   object\n",
      " 2   birth      8623 non-null   int64 \n",
      "dtypes: int64(1), object(2)\n",
      "memory usage: 202.2+ KB\n"
     ]
    }
   ],
   "source": [
    "df_customers.info()"
   ]
  },
  {
   "cell_type": "markdown",
   "metadata": {},
   "source": [
    "Un client a une année de naissance ( *birth*) et un genre (*sex*) </br>\n",
    "Regardons maintenant un apperçu des données contenues dans les dataframes:"
   ]
  },
  {
   "cell_type": "code",
   "execution_count": 46,
   "metadata": {},
   "outputs": [
    {
     "data": {
      "text/html": [
       "<div>\n",
       "<style scoped>\n",
       "    .dataframe tbody tr th:only-of-type {\n",
       "        vertical-align: middle;\n",
       "    }\n",
       "\n",
       "    .dataframe tbody tr th {\n",
       "        vertical-align: top;\n",
       "    }\n",
       "\n",
       "    .dataframe thead th {\n",
       "        text-align: right;\n",
       "    }\n",
       "</style>\n",
       "<table border=\"1\" class=\"dataframe\">\n",
       "  <thead>\n",
       "    <tr style=\"text-align: right;\">\n",
       "      <th></th>\n",
       "      <th>id_prod</th>\n",
       "      <th>date</th>\n",
       "      <th>session_id</th>\n",
       "      <th>client_id</th>\n",
       "    </tr>\n",
       "  </thead>\n",
       "  <tbody>\n",
       "    <tr>\n",
       "      <th>0</th>\n",
       "      <td>0_1518</td>\n",
       "      <td>2022-05-20 13:21:29.043970</td>\n",
       "      <td>s_211425</td>\n",
       "      <td>c_103</td>\n",
       "    </tr>\n",
       "    <tr>\n",
       "      <th>1</th>\n",
       "      <td>1_251</td>\n",
       "      <td>2022-02-02 07:55:19.149409</td>\n",
       "      <td>s_158752</td>\n",
       "      <td>c_8534</td>\n",
       "    </tr>\n",
       "    <tr>\n",
       "      <th>2</th>\n",
       "      <td>0_1277</td>\n",
       "      <td>2022-06-18 15:44:33.155329</td>\n",
       "      <td>s_225667</td>\n",
       "      <td>c_6714</td>\n",
       "    </tr>\n",
       "    <tr>\n",
       "      <th>3</th>\n",
       "      <td>2_209</td>\n",
       "      <td>2021-06-24 04:19:29.835891</td>\n",
       "      <td>s_52962</td>\n",
       "      <td>c_6941</td>\n",
       "    </tr>\n",
       "    <tr>\n",
       "      <th>4</th>\n",
       "      <td>0_1509</td>\n",
       "      <td>2023-01-11 08:22:08.194479</td>\n",
       "      <td>s_325227</td>\n",
       "      <td>c_4232</td>\n",
       "    </tr>\n",
       "  </tbody>\n",
       "</table>\n",
       "</div>"
      ],
      "text/plain": [
       "  id_prod                        date session_id client_id\n",
       "0  0_1518  2022-05-20 13:21:29.043970   s_211425     c_103\n",
       "1   1_251  2022-02-02 07:55:19.149409   s_158752    c_8534\n",
       "2  0_1277  2022-06-18 15:44:33.155329   s_225667    c_6714\n",
       "3   2_209  2021-06-24 04:19:29.835891    s_52962    c_6941\n",
       "4  0_1509  2023-01-11 08:22:08.194479   s_325227    c_4232"
      ]
     },
     "execution_count": 46,
     "metadata": {},
     "output_type": "execute_result"
    }
   ],
   "source": [
    "df_transactions.head()"
   ]
  },
  {
   "cell_type": "code",
   "execution_count": 49,
   "metadata": {},
   "outputs": [
    {
     "data": {
      "text/html": [
       "<div>\n",
       "<style scoped>\n",
       "    .dataframe tbody tr th:only-of-type {\n",
       "        vertical-align: middle;\n",
       "    }\n",
       "\n",
       "    .dataframe tbody tr th {\n",
       "        vertical-align: top;\n",
       "    }\n",
       "\n",
       "    .dataframe thead th {\n",
       "        text-align: right;\n",
       "    }\n",
       "</style>\n",
       "<table border=\"1\" class=\"dataframe\">\n",
       "  <thead>\n",
       "    <tr style=\"text-align: right;\">\n",
       "      <th></th>\n",
       "      <th>client_id</th>\n",
       "      <th>sex</th>\n",
       "      <th>birth</th>\n",
       "    </tr>\n",
       "  </thead>\n",
       "  <tbody>\n",
       "    <tr>\n",
       "      <th>0</th>\n",
       "      <td>c_4410</td>\n",
       "      <td>f</td>\n",
       "      <td>1967</td>\n",
       "    </tr>\n",
       "    <tr>\n",
       "      <th>1</th>\n",
       "      <td>c_7839</td>\n",
       "      <td>f</td>\n",
       "      <td>1975</td>\n",
       "    </tr>\n",
       "    <tr>\n",
       "      <th>2</th>\n",
       "      <td>c_1699</td>\n",
       "      <td>f</td>\n",
       "      <td>1984</td>\n",
       "    </tr>\n",
       "    <tr>\n",
       "      <th>3</th>\n",
       "      <td>c_5961</td>\n",
       "      <td>f</td>\n",
       "      <td>1962</td>\n",
       "    </tr>\n",
       "    <tr>\n",
       "      <th>4</th>\n",
       "      <td>c_5320</td>\n",
       "      <td>m</td>\n",
       "      <td>1943</td>\n",
       "    </tr>\n",
       "  </tbody>\n",
       "</table>\n",
       "</div>"
      ],
      "text/plain": [
       "  client_id sex  birth\n",
       "0    c_4410   f   1967\n",
       "1    c_7839   f   1975\n",
       "2    c_1699   f   1984\n",
       "3    c_5961   f   1962\n",
       "4    c_5320   m   1943"
      ]
     },
     "execution_count": 49,
     "metadata": {},
     "output_type": "execute_result"
    }
   ],
   "source": [
    "df_customers.head()"
   ]
  },
  {
   "cell_type": "code",
   "execution_count": 48,
   "metadata": {},
   "outputs": [
    {
     "data": {
      "text/html": [
       "<div>\n",
       "<style scoped>\n",
       "    .dataframe tbody tr th:only-of-type {\n",
       "        vertical-align: middle;\n",
       "    }\n",
       "\n",
       "    .dataframe tbody tr th {\n",
       "        vertical-align: top;\n",
       "    }\n",
       "\n",
       "    .dataframe thead th {\n",
       "        text-align: right;\n",
       "    }\n",
       "</style>\n",
       "<table border=\"1\" class=\"dataframe\">\n",
       "  <thead>\n",
       "    <tr style=\"text-align: right;\">\n",
       "      <th></th>\n",
       "      <th>id_prod</th>\n",
       "      <th>price</th>\n",
       "      <th>categ</th>\n",
       "    </tr>\n",
       "  </thead>\n",
       "  <tbody>\n",
       "    <tr>\n",
       "      <th>0</th>\n",
       "      <td>0_1421</td>\n",
       "      <td>19.99</td>\n",
       "      <td>0</td>\n",
       "    </tr>\n",
       "    <tr>\n",
       "      <th>1</th>\n",
       "      <td>0_1368</td>\n",
       "      <td>5.13</td>\n",
       "      <td>0</td>\n",
       "    </tr>\n",
       "    <tr>\n",
       "      <th>2</th>\n",
       "      <td>0_731</td>\n",
       "      <td>17.99</td>\n",
       "      <td>0</td>\n",
       "    </tr>\n",
       "    <tr>\n",
       "      <th>3</th>\n",
       "      <td>1_587</td>\n",
       "      <td>4.99</td>\n",
       "      <td>1</td>\n",
       "    </tr>\n",
       "    <tr>\n",
       "      <th>4</th>\n",
       "      <td>0_1507</td>\n",
       "      <td>3.99</td>\n",
       "      <td>0</td>\n",
       "    </tr>\n",
       "  </tbody>\n",
       "</table>\n",
       "</div>"
      ],
      "text/plain": [
       "  id_prod  price  categ\n",
       "0  0_1421  19.99      0\n",
       "1  0_1368   5.13      0\n",
       "2   0_731  17.99      0\n",
       "3   1_587   4.99      1\n",
       "4  0_1507   3.99      0"
      ]
     },
     "execution_count": 48,
     "metadata": {},
     "output_type": "execute_result"
    }
   ],
   "source": [
    "df_products.head()"
   ]
  },
  {
   "cell_type": "code",
   "execution_count": 6,
   "metadata": {},
   "outputs": [
    {
     "name": "stdout",
     "output_type": "stream",
     "text": [
      "Colonnes de customers : ['client_id', 'sex', 'birth']\n",
      "Colonnes de products : ['id_prod', 'price', 'categ']\n",
      "Colonnes de transactions : ['id_prod', 'date', 'session_id', 'client_id']\n"
     ]
    }
   ],
   "source": [
    "print(os.linesep.join([\"Colonnes de customers : \" + str(list(df_customers)), \"Colonnes de products : \" + str(list(df_products)) ,  \"Colonnes de transactions : \" + str(list(df_transactions))] ))"
   ]
  },
  {
   "cell_type": "markdown",
   "metadata": {},
   "source": [
    "### Il y a t-il des valeurs manquantes dans les fichiers? "
   ]
  },
  {
   "cell_type": "code",
   "execution_count": 7,
   "metadata": {},
   "outputs": [
    {
     "name": "stdout",
     "output_type": "stream",
     "text": [
      "Nombre de valeur manquantes par fichier:\n",
      "1)**Dans df_products***\n",
      " id_prod    0\n",
      "price      0\n",
      "categ      0\n",
      "dtype: int64 \n",
      "\n",
      "2)**Dans df_customers***\n",
      " client_id    0\n",
      "sex          0\n",
      "birth        0\n",
      "dtype: int64 \n",
      "\n",
      "3)**Dans df_transactions***\n",
      " id_prod       0\n",
      "date          0\n",
      "session_id    0\n",
      "client_id     0\n",
      "dtype: int64 \n",
      "\n"
     ]
    }
   ],
   "source": [
    "print(os.linesep.join([\"Nombre de valeur manquantes par fichier:\", \n",
    "    \"1)**Dans df_products***\\n {} \\n\".format(str(df_products.isnull().sum().sort_values(ascending=False)) ),  \n",
    "    \"2)**Dans df_customers***\\n {} \\n\".format(str(df_customers.isnull().sum().sort_values(ascending=False)) ),  \n",
    "    \"3)**Dans df_transactions***\\n {} \\n\".format(str(df_transactions.isnull().sum().sort_values(ascending=False)) )]\n",
    "    )\n",
    ")"
   ]
  },
  {
   "cell_type": "markdown",
   "metadata": {},
   "source": [
    "Il n'y a pas de valeur manquante (nulle) dans les trois fichiers."
   ]
  },
  {
   "cell_type": "markdown",
   "metadata": {},
   "source": [
    "### Quels valeurs peut prendre le prefix dans 'client_id',  dans 'session_id'?\n",
    "On note la présence d'un préfix pour ces variables.\n",
    "Je sépare le préfixe et le suffixe de la colonne de 'client_id'."
   ]
  },
  {
   "cell_type": "code",
   "execution_count": 15,
   "metadata": {},
   "outputs": [],
   "source": [
    "df_transactions1=df_transactions.copy()\n",
    "df_transactions1[\"client_id_prefix\"]= df_transactions1.client_id.str.extract(r'^(\\w+)_',expand= True)\n",
    "df_transactions1[\"client_id_suffix\"]= df_transactions1.client_id.str.extract(r'_(\\w+)$',expand=True)\n",
    "df_transactions1[\"session_id_prefix\"]= df_transactions1.session_id.str.extract(r'^(\\w+)_',expand=True)"
   ]
  },
  {
   "cell_type": "markdown",
   "metadata": {},
   "source": [
    "On regarde le dataframe. "
   ]
  },
  {
   "cell_type": "code",
   "execution_count": 53,
   "metadata": {},
   "outputs": [
    {
     "data": {
      "text/html": [
       "<div>\n",
       "<style scoped>\n",
       "    .dataframe tbody tr th:only-of-type {\n",
       "        vertical-align: middle;\n",
       "    }\n",
       "\n",
       "    .dataframe tbody tr th {\n",
       "        vertical-align: top;\n",
       "    }\n",
       "\n",
       "    .dataframe thead th {\n",
       "        text-align: right;\n",
       "    }\n",
       "</style>\n",
       "<table border=\"1\" class=\"dataframe\">\n",
       "  <thead>\n",
       "    <tr style=\"text-align: right;\">\n",
       "      <th></th>\n",
       "      <th>id_prod</th>\n",
       "      <th>date</th>\n",
       "      <th>session_id</th>\n",
       "      <th>client_id</th>\n",
       "      <th>client_id_prefix</th>\n",
       "      <th>client_id_suffix</th>\n",
       "      <th>session_id_preifx</th>\n",
       "    </tr>\n",
       "  </thead>\n",
       "  <tbody>\n",
       "    <tr>\n",
       "      <th>0</th>\n",
       "      <td>0_1518</td>\n",
       "      <td>2022-05-20 13:21:29.043970</td>\n",
       "      <td>s_211425</td>\n",
       "      <td>c_103</td>\n",
       "      <td>c</td>\n",
       "      <td>103</td>\n",
       "      <td>s</td>\n",
       "    </tr>\n",
       "    <tr>\n",
       "      <th>1</th>\n",
       "      <td>1_251</td>\n",
       "      <td>2022-02-02 07:55:19.149409</td>\n",
       "      <td>s_158752</td>\n",
       "      <td>c_8534</td>\n",
       "      <td>c</td>\n",
       "      <td>8534</td>\n",
       "      <td>s</td>\n",
       "    </tr>\n",
       "    <tr>\n",
       "      <th>2</th>\n",
       "      <td>0_1277</td>\n",
       "      <td>2022-06-18 15:44:33.155329</td>\n",
       "      <td>s_225667</td>\n",
       "      <td>c_6714</td>\n",
       "      <td>c</td>\n",
       "      <td>6714</td>\n",
       "      <td>s</td>\n",
       "    </tr>\n",
       "    <tr>\n",
       "      <th>3</th>\n",
       "      <td>2_209</td>\n",
       "      <td>2021-06-24 04:19:29.835891</td>\n",
       "      <td>s_52962</td>\n",
       "      <td>c_6941</td>\n",
       "      <td>c</td>\n",
       "      <td>6941</td>\n",
       "      <td>s</td>\n",
       "    </tr>\n",
       "    <tr>\n",
       "      <th>4</th>\n",
       "      <td>0_1509</td>\n",
       "      <td>2023-01-11 08:22:08.194479</td>\n",
       "      <td>s_325227</td>\n",
       "      <td>c_4232</td>\n",
       "      <td>c</td>\n",
       "      <td>4232</td>\n",
       "      <td>s</td>\n",
       "    </tr>\n",
       "  </tbody>\n",
       "</table>\n",
       "</div>"
      ],
      "text/plain": [
       "  id_prod                        date session_id client_id client_id_prefix  \\\n",
       "0  0_1518  2022-05-20 13:21:29.043970   s_211425     c_103                c   \n",
       "1   1_251  2022-02-02 07:55:19.149409   s_158752    c_8534                c   \n",
       "2  0_1277  2022-06-18 15:44:33.155329   s_225667    c_6714                c   \n",
       "3   2_209  2021-06-24 04:19:29.835891    s_52962    c_6941                c   \n",
       "4  0_1509  2023-01-11 08:22:08.194479   s_325227    c_4232                c   \n",
       "\n",
       "  client_id_suffix session_id_preifx  \n",
       "0              103                 s  \n",
       "1             8534                 s  \n",
       "2             6714                 s  \n",
       "3             6941                 s  \n",
       "4             4232                 s  "
      ]
     },
     "execution_count": 53,
     "metadata": {},
     "output_type": "execute_result"
    }
   ],
   "source": [
    "df_transactions1.head()"
   ]
  },
  {
   "cell_type": "markdown",
   "metadata": {},
   "source": [
    "On vérifie pour les valeurs de prefix de client id"
   ]
  },
  {
   "cell_type": "code",
   "execution_count": 57,
   "metadata": {},
   "outputs": [
    {
     "data": {
      "text/plain": [
       "\"Valeurs pour le prefix de 'client_id' : ['c' 'ct'], pour 'session_id' : ['s'] \""
      ]
     },
     "execution_count": 57,
     "metadata": {},
     "output_type": "execute_result"
    }
   ],
   "source": [
    "\"Valeurs pour le prefix de 'client_id' : {}, pour 'session_id' : {} \".format(df_transactions1.client_id_prefix.unique(), df_transactions1.session_id_prefix.unique())"
   ]
  },
  {
   "cell_type": "markdown",
   "metadata": {},
   "source": [
    "On constate qu'il y a deux valeurs de prefixe dans \"id_client\", une seule pour 'session_id' \\\n",
    "Je sélectionne les lignes avec le prefixe de 'ct' dans \"id_client\"."
   ]
  },
  {
   "cell_type": "code",
   "execution_count": 16,
   "metadata": {},
   "outputs": [
    {
     "data": {
      "text/html": [
       "<div>\n",
       "<style scoped>\n",
       "    .dataframe tbody tr th:only-of-type {\n",
       "        vertical-align: middle;\n",
       "    }\n",
       "\n",
       "    .dataframe tbody tr th {\n",
       "        vertical-align: top;\n",
       "    }\n",
       "\n",
       "    .dataframe thead th {\n",
       "        text-align: right;\n",
       "    }\n",
       "</style>\n",
       "<table border=\"1\" class=\"dataframe\">\n",
       "  <thead>\n",
       "    <tr style=\"text-align: right;\">\n",
       "      <th></th>\n",
       "      <th>id_prod</th>\n",
       "      <th>date</th>\n",
       "      <th>session_id</th>\n",
       "      <th>client_id</th>\n",
       "      <th>client_id_prefix</th>\n",
       "      <th>client_id_suffix</th>\n",
       "      <th>session_id_prefix</th>\n",
       "    </tr>\n",
       "  </thead>\n",
       "  <tbody>\n",
       "    <tr>\n",
       "      <th>3019</th>\n",
       "      <td>T_0</td>\n",
       "      <td>test_2021-03-01 02:30:02.237419</td>\n",
       "      <td>s_0</td>\n",
       "      <td>ct_0</td>\n",
       "      <td>ct</td>\n",
       "      <td>0</td>\n",
       "      <td>s</td>\n",
       "    </tr>\n",
       "    <tr>\n",
       "      <th>5138</th>\n",
       "      <td>T_0</td>\n",
       "      <td>test_2021-03-01 02:30:02.237425</td>\n",
       "      <td>s_0</td>\n",
       "      <td>ct_0</td>\n",
       "      <td>ct</td>\n",
       "      <td>0</td>\n",
       "      <td>s</td>\n",
       "    </tr>\n",
       "    <tr>\n",
       "      <th>9668</th>\n",
       "      <td>T_0</td>\n",
       "      <td>test_2021-03-01 02:30:02.237437</td>\n",
       "      <td>s_0</td>\n",
       "      <td>ct_1</td>\n",
       "      <td>ct</td>\n",
       "      <td>1</td>\n",
       "      <td>s</td>\n",
       "    </tr>\n",
       "    <tr>\n",
       "      <th>10728</th>\n",
       "      <td>T_0</td>\n",
       "      <td>test_2021-03-01 02:30:02.237436</td>\n",
       "      <td>s_0</td>\n",
       "      <td>ct_0</td>\n",
       "      <td>ct</td>\n",
       "      <td>0</td>\n",
       "      <td>s</td>\n",
       "    </tr>\n",
       "    <tr>\n",
       "      <th>15292</th>\n",
       "      <td>T_0</td>\n",
       "      <td>test_2021-03-01 02:30:02.237430</td>\n",
       "      <td>s_0</td>\n",
       "      <td>ct_0</td>\n",
       "      <td>ct</td>\n",
       "      <td>0</td>\n",
       "      <td>s</td>\n",
       "    </tr>\n",
       "  </tbody>\n",
       "</table>\n",
       "</div>"
      ],
      "text/plain": [
       "      id_prod                             date session_id client_id  \\\n",
       "3019      T_0  test_2021-03-01 02:30:02.237419        s_0      ct_0   \n",
       "5138      T_0  test_2021-03-01 02:30:02.237425        s_0      ct_0   \n",
       "9668      T_0  test_2021-03-01 02:30:02.237437        s_0      ct_1   \n",
       "10728     T_0  test_2021-03-01 02:30:02.237436        s_0      ct_0   \n",
       "15292     T_0  test_2021-03-01 02:30:02.237430        s_0      ct_0   \n",
       "\n",
       "      client_id_prefix client_id_suffix session_id_prefix  \n",
       "3019                ct                0                 s  \n",
       "5138                ct                0                 s  \n",
       "9668                ct                1                 s  \n",
       "10728               ct                0                 s  \n",
       "15292               ct                0                 s  "
      ]
     },
     "execution_count": 16,
     "metadata": {},
     "output_type": "execute_result"
    }
   ],
   "source": [
    "mask_ct = df_transactions1.client_id_prefix.eq(\"ct\")\n",
    "df_transactions1[mask_ct].head()"
   ]
  },
  {
   "cell_type": "markdown",
   "metadata": {},
   "source": [
    "On constate que les données dans **\"date\"** sont avec le mot **\"test\"**  lorsqu'on choisit les données qui ont le prefix \"ct\" dans \"client_id\". </br> \n",
    "Et on trouve qu'il y a le même \"id_prod\" comme \"T_0\" et pareil pour \"session_id\" avec \"s_0\".</br> \n",
    "#### Combien de lignes ont le client prefixé avec 'ct' ?"
   ]
  },
  {
   "cell_type": "code",
   "execution_count": 17,
   "metadata": {},
   "outputs": [
    {
     "data": {
      "text/html": [
       "<div>\n",
       "<style scoped>\n",
       "    .dataframe tbody tr th:only-of-type {\n",
       "        vertical-align: middle;\n",
       "    }\n",
       "\n",
       "    .dataframe tbody tr th {\n",
       "        vertical-align: top;\n",
       "    }\n",
       "\n",
       "    .dataframe thead th {\n",
       "        text-align: right;\n",
       "    }\n",
       "</style>\n",
       "<table border=\"1\" class=\"dataframe\">\n",
       "  <thead>\n",
       "    <tr style=\"text-align: right;\">\n",
       "      <th></th>\n",
       "      <th>client_id_prefix</th>\n",
       "      <th>cnt</th>\n",
       "    </tr>\n",
       "  </thead>\n",
       "  <tbody>\n",
       "    <tr>\n",
       "      <th>0</th>\n",
       "      <td>c</td>\n",
       "      <td>679332</td>\n",
       "    </tr>\n",
       "    <tr>\n",
       "      <th>1</th>\n",
       "      <td>ct</td>\n",
       "      <td>200</td>\n",
       "    </tr>\n",
       "  </tbody>\n",
       "</table>\n",
       "</div>"
      ],
      "text/plain": [
       "  client_id_prefix     cnt\n",
       "0                c  679332\n",
       "1               ct     200"
      ]
     },
     "execution_count": 17,
     "metadata": {},
     "output_type": "execute_result"
    }
   ],
   "source": [
    "df_transactions1.groupby('client_id_prefix').agg({'client_id_suffix' : 'count'}).reset_index().rename({'client_id_suffix' : 'cnt'},axis=\"columns\")"
   ]
  },
  {
   "cell_type": "markdown",
   "metadata": {},
   "source": [
    "Il y a 200 lignes avec la valeur \"test\".\\\n",
    "Maintenant, on va vérifier que le nombre des donnés avec le mot \" test\" dans le column \"date\" , les données avec le mot \"T_0\" dans \"id_prod\" et les données avec le préfixe \" ct\" dans \" id_client\" sont total 200 qui correspondent au résultat qu'on vient de detecter. "
   ]
  },
  {
   "cell_type": "code",
   "execution_count": 17,
   "metadata": {},
   "outputs": [
    {
     "name": "stdout",
     "output_type": "stream",
     "text": [
      "Nombre de lignes:\n",
      "\tAvec valeur 'test' dans la colonne 'date' :200\n",
      "\tAvec valeur 'T_0' dans la colonne 'id_prod' :200\n",
      "\tAvec valeur 'ct' dans la colonne 'client_id' :200\n",
      "\tAvec valeur 's_0' dans la colonne 'session_id' :200\n",
      "- Nombre de lignes de tests : 200\n"
     ]
    }
   ],
   "source": [
    "nb_test_rows = (df_transactions.date.str.startswith('test') & df_transactions.client_id.str.startswith(\"ct\") & df_transactions.id_prod.eq(\"T_0\") & df_transactions.session_id.eq(\"s_0\")).sum()\n",
    "\n",
    "print(os.linesep.join([\"Nombre de lignes:\", \n",
    "    \"\\tAvec valeur 'test' dans la colonne 'date' :\" + str(df_transactions.date.str.startswith(\"test\").sum()) ,  \n",
    "    \"\\tAvec valeur 'T_0' dans la colonne 'id_prod' :\" + str(df_transactions.id_prod.str.startswith(\"T_0\").sum()),\n",
    "     \"\\tAvec valeur 'ct' dans la colonne 'client_id' :\" + str(df_transactions.client_id.str.startswith(\"ct\").sum()),\n",
    "      \"\\tAvec valeur 's_0' dans la colonne 'session_id' :\" + str(df_transactions.session_id.str.startswith(\"s_0\").sum()),\n",
    "     \"- Nombre de lignes de tests : \" + str(nb_test_rows) ]\n",
    "    )\n",
    ")"
   ]
  },
  {
   "cell_type": "markdown",
   "metadata": {},
   "source": [
    "On peut donc conclure que ces lignes sont des lignes de test ( les valeurs aberrants) et donc doivent être nettoyés du jeu de données."
   ]
  },
  {
   "cell_type": "markdown",
   "metadata": {},
   "source": [
    "### Suppression des lignes de tests"
   ]
  },
  {
   "cell_type": "markdown",
   "metadata": {},
   "source": [
    "Je vérifie d'abord  dans le fichier \" df_customers\". \n",
    "Avec le prefix \"ct\", je trouve deux données, ce sont \"ct_0\" et \"ct_1\" qui répresentent le testeur femme et le testeur homme. "
   ]
  },
  {
   "cell_type": "code",
   "execution_count": 18,
   "metadata": {},
   "outputs": [
    {
     "data": {
      "text/plain": [
       "\"Nombre de lignes avec 'ct' : 2\""
      ]
     },
     "execution_count": 18,
     "metadata": {},
     "output_type": "execute_result"
    }
   ],
   "source": [
    "c_test= df_customers.client_id.str.startswith(\"ct\")\n",
    "\"Nombre de lignes avec 'ct' : {}\".format(df_customers[c_test].shape[0])"
   ]
  },
  {
   "cell_type": "markdown",
   "metadata": {},
   "source": [
    "Je supprime les données de test dans le ficher \"df_customers\""
   ]
  },
  {
   "cell_type": "code",
   "execution_count": 19,
   "metadata": {},
   "outputs": [
    {
     "data": {
      "text/plain": [
       "(8621, 3)"
      ]
     },
     "execution_count": 19,
     "metadata": {},
     "output_type": "execute_result"
    }
   ],
   "source": [
    "df_customers = df_customers[df_customers[\"client_id\"].str.startswith(\"ct\")==False]\n",
    "df_customers.shape"
   ]
  },
  {
   "cell_type": "markdown",
   "metadata": {},
   "source": [
    "Pour le fichier \" df_products\", combien il y a des lignes avec \"T_0\" dans le colonne \"id_prod\"?  "
   ]
  },
  {
   "cell_type": "code",
   "execution_count": 20,
   "metadata": {},
   "outputs": [
    {
     "data": {
      "text/plain": [
       "\"Nombre de lignes avec 'T_0' : 1\""
      ]
     },
     "execution_count": 20,
     "metadata": {},
     "output_type": "execute_result"
    }
   ],
   "source": [
    "c_test= df_products.id_prod.eq(\"T_0\")\n",
    "\"Nombre de lignes avec 'T_0' : {}\".format(df_products[c_test].shape[0])"
   ]
  },
  {
   "cell_type": "markdown",
   "metadata": {},
   "source": [
    "Je supprime les données de test dans le ficher df_products"
   ]
  },
  {
   "cell_type": "code",
   "execution_count": 21,
   "metadata": {},
   "outputs": [
    {
     "data": {
      "text/plain": [
       "(3286, 3)"
      ]
     },
     "execution_count": 21,
     "metadata": {},
     "output_type": "execute_result"
    }
   ],
   "source": [
    "df_products = df_products[df_products[\"id_prod\"].eq(\"T_0\")==False]\n",
    "df_products.shape"
   ]
  },
  {
   "cell_type": "markdown",
   "metadata": {},
   "source": [
    "Je supprime les données de test dans le ficher df_transaction"
   ]
  },
  {
   "cell_type": "code",
   "execution_count": 22,
   "metadata": {},
   "outputs": [
    {
     "data": {
      "text/plain": [
       "(679332, 4)"
      ]
     },
     "execution_count": 22,
     "metadata": {},
     "output_type": "execute_result"
    }
   ],
   "source": [
    "mask_test = -df_transactions.client_id.str.startswith(\"ct\")\n",
    "df_transactions = df_transactions[mask_test]\n",
    "df_transactions.shape"
   ]
  },
  {
   "cell_type": "markdown",
   "metadata": {},
   "source": [
    "À ce stade, lors de notre exploration, Je constate qu'il y a des données de test dans trois fichiers, 200 lignes dans transactions, une ligne dans products et deux lignes dans customers.\n",
    "J'ai supprimé ces lignes de test. \\\n",
    "On va maintenant s'intéresser à la date des transactions."
   ]
  },
  {
   "cell_type": "markdown",
   "metadata": {},
   "source": [
    "### Sur combien le temps se trouve les données de transactions?\n",
    "Je vérifie la date min et maximum pour le fichier df_transactions afin de savoir la portée dans le temps."
   ]
  },
  {
   "cell_type": "code",
   "execution_count": 23,
   "metadata": {},
   "outputs": [
    {
     "data": {
      "text/plain": [
       "('2021-03-01 00:01:07.843138', '2023-02-28 23:58:30.792755')"
      ]
     },
     "execution_count": 23,
     "metadata": {},
     "output_type": "execute_result"
    }
   ],
   "source": [
    "df_transactions.date.min(),df_transactions.date.max()"
   ]
  },
  {
   "cell_type": "markdown",
   "metadata": {},
   "source": [
    "Notre point temporel est fixé en 2023 et la plage de temps des données que nous voulons analyser va du 1er mars 2021 au 28 février 2023.\\\n",
    "Un total de deux ans\n",
    "\n",
    "### Fusionner les données\n",
    "On va fusionner les trois fichiers  pour une analyse ultérieure"
   ]
  },
  {
   "cell_type": "code",
   "execution_count": 30,
   "metadata": {},
   "outputs": [
    {
     "data": {
      "text/html": [
       "<div>\n",
       "<style scoped>\n",
       "    .dataframe tbody tr th:only-of-type {\n",
       "        vertical-align: middle;\n",
       "    }\n",
       "\n",
       "    .dataframe tbody tr th {\n",
       "        vertical-align: top;\n",
       "    }\n",
       "\n",
       "    .dataframe thead th {\n",
       "        text-align: right;\n",
       "    }\n",
       "</style>\n",
       "<table border=\"1\" class=\"dataframe\">\n",
       "  <thead>\n",
       "    <tr style=\"text-align: right;\">\n",
       "      <th></th>\n",
       "      <th>id_prod</th>\n",
       "      <th>date</th>\n",
       "      <th>session_id</th>\n",
       "      <th>client_id</th>\n",
       "      <th>price</th>\n",
       "      <th>categ</th>\n",
       "      <th>sex</th>\n",
       "      <th>birth</th>\n",
       "    </tr>\n",
       "  </thead>\n",
       "  <tbody>\n",
       "    <tr>\n",
       "      <th>0</th>\n",
       "      <td>0_1518</td>\n",
       "      <td>2022-05-20 13:21:29.043970</td>\n",
       "      <td>s_211425</td>\n",
       "      <td>c_103</td>\n",
       "      <td>4.18</td>\n",
       "      <td>0</td>\n",
       "      <td>f</td>\n",
       "      <td>1986</td>\n",
       "    </tr>\n",
       "    <tr>\n",
       "      <th>1</th>\n",
       "      <td>0_1518</td>\n",
       "      <td>2021-07-20 13:21:29.043970</td>\n",
       "      <td>s_64849</td>\n",
       "      <td>c_103</td>\n",
       "      <td>4.18</td>\n",
       "      <td>0</td>\n",
       "      <td>f</td>\n",
       "      <td>1986</td>\n",
       "    </tr>\n",
       "    <tr>\n",
       "      <th>2</th>\n",
       "      <td>0_1518</td>\n",
       "      <td>2022-08-20 13:21:29.043970</td>\n",
       "      <td>s_255965</td>\n",
       "      <td>c_103</td>\n",
       "      <td>4.18</td>\n",
       "      <td>0</td>\n",
       "      <td>f</td>\n",
       "      <td>1986</td>\n",
       "    </tr>\n",
       "    <tr>\n",
       "      <th>3</th>\n",
       "      <td>0_1418</td>\n",
       "      <td>2022-06-18 01:49:37.823274</td>\n",
       "      <td>s_225411</td>\n",
       "      <td>c_103</td>\n",
       "      <td>8.57</td>\n",
       "      <td>0</td>\n",
       "      <td>f</td>\n",
       "      <td>1986</td>\n",
       "    </tr>\n",
       "    <tr>\n",
       "      <th>4</th>\n",
       "      <td>0_1418</td>\n",
       "      <td>2021-08-18 01:49:37.823274</td>\n",
       "      <td>s_77214</td>\n",
       "      <td>c_103</td>\n",
       "      <td>8.57</td>\n",
       "      <td>0</td>\n",
       "      <td>f</td>\n",
       "      <td>1986</td>\n",
       "    </tr>\n",
       "  </tbody>\n",
       "</table>\n",
       "</div>"
      ],
      "text/plain": [
       "  id_prod                        date session_id client_id  price  categ sex  \\\n",
       "0  0_1518  2022-05-20 13:21:29.043970   s_211425     c_103   4.18      0   f   \n",
       "1  0_1518  2021-07-20 13:21:29.043970    s_64849     c_103   4.18      0   f   \n",
       "2  0_1518  2022-08-20 13:21:29.043970   s_255965     c_103   4.18      0   f   \n",
       "3  0_1418  2022-06-18 01:49:37.823274   s_225411     c_103   8.57      0   f   \n",
       "4  0_1418  2021-08-18 01:49:37.823274    s_77214     c_103   8.57      0   f   \n",
       "\n",
       "   birth  \n",
       "0   1986  \n",
       "1   1986  \n",
       "2   1986  \n",
       "3   1986  \n",
       "4   1986  "
      ]
     },
     "execution_count": 30,
     "metadata": {},
     "output_type": "execute_result"
    }
   ],
   "source": [
    "#merge transactions et products\n",
    "df_merged = pd.merge(df_transactions, df_products, on=['id_prod'])\n",
    "#merge df_merged & customers\n",
    "troisfichier = pd.merge(df_merged, df_customers, on=['client_id'])\n",
    "troisfichier.head()"
   ]
  },
  {
   "cell_type": "code",
   "execution_count": 135,
   "metadata": {},
   "outputs": [
    {
     "data": {
      "text/plain": [
       "['transactions : 679332', 'troisfichier : 679111']"
      ]
     },
     "execution_count": 135,
     "metadata": {},
     "output_type": "execute_result"
    }
   ],
   "source": [
    "m_list = [ \"transactions : \" + str(df_transactions.shape[0]), \"troisfichier : \" + str(troisfichier.shape[0]) ]\n",
    "m_list"
   ]
  },
  {
   "cell_type": "markdown",
   "metadata": {},
   "source": [
    "Comme vous pouvez le voir ici, après la fusion des trois fichiers, le nombre total de lignes est passé de **679111**. </br> \n",
    "Il y a soit **221** données de moins par rapport au nombre de lignes dans le fchier transaction.\n",
    "#### Quelles sont les 221 données qui ont disparus de transactions?\n"
   ]
  },
  {
   "cell_type": "markdown",
   "metadata": {},
   "source": [
    "La fusion précédente est une jointure interne (inner join), les lignes qui n'ont pas de correspondance entre les tables sont supprimées.</br> \n",
    "*Ex: Si un produit n'est jamais vendu, il n'apparaît pas dans la table transactions, donc elle est supprimée dans le merge. </br> \n",
    "Aussi, si une transaction est fait sur un produit inconnu, elle sera aussi supprimée* </br> \n",
    "Ici, je l'ai changé en jointure externe (outer join) pour garder toutes les données dans le merge."
   ]
  },
  {
   "cell_type": "code",
   "execution_count": 27,
   "metadata": {},
   "outputs": [
    {
     "data": {
      "text/html": [
       "<div>\n",
       "<style scoped>\n",
       "    .dataframe tbody tr th:only-of-type {\n",
       "        vertical-align: middle;\n",
       "    }\n",
       "\n",
       "    .dataframe tbody tr th {\n",
       "        vertical-align: top;\n",
       "    }\n",
       "\n",
       "    .dataframe thead th {\n",
       "        text-align: right;\n",
       "    }\n",
       "</style>\n",
       "<table border=\"1\" class=\"dataframe\">\n",
       "  <thead>\n",
       "    <tr style=\"text-align: right;\">\n",
       "      <th></th>\n",
       "      <th>id_prod</th>\n",
       "      <th>date</th>\n",
       "      <th>session_id</th>\n",
       "      <th>client_id</th>\n",
       "      <th>price</th>\n",
       "      <th>categ</th>\n",
       "      <th>sex</th>\n",
       "      <th>birth</th>\n",
       "    </tr>\n",
       "  </thead>\n",
       "  <tbody>\n",
       "    <tr>\n",
       "      <th>0</th>\n",
       "      <td>0_1518</td>\n",
       "      <td>2022-05-20 13:21:29.043970</td>\n",
       "      <td>s_211425</td>\n",
       "      <td>c_103</td>\n",
       "      <td>4.18</td>\n",
       "      <td>0.0</td>\n",
       "      <td>f</td>\n",
       "      <td>1986.0</td>\n",
       "    </tr>\n",
       "    <tr>\n",
       "      <th>1</th>\n",
       "      <td>0_1518</td>\n",
       "      <td>2021-07-20 13:21:29.043970</td>\n",
       "      <td>s_64849</td>\n",
       "      <td>c_103</td>\n",
       "      <td>4.18</td>\n",
       "      <td>0.0</td>\n",
       "      <td>f</td>\n",
       "      <td>1986.0</td>\n",
       "    </tr>\n",
       "  </tbody>\n",
       "</table>\n",
       "</div>"
      ],
      "text/plain": [
       "  id_prod                        date session_id client_id  price  categ sex  \\\n",
       "0  0_1518  2022-05-20 13:21:29.043970   s_211425     c_103   4.18    0.0   f   \n",
       "1  0_1518  2021-07-20 13:21:29.043970    s_64849     c_103   4.18    0.0   f   \n",
       "\n",
       "    birth  \n",
       "0  1986.0  \n",
       "1  1986.0  "
      ]
     },
     "execution_count": 27,
     "metadata": {},
     "output_type": "execute_result"
    }
   ],
   "source": [
    "#merge transactions et products par outer join\n",
    "df_merged = pd.merge(df_transactions, df_products, on=['id_prod'],how='outer')\n",
    "#merge df_merged & customers par outer join\n",
    "troisfichier_outerjoin = pd.merge(df_merged, df_customers, on=['client_id'],how='outer')\n",
    "troisfichier_outerjoin.head(2)"
   ]
  },
  {
   "cell_type": "code",
   "execution_count": 137,
   "metadata": {},
   "outputs": [
    {
     "data": {
      "text/plain": [
       "'Nombre de lignes: dans transactions : 679332 , merge avec inner join : 679111 , merge avec outer join : 679374'"
      ]
     },
     "execution_count": 137,
     "metadata": {},
     "output_type": "execute_result"
    }
   ],
   "source": [
    "\"Nombre de lignes: dans transactions : {} , merge avec inner join : {} , merge avec outer join : {}\".format(df_transactions.shape[0],troisfichier.shape[0],troisfichier_outerjoin.shape[0])"
   ]
  },
  {
   "cell_type": "markdown",
   "metadata": {},
   "source": [
    "On a plus de lignes dans troisfichiers de outer join. "
   ]
  },
  {
   "cell_type": "markdown",
   "metadata": {},
   "source": [
    "### Quelles sont les lignes avec des valeurs nulles dans \"troisfichier_outerjoin\"? \n",
    "\n",
    "Il peut y avoir trois raisons qui expliquent la presence de valeurs nulles:\n",
    "- Si un produit n' est pas présent dans transactions ( il n'a jamais été vendu).\n",
    "- Si un client n'est pas présent dans transactions ( il n'a jamais fait d'achat).\n",
    "- Si un product id est renseigné dans une transaction, mais est n'existe pas dans le fichier 'products'.\n"
   ]
  },
  {
   "cell_type": "code",
   "execution_count": 138,
   "metadata": {},
   "outputs": [
    {
     "data": {
      "text/html": [
       "<div>\n",
       "<style scoped>\n",
       "    .dataframe tbody tr th:only-of-type {\n",
       "        vertical-align: middle;\n",
       "    }\n",
       "\n",
       "    .dataframe tbody tr th {\n",
       "        vertical-align: top;\n",
       "    }\n",
       "\n",
       "    .dataframe thead th {\n",
       "        text-align: right;\n",
       "    }\n",
       "</style>\n",
       "<table border=\"1\" class=\"dataframe\">\n",
       "  <thead>\n",
       "    <tr style=\"text-align: right;\">\n",
       "      <th></th>\n",
       "      <th>id_prod</th>\n",
       "      <th>date</th>\n",
       "      <th>session_id</th>\n",
       "      <th>client_id</th>\n",
       "      <th>price</th>\n",
       "      <th>categ</th>\n",
       "      <th>sex</th>\n",
       "      <th>birth</th>\n",
       "    </tr>\n",
       "  </thead>\n",
       "  <tbody>\n",
       "    <tr>\n",
       "      <th>37861</th>\n",
       "      <td>0_2245</td>\n",
       "      <td>2021-04-22 04:57:20.090378</td>\n",
       "      <td>s_23987</td>\n",
       "      <td>c_6714</td>\n",
       "      <td>NaN</td>\n",
       "      <td>NaN</td>\n",
       "      <td>f</td>\n",
       "      <td>1968.0</td>\n",
       "    </tr>\n",
       "    <tr>\n",
       "      <th>37862</th>\n",
       "      <td>0_2245</td>\n",
       "      <td>2021-06-05 17:04:43.982913</td>\n",
       "      <td>s_44481</td>\n",
       "      <td>c_6714</td>\n",
       "      <td>NaN</td>\n",
       "      <td>NaN</td>\n",
       "      <td>f</td>\n",
       "      <td>1968.0</td>\n",
       "    </tr>\n",
       "    <tr>\n",
       "      <th>37863</th>\n",
       "      <td>0_2245</td>\n",
       "      <td>2022-04-05 17:04:43.982913</td>\n",
       "      <td>s_189669</td>\n",
       "      <td>c_6714</td>\n",
       "      <td>NaN</td>\n",
       "      <td>NaN</td>\n",
       "      <td>f</td>\n",
       "      <td>1968.0</td>\n",
       "    </tr>\n",
       "    <tr>\n",
       "      <th>37864</th>\n",
       "      <td>0_2245</td>\n",
       "      <td>2022-05-05 17:04:43.982913</td>\n",
       "      <td>s_204093</td>\n",
       "      <td>c_6714</td>\n",
       "      <td>NaN</td>\n",
       "      <td>NaN</td>\n",
       "      <td>f</td>\n",
       "      <td>1968.0</td>\n",
       "    </tr>\n",
       "    <tr>\n",
       "      <th>37865</th>\n",
       "      <td>0_2245</td>\n",
       "      <td>2022-12-05 17:04:43.982913</td>\n",
       "      <td>s_307520</td>\n",
       "      <td>c_6714</td>\n",
       "      <td>NaN</td>\n",
       "      <td>NaN</td>\n",
       "      <td>f</td>\n",
       "      <td>1968.0</td>\n",
       "    </tr>\n",
       "    <tr>\n",
       "      <th>...</th>\n",
       "      <td>...</td>\n",
       "      <td>...</td>\n",
       "      <td>...</td>\n",
       "      <td>...</td>\n",
       "      <td>...</td>\n",
       "      <td>...</td>\n",
       "      <td>...</td>\n",
       "      <td>...</td>\n",
       "    </tr>\n",
       "    <tr>\n",
       "      <th>679369</th>\n",
       "      <td>NaN</td>\n",
       "      <td>NaN</td>\n",
       "      <td>NaN</td>\n",
       "      <td>c_862</td>\n",
       "      <td>NaN</td>\n",
       "      <td>NaN</td>\n",
       "      <td>f</td>\n",
       "      <td>1956.0</td>\n",
       "    </tr>\n",
       "    <tr>\n",
       "      <th>679370</th>\n",
       "      <td>NaN</td>\n",
       "      <td>NaN</td>\n",
       "      <td>NaN</td>\n",
       "      <td>c_7584</td>\n",
       "      <td>NaN</td>\n",
       "      <td>NaN</td>\n",
       "      <td>f</td>\n",
       "      <td>1960.0</td>\n",
       "    </tr>\n",
       "    <tr>\n",
       "      <th>679371</th>\n",
       "      <td>NaN</td>\n",
       "      <td>NaN</td>\n",
       "      <td>NaN</td>\n",
       "      <td>c_90</td>\n",
       "      <td>NaN</td>\n",
       "      <td>NaN</td>\n",
       "      <td>m</td>\n",
       "      <td>2001.0</td>\n",
       "    </tr>\n",
       "    <tr>\n",
       "      <th>679372</th>\n",
       "      <td>NaN</td>\n",
       "      <td>NaN</td>\n",
       "      <td>NaN</td>\n",
       "      <td>c_587</td>\n",
       "      <td>NaN</td>\n",
       "      <td>NaN</td>\n",
       "      <td>m</td>\n",
       "      <td>1993.0</td>\n",
       "    </tr>\n",
       "    <tr>\n",
       "      <th>679373</th>\n",
       "      <td>NaN</td>\n",
       "      <td>NaN</td>\n",
       "      <td>NaN</td>\n",
       "      <td>c_3526</td>\n",
       "      <td>NaN</td>\n",
       "      <td>NaN</td>\n",
       "      <td>m</td>\n",
       "      <td>1956.0</td>\n",
       "    </tr>\n",
       "  </tbody>\n",
       "</table>\n",
       "<p>263 rows × 8 columns</p>\n",
       "</div>"
      ],
      "text/plain": [
       "       id_prod                        date session_id client_id  price  categ  \\\n",
       "37861   0_2245  2021-04-22 04:57:20.090378    s_23987    c_6714    NaN    NaN   \n",
       "37862   0_2245  2021-06-05 17:04:43.982913    s_44481    c_6714    NaN    NaN   \n",
       "37863   0_2245  2022-04-05 17:04:43.982913   s_189669    c_6714    NaN    NaN   \n",
       "37864   0_2245  2022-05-05 17:04:43.982913   s_204093    c_6714    NaN    NaN   \n",
       "37865   0_2245  2022-12-05 17:04:43.982913   s_307520    c_6714    NaN    NaN   \n",
       "...        ...                         ...        ...       ...    ...    ...   \n",
       "679369     NaN                         NaN        NaN     c_862    NaN    NaN   \n",
       "679370     NaN                         NaN        NaN    c_7584    NaN    NaN   \n",
       "679371     NaN                         NaN        NaN      c_90    NaN    NaN   \n",
       "679372     NaN                         NaN        NaN     c_587    NaN    NaN   \n",
       "679373     NaN                         NaN        NaN    c_3526    NaN    NaN   \n",
       "\n",
       "       sex   birth  \n",
       "37861    f  1968.0  \n",
       "37862    f  1968.0  \n",
       "37863    f  1968.0  \n",
       "37864    f  1968.0  \n",
       "37865    f  1968.0  \n",
       "...     ..     ...  \n",
       "679369   f  1956.0  \n",
       "679370   f  1960.0  \n",
       "679371   m  2001.0  \n",
       "679372   m  1993.0  \n",
       "679373   m  1956.0  \n",
       "\n",
       "[263 rows x 8 columns]"
      ]
     },
     "execution_count": 138,
     "metadata": {},
     "output_type": "execute_result"
    }
   ],
   "source": [
    "valeursnulles= troisfichier_outerjoin[troisfichier_outerjoin.isna().any(axis=1)]\n",
    "valeursnulles"
   ]
  },
  {
   "cell_type": "code",
   "execution_count": 140,
   "metadata": {},
   "outputs": [
    {
     "data": {
      "text/plain": [
       "'Nombre de lignes avec valeurs nulles après outer join  : 263'"
      ]
     },
     "execution_count": 140,
     "metadata": {},
     "output_type": "execute_result"
    }
   ],
   "source": [
    "\"Nombre de lignes avec valeurs nulles après outer join  : {}\".format(valeursnulles.shape[0])"
   ]
  },
  {
   "cell_type": "markdown",
   "metadata": {},
   "source": [
    "Regardons en détails où se trouvent les valeurs nulles?  "
   ]
  },
  {
   "cell_type": "code",
   "execution_count": 139,
   "metadata": {},
   "outputs": [
    {
     "data": {
      "text/plain": [
       "id_prod        21\n",
       "date           42\n",
       "session_id     42\n",
       "client_id      21\n",
       "price         242\n",
       "categ         242\n",
       "sex            21\n",
       "birth          21\n",
       "dtype: int64"
      ]
     },
     "execution_count": 139,
     "metadata": {},
     "output_type": "execute_result"
    }
   ],
   "source": [
    "troisfichier_outerjoin.isnull().sum()"
   ]
  },
  {
   "cell_type": "markdown",
   "metadata": {},
   "source": [
    "J'extrait les données avec l'id_prod de valeur nulle.\n",
    "\n",
    "#### Quels sont les clients qui n' ont pas effectué d'achat?\n",
    "Si un client n'a pas effectué d'achat, on obtiendra des lignes avec un id_prod nul."
   ]
  },
  {
   "cell_type": "code",
   "execution_count": 141,
   "metadata": {},
   "outputs": [
    {
     "data": {
      "text/html": [
       "<div>\n",
       "<style scoped>\n",
       "    .dataframe tbody tr th:only-of-type {\n",
       "        vertical-align: middle;\n",
       "    }\n",
       "\n",
       "    .dataframe tbody tr th {\n",
       "        vertical-align: top;\n",
       "    }\n",
       "\n",
       "    .dataframe thead th {\n",
       "        text-align: right;\n",
       "    }\n",
       "</style>\n",
       "<table border=\"1\" class=\"dataframe\">\n",
       "  <thead>\n",
       "    <tr style=\"text-align: right;\">\n",
       "      <th></th>\n",
       "      <th>id_prod</th>\n",
       "      <th>date</th>\n",
       "      <th>session_id</th>\n",
       "      <th>client_id</th>\n",
       "      <th>price</th>\n",
       "      <th>categ</th>\n",
       "      <th>sex</th>\n",
       "      <th>birth</th>\n",
       "    </tr>\n",
       "  </thead>\n",
       "  <tbody>\n",
       "    <tr>\n",
       "      <th>679353</th>\n",
       "      <td>NaN</td>\n",
       "      <td>NaN</td>\n",
       "      <td>NaN</td>\n",
       "      <td>c_8253</td>\n",
       "      <td>NaN</td>\n",
       "      <td>NaN</td>\n",
       "      <td>f</td>\n",
       "      <td>2001.0</td>\n",
       "    </tr>\n",
       "    <tr>\n",
       "      <th>679354</th>\n",
       "      <td>NaN</td>\n",
       "      <td>NaN</td>\n",
       "      <td>NaN</td>\n",
       "      <td>c_3789</td>\n",
       "      <td>NaN</td>\n",
       "      <td>NaN</td>\n",
       "      <td>f</td>\n",
       "      <td>1997.0</td>\n",
       "    </tr>\n",
       "    <tr>\n",
       "      <th>679355</th>\n",
       "      <td>NaN</td>\n",
       "      <td>NaN</td>\n",
       "      <td>NaN</td>\n",
       "      <td>c_4406</td>\n",
       "      <td>NaN</td>\n",
       "      <td>NaN</td>\n",
       "      <td>f</td>\n",
       "      <td>1998.0</td>\n",
       "    </tr>\n",
       "    <tr>\n",
       "      <th>679356</th>\n",
       "      <td>NaN</td>\n",
       "      <td>NaN</td>\n",
       "      <td>NaN</td>\n",
       "      <td>c_2706</td>\n",
       "      <td>NaN</td>\n",
       "      <td>NaN</td>\n",
       "      <td>f</td>\n",
       "      <td>1967.0</td>\n",
       "    </tr>\n",
       "    <tr>\n",
       "      <th>679357</th>\n",
       "      <td>NaN</td>\n",
       "      <td>NaN</td>\n",
       "      <td>NaN</td>\n",
       "      <td>c_3443</td>\n",
       "      <td>NaN</td>\n",
       "      <td>NaN</td>\n",
       "      <td>m</td>\n",
       "      <td>1959.0</td>\n",
       "    </tr>\n",
       "  </tbody>\n",
       "</table>\n",
       "</div>"
      ],
      "text/plain": [
       "       id_prod date session_id client_id  price  categ sex   birth\n",
       "679353     NaN  NaN        NaN    c_8253    NaN    NaN   f  2001.0\n",
       "679354     NaN  NaN        NaN    c_3789    NaN    NaN   f  1997.0\n",
       "679355     NaN  NaN        NaN    c_4406    NaN    NaN   f  1998.0\n",
       "679356     NaN  NaN        NaN    c_2706    NaN    NaN   f  1967.0\n",
       "679357     NaN  NaN        NaN    c_3443    NaN    NaN   m  1959.0"
      ]
     },
     "execution_count": 141,
     "metadata": {},
     "output_type": "execute_result"
    }
   ],
   "source": [
    "clients_sans_achat=troisfichier_outerjoin[troisfichier_outerjoin.id_prod.isna()] \n",
    "clients_sans_achat.head()"
   ]
  },
  {
   "cell_type": "code",
   "execution_count": 118,
   "metadata": {},
   "outputs": [
    {
     "data": {
      "text/plain": [
       "'Nombre de clients sans achats: 21'"
      ]
     },
     "execution_count": 118,
     "metadata": {},
     "output_type": "execute_result"
    }
   ],
   "source": [
    "\"Nombre de clients sans achats: {}\".format(clients_sans_achat.client_id.unique().shape[0])"
   ]
  },
  {
   "cell_type": "markdown",
   "metadata": {},
   "source": [
    "### Quels sont les produits qui existent dans les transactons, mais pas dans 'products' ? \n",
    "Si un produit existe dans transactions, mais pas dans 'products',  le price aura une valeur null, mais l' id_prod'  sera renseignée."
   ]
  },
  {
   "cell_type": "code",
   "execution_count": 142,
   "metadata": {},
   "outputs": [
    {
     "data": {
      "text/html": [
       "<div>\n",
       "<style scoped>\n",
       "    .dataframe tbody tr th:only-of-type {\n",
       "        vertical-align: middle;\n",
       "    }\n",
       "\n",
       "    .dataframe tbody tr th {\n",
       "        vertical-align: top;\n",
       "    }\n",
       "\n",
       "    .dataframe thead th {\n",
       "        text-align: right;\n",
       "    }\n",
       "</style>\n",
       "<table border=\"1\" class=\"dataframe\">\n",
       "  <thead>\n",
       "    <tr style=\"text-align: right;\">\n",
       "      <th></th>\n",
       "      <th>id_prod</th>\n",
       "      <th>date</th>\n",
       "      <th>session_id</th>\n",
       "      <th>client_id</th>\n",
       "      <th>price</th>\n",
       "      <th>categ</th>\n",
       "      <th>sex</th>\n",
       "      <th>birth</th>\n",
       "    </tr>\n",
       "  </thead>\n",
       "  <tbody>\n",
       "    <tr>\n",
       "      <th>37861</th>\n",
       "      <td>0_2245</td>\n",
       "      <td>2021-04-22 04:57:20.090378</td>\n",
       "      <td>s_23987</td>\n",
       "      <td>c_6714</td>\n",
       "      <td>NaN</td>\n",
       "      <td>NaN</td>\n",
       "      <td>f</td>\n",
       "      <td>1968.0</td>\n",
       "    </tr>\n",
       "    <tr>\n",
       "      <th>37862</th>\n",
       "      <td>0_2245</td>\n",
       "      <td>2021-06-05 17:04:43.982913</td>\n",
       "      <td>s_44481</td>\n",
       "      <td>c_6714</td>\n",
       "      <td>NaN</td>\n",
       "      <td>NaN</td>\n",
       "      <td>f</td>\n",
       "      <td>1968.0</td>\n",
       "    </tr>\n",
       "    <tr>\n",
       "      <th>37863</th>\n",
       "      <td>0_2245</td>\n",
       "      <td>2022-04-05 17:04:43.982913</td>\n",
       "      <td>s_189669</td>\n",
       "      <td>c_6714</td>\n",
       "      <td>NaN</td>\n",
       "      <td>NaN</td>\n",
       "      <td>f</td>\n",
       "      <td>1968.0</td>\n",
       "    </tr>\n",
       "    <tr>\n",
       "      <th>37864</th>\n",
       "      <td>0_2245</td>\n",
       "      <td>2022-05-05 17:04:43.982913</td>\n",
       "      <td>s_204093</td>\n",
       "      <td>c_6714</td>\n",
       "      <td>NaN</td>\n",
       "      <td>NaN</td>\n",
       "      <td>f</td>\n",
       "      <td>1968.0</td>\n",
       "    </tr>\n",
       "    <tr>\n",
       "      <th>37865</th>\n",
       "      <td>0_2245</td>\n",
       "      <td>2022-12-05 17:04:43.982913</td>\n",
       "      <td>s_307520</td>\n",
       "      <td>c_6714</td>\n",
       "      <td>NaN</td>\n",
       "      <td>NaN</td>\n",
       "      <td>f</td>\n",
       "      <td>1968.0</td>\n",
       "    </tr>\n",
       "    <tr>\n",
       "      <th>...</th>\n",
       "      <td>...</td>\n",
       "      <td>...</td>\n",
       "      <td>...</td>\n",
       "      <td>...</td>\n",
       "      <td>...</td>\n",
       "      <td>...</td>\n",
       "      <td>...</td>\n",
       "      <td>...</td>\n",
       "    </tr>\n",
       "    <tr>\n",
       "      <th>654934</th>\n",
       "      <td>0_2245</td>\n",
       "      <td>2021-09-07 20:55:19.719028</td>\n",
       "      <td>s_86505</td>\n",
       "      <td>c_8153</td>\n",
       "      <td>NaN</td>\n",
       "      <td>NaN</td>\n",
       "      <td>f</td>\n",
       "      <td>1975.0</td>\n",
       "    </tr>\n",
       "    <tr>\n",
       "      <th>656406</th>\n",
       "      <td>0_2245</td>\n",
       "      <td>2021-10-20 13:11:05.671456</td>\n",
       "      <td>s_107564</td>\n",
       "      <td>c_1746</td>\n",
       "      <td>NaN</td>\n",
       "      <td>NaN</td>\n",
       "      <td>m</td>\n",
       "      <td>1994.0</td>\n",
       "    </tr>\n",
       "    <tr>\n",
       "      <th>660365</th>\n",
       "      <td>0_2245</td>\n",
       "      <td>2021-04-10 06:15:32.619826</td>\n",
       "      <td>s_18510</td>\n",
       "      <td>c_277</td>\n",
       "      <td>NaN</td>\n",
       "      <td>NaN</td>\n",
       "      <td>f</td>\n",
       "      <td>2000.0</td>\n",
       "    </tr>\n",
       "    <tr>\n",
       "      <th>660366</th>\n",
       "      <td>0_2245</td>\n",
       "      <td>2022-04-10 06:15:32.619826</td>\n",
       "      <td>s_191872</td>\n",
       "      <td>c_277</td>\n",
       "      <td>NaN</td>\n",
       "      <td>NaN</td>\n",
       "      <td>f</td>\n",
       "      <td>2000.0</td>\n",
       "    </tr>\n",
       "    <tr>\n",
       "      <th>660514</th>\n",
       "      <td>0_2245</td>\n",
       "      <td>2021-10-15 09:31:31.539354</td>\n",
       "      <td>s_105069</td>\n",
       "      <td>c_4188</td>\n",
       "      <td>NaN</td>\n",
       "      <td>NaN</td>\n",
       "      <td>f</td>\n",
       "      <td>1935.0</td>\n",
       "    </tr>\n",
       "  </tbody>\n",
       "</table>\n",
       "<p>221 rows × 8 columns</p>\n",
       "</div>"
      ],
      "text/plain": [
       "       id_prod                        date session_id client_id  price  categ  \\\n",
       "37861   0_2245  2021-04-22 04:57:20.090378    s_23987    c_6714    NaN    NaN   \n",
       "37862   0_2245  2021-06-05 17:04:43.982913    s_44481    c_6714    NaN    NaN   \n",
       "37863   0_2245  2022-04-05 17:04:43.982913   s_189669    c_6714    NaN    NaN   \n",
       "37864   0_2245  2022-05-05 17:04:43.982913   s_204093    c_6714    NaN    NaN   \n",
       "37865   0_2245  2022-12-05 17:04:43.982913   s_307520    c_6714    NaN    NaN   \n",
       "...        ...                         ...        ...       ...    ...    ...   \n",
       "654934  0_2245  2021-09-07 20:55:19.719028    s_86505    c_8153    NaN    NaN   \n",
       "656406  0_2245  2021-10-20 13:11:05.671456   s_107564    c_1746    NaN    NaN   \n",
       "660365  0_2245  2021-04-10 06:15:32.619826    s_18510     c_277    NaN    NaN   \n",
       "660366  0_2245  2022-04-10 06:15:32.619826   s_191872     c_277    NaN    NaN   \n",
       "660514  0_2245  2021-10-15 09:31:31.539354   s_105069    c_4188    NaN    NaN   \n",
       "\n",
       "       sex   birth  \n",
       "37861    f  1968.0  \n",
       "37862    f  1968.0  \n",
       "37863    f  1968.0  \n",
       "37864    f  1968.0  \n",
       "37865    f  1968.0  \n",
       "...     ..     ...  \n",
       "654934   f  1975.0  \n",
       "656406   m  1994.0  \n",
       "660365   f  2000.0  \n",
       "660366   f  2000.0  \n",
       "660514   f  1935.0  \n",
       "\n",
       "[221 rows x 8 columns]"
      ]
     },
     "execution_count": 142,
     "metadata": {},
     "output_type": "execute_result"
    }
   ],
   "source": [
    "mask_not_in_products = troisfichier_outerjoin.price.isna() & -troisfichier_outerjoin.id_prod.isna()\n",
    "produitexistpas=troisfichier_outerjoin[mask_not_in_products] # dftp.isna(\"price\") --> isna(dttp, price)\n",
    "produitexistpas"
   ]
  },
  {
   "cell_type": "markdown",
   "metadata": {},
   "source": [
    "Maintenant, on regarde combien il y a de produits différent qui ne sont pas dans products."
   ]
  },
  {
   "cell_type": "code",
   "execution_count": 145,
   "metadata": {},
   "outputs": [
    {
     "data": {
      "text/plain": [
       "\"Liste de produits qui n'existent pas dans 'products': ['0_2245']\""
      ]
     },
     "execution_count": 145,
     "metadata": {},
     "output_type": "execute_result"
    }
   ],
   "source": [
    "\"Liste de produits qui n'existent pas dans 'products': {}\".format(produitexistpas.id_prod.unique())"
   ]
  },
  {
   "cell_type": "markdown",
   "metadata": {},
   "source": [
    "Donc on a seulement un produit qui n'existe pas dans 'products', mais il apparaît 221 fois dans 'transactions'. </br>\n",
    "Ce sont ces 221 lignes de données de 'transactions'  qui ont disparu losqu'on a fait la jointure interne dans le dataframe 'troisfichier'."
   ]
  },
  {
   "cell_type": "markdown",
   "metadata": {},
   "source": [
    "### Quels sont les produits qui n'ont jamais été vendus? "
   ]
  },
  {
   "cell_type": "code",
   "execution_count": 148,
   "metadata": {},
   "outputs": [
    {
     "data": {
      "text/html": [
       "<div>\n",
       "<style scoped>\n",
       "    .dataframe tbody tr th:only-of-type {\n",
       "        vertical-align: middle;\n",
       "    }\n",
       "\n",
       "    .dataframe tbody tr th {\n",
       "        vertical-align: top;\n",
       "    }\n",
       "\n",
       "    .dataframe thead th {\n",
       "        text-align: right;\n",
       "    }\n",
       "</style>\n",
       "<table border=\"1\" class=\"dataframe\">\n",
       "  <thead>\n",
       "    <tr style=\"text-align: right;\">\n",
       "      <th></th>\n",
       "      <th>id_prod</th>\n",
       "      <th>date</th>\n",
       "      <th>session_id</th>\n",
       "      <th>client_id</th>\n",
       "      <th>price</th>\n",
       "      <th>categ</th>\n",
       "      <th>sex</th>\n",
       "      <th>birth</th>\n",
       "    </tr>\n",
       "  </thead>\n",
       "  <tbody>\n",
       "    <tr>\n",
       "      <th>679332</th>\n",
       "      <td>0_1016</td>\n",
       "      <td>NaN</td>\n",
       "      <td>NaN</td>\n",
       "      <td>NaN</td>\n",
       "      <td>35.06</td>\n",
       "      <td>0.0</td>\n",
       "      <td>NaN</td>\n",
       "      <td>NaN</td>\n",
       "    </tr>\n",
       "    <tr>\n",
       "      <th>679333</th>\n",
       "      <td>0_1780</td>\n",
       "      <td>NaN</td>\n",
       "      <td>NaN</td>\n",
       "      <td>NaN</td>\n",
       "      <td>1.67</td>\n",
       "      <td>0.0</td>\n",
       "      <td>NaN</td>\n",
       "      <td>NaN</td>\n",
       "    </tr>\n",
       "    <tr>\n",
       "      <th>679334</th>\n",
       "      <td>0_1062</td>\n",
       "      <td>NaN</td>\n",
       "      <td>NaN</td>\n",
       "      <td>NaN</td>\n",
       "      <td>20.08</td>\n",
       "      <td>0.0</td>\n",
       "      <td>NaN</td>\n",
       "      <td>NaN</td>\n",
       "    </tr>\n",
       "    <tr>\n",
       "      <th>679335</th>\n",
       "      <td>0_1119</td>\n",
       "      <td>NaN</td>\n",
       "      <td>NaN</td>\n",
       "      <td>NaN</td>\n",
       "      <td>2.99</td>\n",
       "      <td>0.0</td>\n",
       "      <td>NaN</td>\n",
       "      <td>NaN</td>\n",
       "    </tr>\n",
       "    <tr>\n",
       "      <th>679336</th>\n",
       "      <td>0_1014</td>\n",
       "      <td>NaN</td>\n",
       "      <td>NaN</td>\n",
       "      <td>NaN</td>\n",
       "      <td>1.15</td>\n",
       "      <td>0.0</td>\n",
       "      <td>NaN</td>\n",
       "      <td>NaN</td>\n",
       "    </tr>\n",
       "  </tbody>\n",
       "</table>\n",
       "</div>"
      ],
      "text/plain": [
       "       id_prod date session_id client_id  price  categ  sex  birth\n",
       "679332  0_1016  NaN        NaN       NaN  35.06    0.0  NaN    NaN\n",
       "679333  0_1780  NaN        NaN       NaN   1.67    0.0  NaN    NaN\n",
       "679334  0_1062  NaN        NaN       NaN  20.08    0.0  NaN    NaN\n",
       "679335  0_1119  NaN        NaN       NaN   2.99    0.0  NaN    NaN\n",
       "679336  0_1014  NaN        NaN       NaN   1.15    0.0  NaN    NaN"
      ]
     },
     "execution_count": 148,
     "metadata": {},
     "output_type": "execute_result"
    }
   ],
   "source": [
    "mask_never_sold= troisfichier_outerjoin.date.isna() & -troisfichier_outerjoin.id_prod.isna()\n",
    "jamaisvendu= troisfichier_outerjoin[mask_never_sold]\n",
    "jamaisvendu.head()"
   ]
  },
  {
   "cell_type": "code",
   "execution_count": 152,
   "metadata": {},
   "outputs": [
    {
     "data": {
      "text/plain": [
       "'Nombre de produits jamais vendus: 21'"
      ]
     },
     "execution_count": 152,
     "metadata": {},
     "output_type": "execute_result"
    }
   ],
   "source": [
    "\"Nombre de produits jamais vendus: {}\".format(jamaisvendu.shape[0])"
   ]
  },
  {
   "cell_type": "markdown",
   "metadata": {},
   "source": [
    "Dans quelle catégorie se trouvent les livres jamais vendus?"
   ]
  },
  {
   "cell_type": "code",
   "execution_count": 150,
   "metadata": {},
   "outputs": [
    {
     "data": {
      "text/html": [
       "<div>\n",
       "<style scoped>\n",
       "    .dataframe tbody tr th:only-of-type {\n",
       "        vertical-align: middle;\n",
       "    }\n",
       "\n",
       "    .dataframe tbody tr th {\n",
       "        vertical-align: top;\n",
       "    }\n",
       "\n",
       "    .dataframe thead th {\n",
       "        text-align: right;\n",
       "    }\n",
       "</style>\n",
       "<table border=\"1\" class=\"dataframe\">\n",
       "  <thead>\n",
       "    <tr style=\"text-align: right;\">\n",
       "      <th></th>\n",
       "      <th>id_prod</th>\n",
       "    </tr>\n",
       "    <tr>\n",
       "      <th>categ</th>\n",
       "      <th></th>\n",
       "    </tr>\n",
       "  </thead>\n",
       "  <tbody>\n",
       "    <tr>\n",
       "      <th>0.0</th>\n",
       "      <td>16</td>\n",
       "    </tr>\n",
       "    <tr>\n",
       "      <th>1.0</th>\n",
       "      <td>2</td>\n",
       "    </tr>\n",
       "    <tr>\n",
       "      <th>2.0</th>\n",
       "      <td>3</td>\n",
       "    </tr>\n",
       "  </tbody>\n",
       "</table>\n",
       "</div>"
      ],
      "text/plain": [
       "       id_prod\n",
       "categ         \n",
       "0.0         16\n",
       "1.0          2\n",
       "2.0          3"
      ]
     },
     "execution_count": 150,
     "metadata": {},
     "output_type": "execute_result"
    }
   ],
   "source": [
    "jv2= jamaisvendu.groupby(['categ']).agg({'id_prod':'count'})\n",
    "jv2"
   ]
  },
  {
   "cell_type": "markdown",
   "metadata": {},
   "source": [
    "Parmi les 21 produits jamais achetés, la plupart appartiennent à la catégorie 0."
   ]
  },
  {
   "cell_type": "code",
   "execution_count": 160,
   "metadata": {},
   "outputs": [
    {
     "name": "stdout",
     "output_type": "stream",
     "text": [
      "Nombre de produits jamais vendus: 221\n",
      "Nombre de produit jamais vendus :21\n",
      "Nombre de clients sans achat :21\n",
      "Nombre de valeurs nulles totales : 263\n"
     ]
    }
   ],
   "source": [
    "print(\n",
    "    os.linesep.join([\"Nombre de produits jamais vendus: {}\".format(produitexistpas.shape[0]),\n",
    "        \"Nombre de produit jamais vendus :{}\".format(jamaisvendu.shape[0]),\n",
    "        \"Nombre de clients sans achat :{}\".format(clients_sans_achat.shape[0]),\n",
    "        \"Nombre de valeurs nulles totales : {}\".format(clients_sans_achat.shape[0]+jamaisvendu.shape[0]+produitexistpas.shape[0])]\n",
    "    )\n",
    ")"
   ]
  },
  {
   "cell_type": "code",
   "execution_count": 167,
   "metadata": {},
   "outputs": [
    {
     "data": {
      "text/plain": [
       "(679111, 679111)"
      ]
     },
     "execution_count": 167,
     "metadata": {},
     "output_type": "execute_result"
    }
   ],
   "source": [
    "troisfichier_outerjoin.shape[0]-valeursnulles.shape[0],troisfichier.shape[0]"
   ]
  },
  {
   "cell_type": "markdown",
   "metadata": {},
   "source": [
    "Donc, si l'on enlève les valeurs nulles de la fusion avec outer join, on retrouve les même nombre de ligne que pour inner join."
   ]
  },
  {
   "cell_type": "markdown",
   "metadata": {},
   "source": [
    "# ⚡Mission 1 : L'Analyse des différents indicateurs de vente"
   ]
  },
  {
   "cell_type": "markdown",
   "metadata": {},
   "source": [
    "### Préparation des données\n",
    "Pour cette mission. Je vais utiliser le dataframe créé avec inner join. </br>\n",
    "J'ajoute les colonnes 'year' et 'month' dans \"troisfichier\" extraites à partir de la colonne 'date' pour faciliter l'analyse."
   ]
  },
  {
   "cell_type": "code",
   "execution_count": 31,
   "metadata": {},
   "outputs": [
    {
     "data": {
      "text/html": [
       "<div>\n",
       "<style scoped>\n",
       "    .dataframe tbody tr th:only-of-type {\n",
       "        vertical-align: middle;\n",
       "    }\n",
       "\n",
       "    .dataframe tbody tr th {\n",
       "        vertical-align: top;\n",
       "    }\n",
       "\n",
       "    .dataframe thead th {\n",
       "        text-align: right;\n",
       "    }\n",
       "</style>\n",
       "<table border=\"1\" class=\"dataframe\">\n",
       "  <thead>\n",
       "    <tr style=\"text-align: right;\">\n",
       "      <th></th>\n",
       "      <th>id_prod</th>\n",
       "      <th>date</th>\n",
       "      <th>session_id</th>\n",
       "      <th>client_id</th>\n",
       "      <th>price</th>\n",
       "      <th>categ</th>\n",
       "      <th>sex</th>\n",
       "      <th>birth</th>\n",
       "      <th>year</th>\n",
       "      <th>month</th>\n",
       "    </tr>\n",
       "  </thead>\n",
       "  <tbody>\n",
       "    <tr>\n",
       "      <th>0</th>\n",
       "      <td>0_1518</td>\n",
       "      <td>2022-05-20 13:21:29.043970</td>\n",
       "      <td>s_211425</td>\n",
       "      <td>c_103</td>\n",
       "      <td>4.18</td>\n",
       "      <td>0</td>\n",
       "      <td>f</td>\n",
       "      <td>1986</td>\n",
       "      <td>2022</td>\n",
       "      <td>5</td>\n",
       "    </tr>\n",
       "    <tr>\n",
       "      <th>1</th>\n",
       "      <td>0_1518</td>\n",
       "      <td>2021-07-20 13:21:29.043970</td>\n",
       "      <td>s_64849</td>\n",
       "      <td>c_103</td>\n",
       "      <td>4.18</td>\n",
       "      <td>0</td>\n",
       "      <td>f</td>\n",
       "      <td>1986</td>\n",
       "      <td>2021</td>\n",
       "      <td>7</td>\n",
       "    </tr>\n",
       "  </tbody>\n",
       "</table>\n",
       "</div>"
      ],
      "text/plain": [
       "  id_prod                        date session_id client_id  price  categ sex  \\\n",
       "0  0_1518  2022-05-20 13:21:29.043970   s_211425     c_103   4.18      0   f   \n",
       "1  0_1518  2021-07-20 13:21:29.043970    s_64849     c_103   4.18      0   f   \n",
       "\n",
       "   birth  year  month  \n",
       "0   1986  2022      5  \n",
       "1   1986  2021      7  "
      ]
     },
     "execution_count": 31,
     "metadata": {},
     "output_type": "execute_result"
    }
   ],
   "source": [
    "troisfichier2 = troisfichier.copy()\n",
    "troisfichier2['year'] = pd.DatetimeIndex(troisfichier2['date']).year\n",
    "troisfichier2['month'] = pd.DatetimeIndex(troisfichier2['date']).month\n",
    "troisfichier2.head(2)"
   ]
  },
  {
   "cell_type": "markdown",
   "metadata": {},
   "source": [
    "Je convertis la colonne date en objet de type date dans une nouvelle colonne 'date2' "
   ]
  },
  {
   "cell_type": "code",
   "execution_count": 32,
   "metadata": {},
   "outputs": [
    {
     "data": {
      "text/html": [
       "<div>\n",
       "<style scoped>\n",
       "    .dataframe tbody tr th:only-of-type {\n",
       "        vertical-align: middle;\n",
       "    }\n",
       "\n",
       "    .dataframe tbody tr th {\n",
       "        vertical-align: top;\n",
       "    }\n",
       "\n",
       "    .dataframe thead th {\n",
       "        text-align: right;\n",
       "    }\n",
       "</style>\n",
       "<table border=\"1\" class=\"dataframe\">\n",
       "  <thead>\n",
       "    <tr style=\"text-align: right;\">\n",
       "      <th></th>\n",
       "      <th>id_prod</th>\n",
       "      <th>date</th>\n",
       "      <th>session_id</th>\n",
       "      <th>client_id</th>\n",
       "      <th>price</th>\n",
       "      <th>categ</th>\n",
       "      <th>sex</th>\n",
       "      <th>birth</th>\n",
       "      <th>year</th>\n",
       "      <th>month</th>\n",
       "      <th>date2</th>\n",
       "    </tr>\n",
       "  </thead>\n",
       "  <tbody>\n",
       "    <tr>\n",
       "      <th>0</th>\n",
       "      <td>0_1518</td>\n",
       "      <td>2022-05-20 13:21:29.043970</td>\n",
       "      <td>s_211425</td>\n",
       "      <td>c_103</td>\n",
       "      <td>4.18</td>\n",
       "      <td>0</td>\n",
       "      <td>f</td>\n",
       "      <td>1986</td>\n",
       "      <td>2022</td>\n",
       "      <td>5</td>\n",
       "      <td>2022-05-20</td>\n",
       "    </tr>\n",
       "    <tr>\n",
       "      <th>1</th>\n",
       "      <td>0_1518</td>\n",
       "      <td>2021-07-20 13:21:29.043970</td>\n",
       "      <td>s_64849</td>\n",
       "      <td>c_103</td>\n",
       "      <td>4.18</td>\n",
       "      <td>0</td>\n",
       "      <td>f</td>\n",
       "      <td>1986</td>\n",
       "      <td>2021</td>\n",
       "      <td>7</td>\n",
       "      <td>2021-07-20</td>\n",
       "    </tr>\n",
       "  </tbody>\n",
       "</table>\n",
       "</div>"
      ],
      "text/plain": [
       "  id_prod                        date session_id client_id  price  categ sex  \\\n",
       "0  0_1518  2022-05-20 13:21:29.043970   s_211425     c_103   4.18      0   f   \n",
       "1  0_1518  2021-07-20 13:21:29.043970    s_64849     c_103   4.18      0   f   \n",
       "\n",
       "   birth  year  month       date2  \n",
       "0   1986  2022      5  2022-05-20  \n",
       "1   1986  2021      7  2021-07-20  "
      ]
     },
     "execution_count": 32,
     "metadata": {},
     "output_type": "execute_result"
    }
   ],
   "source": [
    "\n",
    "troisfichier2['date2'] = pd.to_datetime(troisfichier2.date, format = '%Y-%m-%d' ).dt.date\n",
    "troisfichier2.head(2)"
   ]
  },
  {
   "cell_type": "markdown",
   "metadata": {},
   "source": [
    "## A) Indicateurs et graphiques autour du CA\n",
    "    "
   ]
  },
  {
   "cell_type": "markdown",
   "metadata": {},
   "source": [
    "Voici tout d'abord les infomations basiques concernant le price dans livres dans 'products' "
   ]
  },
  {
   "cell_type": "code",
   "execution_count": 424,
   "metadata": {},
   "outputs": [
    {
     "data": {
      "text/plain": [
       "count    3286.000000\n",
       "mean       21.863597\n",
       "std        29.849786\n",
       "min         0.620000\n",
       "25%         6.990000\n",
       "50%        13.075000\n",
       "75%        22.990000\n",
       "max       300.000000\n",
       "Name: price, dtype: float64"
      ]
     },
     "execution_count": 424,
     "metadata": {},
     "output_type": "execute_result"
    }
   ],
   "source": [
    "df_products.price.describe()"
   ]
  },
  {
   "cell_type": "markdown",
   "metadata": {},
   "source": [
    "### L'analyse d'univarié.\n",
    "On regarde la répartition des prix. \n",
    "On s'aperçoit qu'il y a beaucoup de outliners."
   ]
  },
  {
   "cell_type": "code",
   "execution_count": 425,
   "metadata": {},
   "outputs": [
    {
     "data": {
      "image/png": "[encoded data removed]",
      "text/plain": [
       "<Figure size 914.4x595.44 with 1 Axes>"
      ]
     },
     "metadata": {},
     "output_type": "display_data"
    },
    {
     "data": {
      "image/png": "[encoded data removed]",
      "text/plain": [
       "<Figure size 360x360 with 1 Axes>"
      ]
     },
     "metadata": {},
     "output_type": "display_data"
    }
   ],
   "source": [
    "sns.boxplot(x=df_products['price'])\n",
    "sns.displot(df_products['price'],kde=False)\n",
    "plt.show()"
   ]
  },
  {
   "cell_type": "markdown",
   "metadata": {},
   "source": [
    "On regarde mmaintenant la repartition du *prix* par *categorie*."
   ]
  },
  {
   "cell_type": "code",
   "execution_count": 426,
   "metadata": {},
   "outputs": [
    {
     "data": {
      "image/png": "[encoded data removed]",
      "text/plain": [
       "<Figure size 914.4x595.44 with 1 Axes>"
      ]
     },
     "metadata": {},
     "output_type": "display_data"
    }
   ],
   "source": [
    "sns.set(style=\"darkgrid\")\n",
    "sns.set(rc={'figure.figsize':(12.7,8.27)})\n",
    "sns.boxplot(x=df_products[\"categ\"], y=df_products[\"price\"])\n",
    "plt.show()"
   ]
  },
  {
   "cell_type": "code",
   "execution_count": 24,
   "metadata": {},
   "outputs": [
    {
     "data": {
      "text/html": [
       "<div>\n",
       "<style scoped>\n",
       "    .dataframe tbody tr th:only-of-type {\n",
       "        vertical-align: middle;\n",
       "    }\n",
       "\n",
       "    .dataframe tbody tr th {\n",
       "        vertical-align: top;\n",
       "    }\n",
       "\n",
       "    .dataframe thead tr th {\n",
       "        text-align: left;\n",
       "    }\n",
       "\n",
       "    .dataframe thead tr:last-of-type th {\n",
       "        text-align: right;\n",
       "    }\n",
       "</style>\n",
       "<table border=\"1\" class=\"dataframe\">\n",
       "  <thead>\n",
       "    <tr>\n",
       "      <th></th>\n",
       "      <th colspan=\"8\" halign=\"left\">price</th>\n",
       "    </tr>\n",
       "    <tr>\n",
       "      <th></th>\n",
       "      <th>count</th>\n",
       "      <th>mean</th>\n",
       "      <th>std</th>\n",
       "      <th>min</th>\n",
       "      <th>25%</th>\n",
       "      <th>50%</th>\n",
       "      <th>75%</th>\n",
       "      <th>max</th>\n",
       "    </tr>\n",
       "    <tr>\n",
       "      <th>categ</th>\n",
       "      <th></th>\n",
       "      <th></th>\n",
       "      <th></th>\n",
       "      <th></th>\n",
       "      <th></th>\n",
       "      <th></th>\n",
       "      <th></th>\n",
       "      <th></th>\n",
       "    </tr>\n",
       "  </thead>\n",
       "  <tbody>\n",
       "    <tr>\n",
       "      <th>0</th>\n",
       "      <td>2308.0</td>\n",
       "      <td>11.732795</td>\n",
       "      <td>7.565755</td>\n",
       "      <td>0.62</td>\n",
       "      <td>5.5875</td>\n",
       "      <td>10.32</td>\n",
       "      <td>16.655</td>\n",
       "      <td>40.99</td>\n",
       "    </tr>\n",
       "    <tr>\n",
       "      <th>1</th>\n",
       "      <td>739.0</td>\n",
       "      <td>25.531421</td>\n",
       "      <td>15.425162</td>\n",
       "      <td>2.00</td>\n",
       "      <td>13.3900</td>\n",
       "      <td>22.99</td>\n",
       "      <td>33.990</td>\n",
       "      <td>80.99</td>\n",
       "    </tr>\n",
       "    <tr>\n",
       "      <th>2</th>\n",
       "      <td>239.0</td>\n",
       "      <td>108.354686</td>\n",
       "      <td>49.561431</td>\n",
       "      <td>30.99</td>\n",
       "      <td>71.0650</td>\n",
       "      <td>101.99</td>\n",
       "      <td>136.530</td>\n",
       "      <td>300.00</td>\n",
       "    </tr>\n",
       "  </tbody>\n",
       "</table>\n",
       "</div>"
      ],
      "text/plain": [
       "        price                                                                \n",
       "        count        mean        std    min      25%     50%      75%     max\n",
       "categ                                                                        \n",
       "0      2308.0   11.732795   7.565755   0.62   5.5875   10.32   16.655   40.99\n",
       "1       739.0   25.531421  15.425162   2.00  13.3900   22.99   33.990   80.99\n",
       "2       239.0  108.354686  49.561431  30.99  71.0650  101.99  136.530  300.00"
      ]
     },
     "execution_count": 24,
     "metadata": {},
     "output_type": "execute_result"
    }
   ],
   "source": [
    "df_products.groupby('categ').describe()"
   ]
  },
  {
   "cell_type": "markdown",
   "metadata": {},
   "source": [
    "On s'appercoit que les catégories semble être distribuées par prix. </br>\n",
    "- 50% des prix de la cateégorie 0 sont concentrés entre 5.6 et 16.7 euros. </br>\n",
    "- 50% des prix de la catégorie 1 sontconcentrés entre 13.4 et 34 euros. </br>\n",
    "- 50% des prix de la catégorie 2  sontconcentrés entre 71.1 et 137 euros. </br>\n",
    "Les prix de la categorie 2 sont largement plus dispercés ( ecart type de 49.6)\n"
   ]
  },
  {
   "cell_type": "markdown",
   "metadata": {},
   "source": [
    "On remarque aussi que la majorité des livres sont de catégorie 0."
   ]
  },
  {
   "cell_type": "markdown",
   "metadata": {},
   "source": [
    "## B) Evolution dans le temps"
   ]
  },
  {
   "cell_type": "markdown",
   "metadata": {},
   "source": [
    "### Analyse comparative : taux de croissance mensuel du chiffre d'affaires \n",
    "Le taux de croissance d'un mois à l'autre refléte l'**évolution  du CA d'un mois sur l'autre**.</br>\n",
    "- *Formule du taux de croissance : (mois actuel - mois de precedent)/ (mois precedent) x 100* </br>\n",
    "\n",
    "Ici, nous comparons le chiffre d'affaires mensuel entre chaque mois et utilisons un graphique à barres et une ligne pour montrer l'évolution de la tendance de son chiffre d'affaires."
   ]
  },
  {
   "cell_type": "markdown",
   "metadata": {},
   "source": [
    "Je calcule le CA pour chaque mois."
   ]
  },
  {
   "cell_type": "code",
   "execution_count": 33,
   "metadata": {},
   "outputs": [
    {
     "data": {
      "text/html": [
       "<div>\n",
       "<style scoped>\n",
       "    .dataframe tbody tr th:only-of-type {\n",
       "        vertical-align: middle;\n",
       "    }\n",
       "\n",
       "    .dataframe tbody tr th {\n",
       "        vertical-align: top;\n",
       "    }\n",
       "\n",
       "    .dataframe thead th {\n",
       "        text-align: right;\n",
       "    }\n",
       "</style>\n",
       "<table border=\"1\" class=\"dataframe\">\n",
       "  <thead>\n",
       "    <tr style=\"text-align: right;\">\n",
       "      <th></th>\n",
       "      <th>year</th>\n",
       "      <th>month</th>\n",
       "      <th>price</th>\n",
       "    </tr>\n",
       "  </thead>\n",
       "  <tbody>\n",
       "    <tr>\n",
       "      <th>0</th>\n",
       "      <td>2021</td>\n",
       "      <td>3</td>\n",
       "      <td>482440.61</td>\n",
       "    </tr>\n",
       "    <tr>\n",
       "      <th>1</th>\n",
       "      <td>2021</td>\n",
       "      <td>4</td>\n",
       "      <td>476109.30</td>\n",
       "    </tr>\n",
       "    <tr>\n",
       "      <th>2</th>\n",
       "      <td>2021</td>\n",
       "      <td>5</td>\n",
       "      <td>492943.47</td>\n",
       "    </tr>\n",
       "  </tbody>\n",
       "</table>\n",
       "</div>"
      ],
      "text/plain": [
       "   year  month      price\n",
       "0  2021      3  482440.61\n",
       "1  2021      4  476109.30\n",
       "2  2021      5  492943.47"
      ]
     },
     "execution_count": 33,
     "metadata": {},
     "output_type": "execute_result"
    }
   ],
   "source": [
    "gg=troisfichier2.copy()\n",
    "gg1 =gg.groupby(['year','month'], as_index=False ).agg({'price':'sum' })\n",
    "gg1.head(3)"
   ]
  },
  {
   "cell_type": "markdown",
   "metadata": {},
   "source": [
    "Je transforme l'index en période de mois qui sera utilisé sur l'axe X."
   ]
  },
  {
   "cell_type": "code",
   "execution_count": 34,
   "metadata": {},
   "outputs": [
    {
     "data": {
      "text/html": [
       "<div>\n",
       "<style scoped>\n",
       "    .dataframe tbody tr th:only-of-type {\n",
       "        vertical-align: middle;\n",
       "    }\n",
       "\n",
       "    .dataframe tbody tr th {\n",
       "        vertical-align: top;\n",
       "    }\n",
       "\n",
       "    .dataframe thead th {\n",
       "        text-align: right;\n",
       "    }\n",
       "</style>\n",
       "<table border=\"1\" class=\"dataframe\">\n",
       "  <thead>\n",
       "    <tr style=\"text-align: right;\">\n",
       "      <th></th>\n",
       "      <th>year</th>\n",
       "      <th>month</th>\n",
       "      <th>price</th>\n",
       "      <th>date_Ym</th>\n",
       "    </tr>\n",
       "  </thead>\n",
       "  <tbody>\n",
       "    <tr>\n",
       "      <th>0</th>\n",
       "      <td>2021</td>\n",
       "      <td>3</td>\n",
       "      <td>482440.61</td>\n",
       "      <td>2021-03</td>\n",
       "    </tr>\n",
       "    <tr>\n",
       "      <th>1</th>\n",
       "      <td>2021</td>\n",
       "      <td>4</td>\n",
       "      <td>476109.30</td>\n",
       "      <td>2021-04</td>\n",
       "    </tr>\n",
       "    <tr>\n",
       "      <th>2</th>\n",
       "      <td>2021</td>\n",
       "      <td>5</td>\n",
       "      <td>492943.47</td>\n",
       "      <td>2021-05</td>\n",
       "    </tr>\n",
       "  </tbody>\n",
       "</table>\n",
       "</div>"
      ],
      "text/plain": [
       "   year  month      price  date_Ym\n",
       "0  2021      3  482440.61  2021-03\n",
       "1  2021      4  476109.30  2021-04\n",
       "2  2021      5  492943.47  2021-05"
      ]
     },
     "execution_count": 34,
     "metadata": {},
     "output_type": "execute_result"
    }
   ],
   "source": [
    "def fun(r):\n",
    "    return \"{}-{}\".format(str(r[0]).zfill(2), str(r[1]).zfill(2))\n",
    "gg1['date_Ym'] = gg1.apply(fun, axis=1)\n",
    "gg1['date_Ym'] = gg1.apply(fun, axis=1)\n",
    "gg1.head(3)"
   ]
  },
  {
   "cell_type": "code",
   "execution_count": 35,
   "metadata": {},
   "outputs": [
    {
     "data": {
      "text/html": [
       "<div>\n",
       "<style scoped>\n",
       "    .dataframe tbody tr th:only-of-type {\n",
       "        vertical-align: middle;\n",
       "    }\n",
       "\n",
       "    .dataframe tbody tr th {\n",
       "        vertical-align: top;\n",
       "    }\n",
       "\n",
       "    .dataframe thead th {\n",
       "        text-align: right;\n",
       "    }\n",
       "</style>\n",
       "<table border=\"1\" class=\"dataframe\">\n",
       "  <thead>\n",
       "    <tr style=\"text-align: right;\">\n",
       "      <th></th>\n",
       "      <th>year</th>\n",
       "      <th>month</th>\n",
       "      <th>price</th>\n",
       "      <th>date_Ym</th>\n",
       "    </tr>\n",
       "    <tr>\n",
       "      <th>date_Ym</th>\n",
       "      <th></th>\n",
       "      <th></th>\n",
       "      <th></th>\n",
       "      <th></th>\n",
       "    </tr>\n",
       "  </thead>\n",
       "  <tbody>\n",
       "    <tr>\n",
       "      <th>2021-03</th>\n",
       "      <td>2021</td>\n",
       "      <td>3</td>\n",
       "      <td>482440.61</td>\n",
       "      <td>2021-03</td>\n",
       "    </tr>\n",
       "    <tr>\n",
       "      <th>2021-04</th>\n",
       "      <td>2021</td>\n",
       "      <td>4</td>\n",
       "      <td>476109.30</td>\n",
       "      <td>2021-04</td>\n",
       "    </tr>\n",
       "    <tr>\n",
       "      <th>2021-05</th>\n",
       "      <td>2021</td>\n",
       "      <td>5</td>\n",
       "      <td>492943.47</td>\n",
       "      <td>2021-05</td>\n",
       "    </tr>\n",
       "    <tr>\n",
       "      <th>2021-06</th>\n",
       "      <td>2021</td>\n",
       "      <td>6</td>\n",
       "      <td>484088.56</td>\n",
       "      <td>2021-06</td>\n",
       "    </tr>\n",
       "    <tr>\n",
       "      <th>2021-07</th>\n",
       "      <td>2021</td>\n",
       "      <td>7</td>\n",
       "      <td>482835.40</td>\n",
       "      <td>2021-07</td>\n",
       "    </tr>\n",
       "  </tbody>\n",
       "</table>\n",
       "</div>"
      ],
      "text/plain": [
       "         year  month      price  date_Ym\n",
       "date_Ym                                 \n",
       "2021-03  2021      3  482440.61  2021-03\n",
       "2021-04  2021      4  476109.30  2021-04\n",
       "2021-05  2021      5  492943.47  2021-05\n",
       "2021-06  2021      6  484088.56  2021-06\n",
       "2021-07  2021      7  482835.40  2021-07"
      ]
     },
     "execution_count": 35,
     "metadata": {},
     "output_type": "execute_result"
    }
   ],
   "source": [
    "gg1.set_index(pd.DatetimeIndex(gg1['date_Ym']), inplace=True) #set date Ym as datetime index (for being X axe)\n",
    "gg1 = gg1.to_period(freq='M') # to period (freq ='M') xxxx-xx-xx to xxxx-xx (only keep year and month)\n",
    "gg1.head()"
   ]
  },
  {
   "cell_type": "markdown",
   "metadata": {},
   "source": [
    "J'utilise .pct_change() pour calculer le taux de croissance.</br>\n",
    "*Formaule du taux de croissance : (mois actuel - mois de precedent)/ (mois precedent) x 100 %* "
   ]
  },
  {
   "cell_type": "code",
   "execution_count": 36,
   "metadata": {},
   "outputs": [
    {
     "data": {
      "text/html": [
       "<div>\n",
       "<style scoped>\n",
       "    .dataframe tbody tr th:only-of-type {\n",
       "        vertical-align: middle;\n",
       "    }\n",
       "\n",
       "    .dataframe tbody tr th {\n",
       "        vertical-align: top;\n",
       "    }\n",
       "\n",
       "    .dataframe thead th {\n",
       "        text-align: right;\n",
       "    }\n",
       "</style>\n",
       "<table border=\"1\" class=\"dataframe\">\n",
       "  <thead>\n",
       "    <tr style=\"text-align: right;\">\n",
       "      <th></th>\n",
       "      <th>year</th>\n",
       "      <th>month</th>\n",
       "      <th>price</th>\n",
       "      <th>date_Ym</th>\n",
       "      <th>month to month ratio</th>\n",
       "    </tr>\n",
       "    <tr>\n",
       "      <th>date_Ym</th>\n",
       "      <th></th>\n",
       "      <th></th>\n",
       "      <th></th>\n",
       "      <th></th>\n",
       "      <th></th>\n",
       "    </tr>\n",
       "  </thead>\n",
       "  <tbody>\n",
       "    <tr>\n",
       "      <th>2021-03</th>\n",
       "      <td>2021</td>\n",
       "      <td>3</td>\n",
       "      <td>482440.61</td>\n",
       "      <td>2021-03</td>\n",
       "      <td>NaN</td>\n",
       "    </tr>\n",
       "    <tr>\n",
       "      <th>2021-04</th>\n",
       "      <td>2021</td>\n",
       "      <td>4</td>\n",
       "      <td>476109.30</td>\n",
       "      <td>2021-04</td>\n",
       "      <td>-1.31</td>\n",
       "    </tr>\n",
       "    <tr>\n",
       "      <th>2021-05</th>\n",
       "      <td>2021</td>\n",
       "      <td>5</td>\n",
       "      <td>492943.47</td>\n",
       "      <td>2021-05</td>\n",
       "      <td>3.54</td>\n",
       "    </tr>\n",
       "    <tr>\n",
       "      <th>2021-06</th>\n",
       "      <td>2021</td>\n",
       "      <td>6</td>\n",
       "      <td>484088.56</td>\n",
       "      <td>2021-06</td>\n",
       "      <td>-1.80</td>\n",
       "    </tr>\n",
       "    <tr>\n",
       "      <th>2021-07</th>\n",
       "      <td>2021</td>\n",
       "      <td>7</td>\n",
       "      <td>482835.40</td>\n",
       "      <td>2021-07</td>\n",
       "      <td>-0.26</td>\n",
       "    </tr>\n",
       "  </tbody>\n",
       "</table>\n",
       "</div>"
      ],
      "text/plain": [
       "         year  month      price  date_Ym  month to month ratio\n",
       "date_Ym                                                       \n",
       "2021-03  2021      3  482440.61  2021-03                   NaN\n",
       "2021-04  2021      4  476109.30  2021-04                 -1.31\n",
       "2021-05  2021      5  492943.47  2021-05                  3.54\n",
       "2021-06  2021      6  484088.56  2021-06                 -1.80\n",
       "2021-07  2021      7  482835.40  2021-07                 -0.26"
      ]
     },
     "execution_count": 36,
     "metadata": {},
     "output_type": "execute_result"
    }
   ],
   "source": [
    "gg1['month to month ratio']= round(gg1['price'].pct_change()*100,2)\n",
    "gg1.head()"
   ]
  },
  {
   "cell_type": "code",
   "execution_count": 37,
   "metadata": {},
   "outputs": [
    {
     "name": "stderr",
     "output_type": "stream",
     "text": [
      "posx and posy should be finite values\n",
      "posx and posy should be finite values\n"
     ]
    },
    {
     "data": {
      "image/png": "[encoded data removed]",
      "text/plain": [
       "<Figure size 1152x504 with 2 Axes>"
      ]
     },
     "metadata": {
      "needs_background": "light"
     },
     "output_type": "display_data"
    }
   ],
   "source": [
    "fig = plt.figure(figsize=(16,7))\n",
    "ax2 = fig.add_subplot()\n",
    "ax2.bar(gg1['date_Ym'],gg1['price'],color='pink') \n",
    "plt.title('CA mensuel et taux de croissance d\\'un mois à l\\'autre') \n",
    "plt.xticks(gg1['date_Ym'],gg1.index,rotation=60)  \n",
    "\n",
    "ax3 = ax2.twinx()  \n",
    "ax3.plot(gg1['date_Ym'],gg1['month to month ratio'],c='b')  \n",
    "\n",
    "for i,j in enumerate(gg1['month to month ratio']): \n",
    "    plt.text(i-0.5,j+0.5,str(j)+'%')            \n",
    "plt.show()  "
   ]
  },
  {
   "cell_type": "markdown",
   "metadata": {},
   "source": [
    "On voit que il y a une chute du CA pour le mois d'Octobre 2021.</br>\n",
    "De plus, on observe une baisse du CA pour le dernier mois( Fevrier 2023)."
   ]
  },
  {
   "cell_type": "markdown",
   "metadata": {},
   "source": [
    "### La baisse de février 2023 est elle anormale ? \n",
    "Nous allons comparer le CA par catégorie avec la période de l'annee précédente.\n"
   ]
  },
  {
   "cell_type": "markdown",
   "metadata": {},
   "source": [
    "Je calcule d'abord le CA mensuel par catégorie"
   ]
  },
  {
   "cell_type": "code",
   "execution_count": 38,
   "metadata": {},
   "outputs": [
    {
     "data": {
      "text/html": [
       "<div>\n",
       "<style scoped>\n",
       "    .dataframe tbody tr th:only-of-type {\n",
       "        vertical-align: middle;\n",
       "    }\n",
       "\n",
       "    .dataframe tbody tr th {\n",
       "        vertical-align: top;\n",
       "    }\n",
       "\n",
       "    .dataframe thead th {\n",
       "        text-align: right;\n",
       "    }\n",
       "</style>\n",
       "<table border=\"1\" class=\"dataframe\">\n",
       "  <thead>\n",
       "    <tr style=\"text-align: right;\">\n",
       "      <th></th>\n",
       "      <th>year</th>\n",
       "      <th>month</th>\n",
       "      <th>categ</th>\n",
       "      <th>price</th>\n",
       "    </tr>\n",
       "  </thead>\n",
       "  <tbody>\n",
       "    <tr>\n",
       "      <th>0</th>\n",
       "      <td>2021</td>\n",
       "      <td>3</td>\n",
       "      <td>0</td>\n",
       "      <td>193629.17</td>\n",
       "    </tr>\n",
       "    <tr>\n",
       "      <th>1</th>\n",
       "      <td>2021</td>\n",
       "      <td>3</td>\n",
       "      <td>1</td>\n",
       "      <td>186974.17</td>\n",
       "    </tr>\n",
       "    <tr>\n",
       "      <th>2</th>\n",
       "      <td>2021</td>\n",
       "      <td>3</td>\n",
       "      <td>2</td>\n",
       "      <td>101837.27</td>\n",
       "    </tr>\n",
       "    <tr>\n",
       "      <th>3</th>\n",
       "      <td>2021</td>\n",
       "      <td>4</td>\n",
       "      <td>0</td>\n",
       "      <td>205222.46</td>\n",
       "    </tr>\n",
       "    <tr>\n",
       "      <th>4</th>\n",
       "      <td>2021</td>\n",
       "      <td>4</td>\n",
       "      <td>1</td>\n",
       "      <td>156138.35</td>\n",
       "    </tr>\n",
       "  </tbody>\n",
       "</table>\n",
       "</div>"
      ],
      "text/plain": [
       "   year  month  categ      price\n",
       "0  2021      3      0  193629.17\n",
       "1  2021      3      1  186974.17\n",
       "2  2021      3      2  101837.27\n",
       "3  2021      4      0  205222.46\n",
       "4  2021      4      1  156138.35"
      ]
     },
     "execution_count": 38,
     "metadata": {},
     "output_type": "execute_result"
    }
   ],
   "source": [
    "gg=troisfichier2.copy()\n",
    "gg2 =gg.groupby(['year','month','categ'], as_index=False ).agg({'price':'sum'})\n",
    "gg2.head()"
   ]
  },
  {
   "cell_type": "markdown",
   "metadata": {},
   "source": [
    "On prepare deux groupes. Un pour comparer le CA de Janvier, et un autre pour celui de Fevrier (sur les annees 2022 - 2023)"
   ]
  },
  {
   "cell_type": "code",
   "execution_count": 39,
   "metadata": {},
   "outputs": [
    {
     "data": {
      "text/html": [
       "<div>\n",
       "<style scoped>\n",
       "    .dataframe tbody tr th:only-of-type {\n",
       "        vertical-align: middle;\n",
       "    }\n",
       "\n",
       "    .dataframe tbody tr th {\n",
       "        vertical-align: top;\n",
       "    }\n",
       "\n",
       "    .dataframe thead th {\n",
       "        text-align: right;\n",
       "    }\n",
       "</style>\n",
       "<table border=\"1\" class=\"dataframe\">\n",
       "  <thead>\n",
       "    <tr style=\"text-align: right;\">\n",
       "      <th></th>\n",
       "      <th>year</th>\n",
       "      <th>month</th>\n",
       "      <th>categ</th>\n",
       "      <th>price</th>\n",
       "    </tr>\n",
       "  </thead>\n",
       "  <tbody>\n",
       "    <tr>\n",
       "      <th>30</th>\n",
       "      <td>2022</td>\n",
       "      <td>1</td>\n",
       "      <td>0</td>\n",
       "      <td>164210.51</td>\n",
       "    </tr>\n",
       "    <tr>\n",
       "      <th>31</th>\n",
       "      <td>2022</td>\n",
       "      <td>1</td>\n",
       "      <td>1</td>\n",
       "      <td>256267.92</td>\n",
       "    </tr>\n",
       "    <tr>\n",
       "      <th>32</th>\n",
       "      <td>2022</td>\n",
       "      <td>1</td>\n",
       "      <td>2</td>\n",
       "      <td>104860.56</td>\n",
       "    </tr>\n",
       "    <tr>\n",
       "      <th>33</th>\n",
       "      <td>2022</td>\n",
       "      <td>2</td>\n",
       "      <td>0</td>\n",
       "      <td>183197.33</td>\n",
       "    </tr>\n",
       "    <tr>\n",
       "      <th>34</th>\n",
       "      <td>2022</td>\n",
       "      <td>2</td>\n",
       "      <td>1</td>\n",
       "      <td>213120.64</td>\n",
       "    </tr>\n",
       "  </tbody>\n",
       "</table>\n",
       "</div>"
      ],
      "text/plain": [
       "    year  month  categ      price\n",
       "30  2022      1      0  164210.51\n",
       "31  2022      1      1  256267.92\n",
       "32  2022      1      2  104860.56\n",
       "33  2022      2      0  183197.33\n",
       "34  2022      2      1  213120.64"
      ]
     },
     "execution_count": 39,
     "metadata": {},
     "output_type": "execute_result"
    }
   ],
   "source": [
    "mask = gg2['month']== 1\n",
    "mask1 = gg2['month']== 2\n",
    "t1=gg2[(mask | mask1)]\n",
    "t1.head()"
   ]
  },
  {
   "cell_type": "markdown",
   "metadata": {},
   "source": [
    "On calcule enfin le taux de croissance du mois d'une année sur l'autre (YoY+%) avec la fonction \"pct_change\"."
   ]
  },
  {
   "cell_type": "code",
   "execution_count": 40,
   "metadata": {},
   "outputs": [
    {
     "name": "stderr",
     "output_type": "stream",
     "text": [
      "C:\\Users\\Gigi jaune\\AppData\\Local\\Temp\\ipykernel_4164\\1967661534.py:1: SettingWithCopyWarning: \n",
      "A value is trying to be set on a copy of a slice from a DataFrame.\n",
      "Try using .loc[row_indexer,col_indexer] = value instead\n",
      "\n",
      "See the caveats in the documentation: https://pandas.pydata.org/pandas-docs/stable/user_guide/indexing.html#returning-a-view-versus-a-copy\n",
      "  t1['year on year rate']= round(t1['price'].pct_change(periods=6)*100,2)\n"
     ]
    },
    {
     "data": {
      "text/html": [
       "<div>\n",
       "<style scoped>\n",
       "    .dataframe tbody tr th:only-of-type {\n",
       "        vertical-align: middle;\n",
       "    }\n",
       "\n",
       "    .dataframe tbody tr th {\n",
       "        vertical-align: top;\n",
       "    }\n",
       "\n",
       "    .dataframe thead th {\n",
       "        text-align: right;\n",
       "    }\n",
       "</style>\n",
       "<table border=\"1\" class=\"dataframe\">\n",
       "  <thead>\n",
       "    <tr style=\"text-align: right;\">\n",
       "      <th></th>\n",
       "      <th>year</th>\n",
       "      <th>month</th>\n",
       "      <th>categ</th>\n",
       "      <th>price</th>\n",
       "      <th>year on year rate</th>\n",
       "    </tr>\n",
       "  </thead>\n",
       "  <tbody>\n",
       "    <tr>\n",
       "      <th>66</th>\n",
       "      <td>2023</td>\n",
       "      <td>1</td>\n",
       "      <td>0</td>\n",
       "      <td>181283.06</td>\n",
       "      <td>10.40</td>\n",
       "    </tr>\n",
       "    <tr>\n",
       "      <th>67</th>\n",
       "      <td>2023</td>\n",
       "      <td>1</td>\n",
       "      <td>1</td>\n",
       "      <td>210104.41</td>\n",
       "      <td>-18.01</td>\n",
       "    </tr>\n",
       "    <tr>\n",
       "      <th>68</th>\n",
       "      <td>2023</td>\n",
       "      <td>1</td>\n",
       "      <td>2</td>\n",
       "      <td>126153.08</td>\n",
       "      <td>20.31</td>\n",
       "    </tr>\n",
       "    <tr>\n",
       "      <th>69</th>\n",
       "      <td>2023</td>\n",
       "      <td>2</td>\n",
       "      <td>0</td>\n",
       "      <td>162457.00</td>\n",
       "      <td>-11.32</td>\n",
       "    </tr>\n",
       "    <tr>\n",
       "      <th>70</th>\n",
       "      <td>2023</td>\n",
       "      <td>2</td>\n",
       "      <td>1</td>\n",
       "      <td>180347.24</td>\n",
       "      <td>-15.38</td>\n",
       "    </tr>\n",
       "    <tr>\n",
       "      <th>71</th>\n",
       "      <td>2023</td>\n",
       "      <td>2</td>\n",
       "      <td>2</td>\n",
       "      <td>113875.52</td>\n",
       "      <td>-18.22</td>\n",
       "    </tr>\n",
       "  </tbody>\n",
       "</table>\n",
       "</div>"
      ],
      "text/plain": [
       "    year  month  categ      price  year on year rate\n",
       "66  2023      1      0  181283.06              10.40\n",
       "67  2023      1      1  210104.41             -18.01\n",
       "68  2023      1      2  126153.08              20.31\n",
       "69  2023      2      0  162457.00             -11.32\n",
       "70  2023      2      1  180347.24             -15.38\n",
       "71  2023      2      2  113875.52             -18.22"
      ]
     },
     "execution_count": 40,
     "metadata": {},
     "output_type": "execute_result"
    }
   ],
   "source": [
    "t1['year on year rate']= round(t1['price'].pct_change(periods=6)*100,2)\n",
    "t1.tail(6)"
   ]
  },
  {
   "cell_type": "markdown",
   "metadata": {},
   "source": [
    "Ici, on peut voir que la croissance pour le mois de février est négative pour toute les catéories. C'est une croissance négative à deux chiffres."
   ]
  },
  {
   "cell_type": "code",
   "execution_count": 41,
   "metadata": {},
   "outputs": [
    {
     "data": {
      "text/plain": [
       "Text(0, 0.5, 'CA')"
      ]
     },
     "execution_count": 41,
     "metadata": {},
     "output_type": "execute_result"
    },
    {
     "data": {
      "image/png": "[encoded data removed]",
      "text/plain": [
       "<Figure size 432x288 with 1 Axes>"
      ]
     },
     "metadata": {
      "needs_background": "light"
     },
     "output_type": "display_data"
    },
    {
     "data": {
      "image/png": "[encoded data removed]",
      "text/plain": [
       "<Figure size 432x288 with 1 Axes>"
      ]
     },
     "metadata": {
      "needs_background": "light"
     },
     "output_type": "display_data"
    }
   ],
   "source": [
    "ax1 = fig.add_subplot(1,2,1)\n",
    "# creating dataframe\n",
    "df = pd.DataFrame({\n",
    "    'x': ['2022-01','2022-02','2023-01','2023-02'],\n",
    "    'Categ0': t1[t1.categ.eq(0)]['price'].values,\n",
    "    'Categ1': t1[t1.categ.eq(1)]['price'].values,\n",
    "    'Categ2': t1[t1.categ.eq(2)]['price'].values,\n",
    "    'month' : [1,2,1,2],\n",
    "    'rate0': t1[t1.categ.eq(0)]['year on year rate'].values,\n",
    "    'rate1': t1[t1.categ.eq(1)]['year on year rate'].values,\n",
    "    'rate2': t1[t1.categ.eq(2)]['year on year rate'].values\n",
    "})\n",
    "\n",
    "df_tmp_1 = df[df.month == 1]\n",
    "df_tmp_2 = df[df.month == 2]\n",
    "#用value去取serie裡不包含column title的值 \n",
    "# plotting graph\n",
    "df_tmp_1.plot(x=\"x\", y=['Categ0', 'Categ1', 'Categ2'], kind=\"bar\")\n",
    "ax2 = fig.add_subplot(1,2,2)\n",
    "a = df_tmp_2.plot(x=\"x\", y=['Categ0', 'Categ1', 'Categ2'], kind=\"bar\")\n",
    "plt.title(\"Part du CA par catégorie pour la periode Janvier-Fevrier 2022 et 2023 \")\n",
    "plt.xlabel(\"year-month\")\n",
    "plt.ylabel(\"CA\")"
   ]
  },
  {
   "cell_type": "markdown",
   "metadata": {},
   "source": [
    "Il y a une baisse de la part du CA évidente pour le mois de Février par rapport a l'année précédente. </br>\n",
    "S'il ne s'agit pas d' un manque de donnnées pour Février 2023."
   ]
  },
  {
   "cell_type": "markdown",
   "metadata": {},
   "source": [
    "### Analyse de la moyenne mobile\n",
    "Ici, on va utiliser le CA quotidien et afficher la moyenne mobile afin d'évaluer la tendance globale\n",
    "\n",
    "*Quest ce que la moyenne mobile? \n",
    "Elle permet de lisser une série de valeurs exprimées en fonction du temps et d'éliminer les fluctuations les moins significatives. </br>\n",
    "Plus la période considérée est longue, moins la moyenne mobile est sensible aux variations quotidiennes du cours.*"
   ]
  },
  {
   "cell_type": "markdown",
   "metadata": {},
   "source": [
    "Je calcule le CA par date. "
   ]
  },
  {
   "cell_type": "code",
   "execution_count": 45,
   "metadata": {},
   "outputs": [
    {
     "data": {
      "text/html": [
       "<div>\n",
       "<style scoped>\n",
       "    .dataframe tbody tr th:only-of-type {\n",
       "        vertical-align: middle;\n",
       "    }\n",
       "\n",
       "    .dataframe tbody tr th {\n",
       "        vertical-align: top;\n",
       "    }\n",
       "\n",
       "    .dataframe thead th {\n",
       "        text-align: right;\n",
       "    }\n",
       "</style>\n",
       "<table border=\"1\" class=\"dataframe\">\n",
       "  <thead>\n",
       "    <tr style=\"text-align: right;\">\n",
       "      <th></th>\n",
       "      <th>date2</th>\n",
       "      <th>CA quotidien</th>\n",
       "    </tr>\n",
       "  </thead>\n",
       "  <tbody>\n",
       "    <tr>\n",
       "      <th>0</th>\n",
       "      <td>2021-03-01</td>\n",
       "      <td>16565.22</td>\n",
       "    </tr>\n",
       "    <tr>\n",
       "      <th>1</th>\n",
       "      <td>2021-03-02</td>\n",
       "      <td>15486.45</td>\n",
       "    </tr>\n",
       "    <tr>\n",
       "      <th>2</th>\n",
       "      <td>2021-03-03</td>\n",
       "      <td>15198.69</td>\n",
       "    </tr>\n",
       "    <tr>\n",
       "      <th>3</th>\n",
       "      <td>2021-03-04</td>\n",
       "      <td>15196.07</td>\n",
       "    </tr>\n",
       "    <tr>\n",
       "      <th>4</th>\n",
       "      <td>2021-03-05</td>\n",
       "      <td>17471.37</td>\n",
       "    </tr>\n",
       "  </tbody>\n",
       "</table>\n",
       "</div>"
      ],
      "text/plain": [
       "        date2  CA quotidien\n",
       "0  2021-03-01      16565.22\n",
       "1  2021-03-02      15486.45\n",
       "2  2021-03-03      15198.69\n",
       "3  2021-03-04      15196.07\n",
       "4  2021-03-05      17471.37"
      ]
     },
     "execution_count": 45,
     "metadata": {},
     "output_type": "execute_result"
    }
   ],
   "source": [
    "mb=troisfichier2.copy()\n",
    "mb=mb.groupby(['date2']).agg({'price':'sum'}).reset_index().rename({'price' : 'CA quotidien'},axis=\"columns\")\n",
    "mb.head()"
   ]
  },
  {
   "cell_type": "code",
   "execution_count": 49,
   "metadata": {},
   "outputs": [
    {
     "data": {
      "text/html": [
       "<div>\n",
       "<style scoped>\n",
       "    .dataframe tbody tr th:only-of-type {\n",
       "        vertical-align: middle;\n",
       "    }\n",
       "\n",
       "    .dataframe tbody tr th {\n",
       "        vertical-align: top;\n",
       "    }\n",
       "\n",
       "    .dataframe thead th {\n",
       "        text-align: right;\n",
       "    }\n",
       "</style>\n",
       "<table border=\"1\" class=\"dataframe\">\n",
       "  <thead>\n",
       "    <tr style=\"text-align: right;\">\n",
       "      <th></th>\n",
       "      <th>date2</th>\n",
       "      <th>CA quotidien</th>\n",
       "    </tr>\n",
       "  </thead>\n",
       "  <tbody>\n",
       "    <tr>\n",
       "      <th>0</th>\n",
       "      <td>2021-03-01</td>\n",
       "      <td>16565.22</td>\n",
       "    </tr>\n",
       "    <tr>\n",
       "      <th>1</th>\n",
       "      <td>2021-03-02</td>\n",
       "      <td>15486.45</td>\n",
       "    </tr>\n",
       "    <tr>\n",
       "      <th>2</th>\n",
       "      <td>2021-03-03</td>\n",
       "      <td>15198.69</td>\n",
       "    </tr>\n",
       "    <tr>\n",
       "      <th>3</th>\n",
       "      <td>2021-03-04</td>\n",
       "      <td>15196.07</td>\n",
       "    </tr>\n",
       "    <tr>\n",
       "      <th>4</th>\n",
       "      <td>2021-03-05</td>\n",
       "      <td>17471.37</td>\n",
       "    </tr>\n",
       "  </tbody>\n",
       "</table>\n",
       "</div>"
      ],
      "text/plain": [
       "        date2  CA quotidien\n",
       "0  2021-03-01      16565.22\n",
       "1  2021-03-02      15486.45\n",
       "2  2021-03-03      15198.69\n",
       "3  2021-03-04      15196.07\n",
       "4  2021-03-05      17471.37"
      ]
     },
     "execution_count": 49,
     "metadata": {},
     "output_type": "execute_result"
    }
   ],
   "source": [
    "mb.head()"
   ]
  },
  {
   "cell_type": "markdown",
   "metadata": {},
   "source": [
    "Ensuite, je fais la moyenne mobile sur  10, 30 et 60 jours."
   ]
  },
  {
   "cell_type": "code",
   "execution_count": 51,
   "metadata": {},
   "outputs": [
    {
     "data": {
      "text/plain": [
       "<AxesSubplot:title={'center':'CA quotidien avec Moyenne Mobile sur 60 jours'}, xlabel='date3'>"
      ]
     },
     "execution_count": 51,
     "metadata": {},
     "output_type": "execute_result"
    },
    {
     "data": {
      "image/png": "[encoded data removed]",
      "text/plain": [
       "<Figure size 1440x720 with 3 Axes>"
      ]
     },
     "metadata": {
      "needs_background": "light"
     },
     "output_type": "display_data"
    }
   ],
   "source": [
    "#setting figure size\n",
    "from matplotlib.pylab import rcParams\n",
    "rcParams['figure.figsize'] = 20,10\n",
    "\n",
    "#for normalizing data\n",
    "from sklearn.preprocessing import MinMaxScaler\n",
    "scaler = MinMaxScaler(feature_range=(0, 1))\n",
    "\n",
    "# On utilise la date comme index\n",
    "mb['date3'] = pd.to_datetime(mb['date2'])\n",
    "mb.index = mb['date3']\n",
    "\n",
    "# 30,60,120jours moyenne mobile\n",
    "c = mb['CA quotidien']\n",
    "c30 = c.rolling(10,min_periods=1).mean() # le CA moyenne sur 1 mois\n",
    "c60 = c.rolling(30,min_periods=1).mean() #le CA moyenne sur 2 mois\n",
    "c120 = c.rolling(60,min_periods=1).mean() #le CA moyenne sur 4 mois\n",
    "\n",
    "fig, axes = plt.subplots(nrows=3, ncols=1)\n",
    "fig.tight_layout(pad=5.0) \n",
    "c['2021':].plot(ax=axes[0],title='CA quotidien avec Moyenne Mobile sur 10 jours')\n",
    "c30['2021':].plot(ax=axes[0]) \n",
    "c['2021':].plot(ax=axes[1],title='CA quotidien avec Moyenne Mobile sur 30 jours')\n",
    "c60['2021':].plot(ax=axes[1]) \n",
    "c['2021':].plot(ax=axes[2],title='CA quotidien avec Moyenne Mobile sur 60 jours')\n",
    "c120['2021':].plot(ax=axes[2])"
   ]
  },
  {
   "cell_type": "markdown",
   "metadata": {},
   "source": [
    "On peut voir que la tendance globale est stable depuis environ avril 2022.</br>\n",
    "On observe une hausse du CA entre févrie et marche 2022.</br>\n",
    "On remarque aussi qu'il semble manquantes des données entre octocbre et novembre 2021."
   ]
  },
  {
   "cell_type": "markdown",
   "metadata": {},
   "source": [
    "### Pourquoi il y a t-il une baisse en octocbre 2021?  \n",
    "\n",
    "Il y a t-il des données manquantes pendant cette période?"
   ]
  },
  {
   "cell_type": "markdown",
   "metadata": {},
   "source": [
    "Je choisis la periode concernée par la chute de CA."
   ]
  },
  {
   "cell_type": "code",
   "execution_count": 63,
   "metadata": {},
   "outputs": [
    {
     "data": {
      "text/html": [
       "<div>\n",
       "<style scoped>\n",
       "    .dataframe tbody tr th:only-of-type {\n",
       "        vertical-align: middle;\n",
       "    }\n",
       "\n",
       "    .dataframe tbody tr th {\n",
       "        vertical-align: top;\n",
       "    }\n",
       "\n",
       "    .dataframe thead th {\n",
       "        text-align: right;\n",
       "    }\n",
       "</style>\n",
       "<table border=\"1\" class=\"dataframe\">\n",
       "  <thead>\n",
       "    <tr style=\"text-align: right;\">\n",
       "      <th></th>\n",
       "      <th>date2</th>\n",
       "      <th>price</th>\n",
       "      <th>date</th>\n",
       "    </tr>\n",
       "  </thead>\n",
       "  <tbody>\n",
       "    <tr>\n",
       "      <th>0</th>\n",
       "      <td>2021-09-25</td>\n",
       "      <td>19080.29</td>\n",
       "      <td>2021-09-25 10:21:35.822143</td>\n",
       "    </tr>\n",
       "    <tr>\n",
       "      <th>1</th>\n",
       "      <td>2021-09-26</td>\n",
       "      <td>17419.29</td>\n",
       "      <td>2021-09-26 12:37:29.780414</td>\n",
       "    </tr>\n",
       "    <tr>\n",
       "      <th>2</th>\n",
       "      <td>2021-09-27</td>\n",
       "      <td>18542.39</td>\n",
       "      <td>2021-09-27 04:50:37.431817</td>\n",
       "    </tr>\n",
       "  </tbody>\n",
       "</table>\n",
       "</div>"
      ],
      "text/plain": [
       "        date2     price                        date\n",
       "0  2021-09-25  19080.29  2021-09-25 10:21:35.822143\n",
       "1  2021-09-26  17419.29  2021-09-26 12:37:29.780414\n",
       "2  2021-09-27  18542.39  2021-09-27 04:50:37.431817"
      ]
     },
     "execution_count": 63,
     "metadata": {},
     "output_type": "execute_result"
    }
   ],
   "source": [
    "merged_date = troisfichier2.copy()\n",
    "mask_selected_date = merged_date.date.between(\"2021-09-25\" , \"2021-11-01\")\n",
    "merged_date= merged_date[mask_selected_date]\n",
    "merged_date=merged_date.groupby(['date2']).agg({'price':'sum', 'date':'first'}).reset_index('date2')\n",
    "merged_date.head(3)"
   ]
  },
  {
   "cell_type": "markdown",
   "metadata": {},
   "source": [
    "Je dessine le diagrame pour voir plus en details"
   ]
  },
  {
   "cell_type": "code",
   "execution_count": 57,
   "metadata": {},
   "outputs": [
    {
     "data": {
      "text/plain": [
       "[<matplotlib.lines.Line2D at 0x23c9df5d3d0>]"
      ]
     },
     "execution_count": 57,
     "metadata": {},
     "output_type": "execute_result"
    },
    {
     "data": {
      "image/png": "[encoded data removed]",
      "text/plain": [
       "<Figure size 1152x576 with 1 Axes>"
      ]
     },
     "metadata": {
      "needs_background": "light"
     },
     "output_type": "display_data"
    }
   ],
   "source": [
    "rcParams['figure.figsize'] = 10,5\n",
    "scaler = MinMaxScaler(feature_range=(0, 1))\n",
    "merged_date.index = merged_date['date2']\n",
    "plt.figure(figsize=(16,8))\n",
    "plt.plot(merged_date['price'], label='CA quotidien')"
   ]
  },
  {
   "cell_type": "code",
   "execution_count": 65,
   "metadata": {},
   "outputs": [
    {
     "data": {
      "text/html": [
       "<div>\n",
       "<style scoped>\n",
       "    .dataframe tbody tr th:only-of-type {\n",
       "        vertical-align: middle;\n",
       "    }\n",
       "\n",
       "    .dataframe tbody tr th {\n",
       "        vertical-align: top;\n",
       "    }\n",
       "\n",
       "    .dataframe thead th {\n",
       "        text-align: right;\n",
       "    }\n",
       "</style>\n",
       "<table border=\"1\" class=\"dataframe\">\n",
       "  <thead>\n",
       "    <tr style=\"text-align: right;\">\n",
       "      <th></th>\n",
       "      <th>price</th>\n",
       "    </tr>\n",
       "    <tr>\n",
       "      <th>date2</th>\n",
       "      <th></th>\n",
       "    </tr>\n",
       "  </thead>\n",
       "  <tbody>\n",
       "    <tr>\n",
       "      <th>2021-09-25</th>\n",
       "      <td>19080.29</td>\n",
       "    </tr>\n",
       "    <tr>\n",
       "      <th>2021-09-26</th>\n",
       "      <td>17419.29</td>\n",
       "    </tr>\n",
       "    <tr>\n",
       "      <th>2021-09-27</th>\n",
       "      <td>18542.39</td>\n",
       "    </tr>\n",
       "    <tr>\n",
       "      <th>2021-09-28</th>\n",
       "      <td>18136.65</td>\n",
       "    </tr>\n",
       "    <tr>\n",
       "      <th>2021-09-29</th>\n",
       "      <td>18410.71</td>\n",
       "    </tr>\n",
       "    <tr>\n",
       "      <th>2021-09-30</th>\n",
       "      <td>18128.01</td>\n",
       "    </tr>\n",
       "    <tr>\n",
       "      <th>2021-10-01</th>\n",
       "      <td>17058.34</td>\n",
       "    </tr>\n",
       "    <tr>\n",
       "      <th>2021-10-02</th>\n",
       "      <td>9182.13</td>\n",
       "    </tr>\n",
       "    <tr>\n",
       "      <th>2021-10-03</th>\n",
       "      <td>8993.05</td>\n",
       "    </tr>\n",
       "    <tr>\n",
       "      <th>2021-10-04</th>\n",
       "      <td>9279.68</td>\n",
       "    </tr>\n",
       "    <tr>\n",
       "      <th>2021-10-05</th>\n",
       "      <td>9390.46</td>\n",
       "    </tr>\n",
       "    <tr>\n",
       "      <th>2021-10-06</th>\n",
       "      <td>9490.69</td>\n",
       "    </tr>\n",
       "    <tr>\n",
       "      <th>2021-10-07</th>\n",
       "      <td>8191.08</td>\n",
       "    </tr>\n",
       "    <tr>\n",
       "      <th>2021-10-08</th>\n",
       "      <td>10207.35</td>\n",
       "    </tr>\n",
       "    <tr>\n",
       "      <th>2021-10-09</th>\n",
       "      <td>9425.36</td>\n",
       "    </tr>\n",
       "    <tr>\n",
       "      <th>2021-10-10</th>\n",
       "      <td>8825.65</td>\n",
       "    </tr>\n",
       "    <tr>\n",
       "      <th>2021-10-11</th>\n",
       "      <td>10230.56</td>\n",
       "    </tr>\n",
       "    <tr>\n",
       "      <th>2021-10-12</th>\n",
       "      <td>8971.15</td>\n",
       "    </tr>\n",
       "    <tr>\n",
       "      <th>2021-10-13</th>\n",
       "      <td>9427.22</td>\n",
       "    </tr>\n",
       "    <tr>\n",
       "      <th>2021-10-14</th>\n",
       "      <td>9469.78</td>\n",
       "    </tr>\n",
       "    <tr>\n",
       "      <th>2021-10-15</th>\n",
       "      <td>9398.83</td>\n",
       "    </tr>\n",
       "    <tr>\n",
       "      <th>2021-10-16</th>\n",
       "      <td>10229.02</td>\n",
       "    </tr>\n",
       "    <tr>\n",
       "      <th>2021-10-17</th>\n",
       "      <td>9557.98</td>\n",
       "    </tr>\n",
       "    <tr>\n",
       "      <th>2021-10-18</th>\n",
       "      <td>9083.72</td>\n",
       "    </tr>\n",
       "    <tr>\n",
       "      <th>2021-10-19</th>\n",
       "      <td>8601.71</td>\n",
       "    </tr>\n",
       "    <tr>\n",
       "      <th>2021-10-20</th>\n",
       "      <td>9021.19</td>\n",
       "    </tr>\n",
       "    <tr>\n",
       "      <th>2021-10-21</th>\n",
       "      <td>9571.79</td>\n",
       "    </tr>\n",
       "    <tr>\n",
       "      <th>2021-10-22</th>\n",
       "      <td>8467.86</td>\n",
       "    </tr>\n",
       "    <tr>\n",
       "      <th>2021-10-23</th>\n",
       "      <td>8910.64</td>\n",
       "    </tr>\n",
       "    <tr>\n",
       "      <th>2021-10-24</th>\n",
       "      <td>9923.19</td>\n",
       "    </tr>\n",
       "    <tr>\n",
       "      <th>2021-10-25</th>\n",
       "      <td>8076.04</td>\n",
       "    </tr>\n",
       "    <tr>\n",
       "      <th>2021-10-26</th>\n",
       "      <td>9020.79</td>\n",
       "    </tr>\n",
       "    <tr>\n",
       "      <th>2021-10-27</th>\n",
       "      <td>9789.53</td>\n",
       "    </tr>\n",
       "    <tr>\n",
       "      <th>2021-10-28</th>\n",
       "      <td>14758.42</td>\n",
       "    </tr>\n",
       "    <tr>\n",
       "      <th>2021-10-29</th>\n",
       "      <td>16453.63</td>\n",
       "    </tr>\n",
       "    <tr>\n",
       "      <th>2021-10-30</th>\n",
       "      <td>15386.78</td>\n",
       "    </tr>\n",
       "    <tr>\n",
       "      <th>2021-10-31</th>\n",
       "      <td>16405.12</td>\n",
       "    </tr>\n",
       "  </tbody>\n",
       "</table>\n",
       "</div>"
      ],
      "text/plain": [
       "               price\n",
       "date2               \n",
       "2021-09-25  19080.29\n",
       "2021-09-26  17419.29\n",
       "2021-09-27  18542.39\n",
       "2021-09-28  18136.65\n",
       "2021-09-29  18410.71\n",
       "2021-09-30  18128.01\n",
       "2021-10-01  17058.34\n",
       "2021-10-02   9182.13\n",
       "2021-10-03   8993.05\n",
       "2021-10-04   9279.68\n",
       "2021-10-05   9390.46\n",
       "2021-10-06   9490.69\n",
       "2021-10-07   8191.08\n",
       "2021-10-08  10207.35\n",
       "2021-10-09   9425.36\n",
       "2021-10-10   8825.65\n",
       "2021-10-11  10230.56\n",
       "2021-10-12   8971.15\n",
       "2021-10-13   9427.22\n",
       "2021-10-14   9469.78\n",
       "2021-10-15   9398.83\n",
       "2021-10-16  10229.02\n",
       "2021-10-17   9557.98\n",
       "2021-10-18   9083.72\n",
       "2021-10-19   8601.71\n",
       "2021-10-20   9021.19\n",
       "2021-10-21   9571.79\n",
       "2021-10-22   8467.86\n",
       "2021-10-23   8910.64\n",
       "2021-10-24   9923.19\n",
       "2021-10-25   8076.04\n",
       "2021-10-26   9020.79\n",
       "2021-10-27   9789.53\n",
       "2021-10-28  14758.42\n",
       "2021-10-29  16453.63\n",
       "2021-10-30  15386.78\n",
       "2021-10-31  16405.12"
      ]
     },
     "execution_count": 65,
     "metadata": {},
     "output_type": "execute_result"
    }
   ],
   "source": [
    "mask_selected_date = merged_date.date.between(\"2021-09-25\" , \"2021-11-01\")\n",
    "merged_date= merged_date[mask_selected_date]\n",
    "merged_date=merged_date.groupby(['date2']).agg({'price':'sum'})\n",
    "merged_date"
   ]
  },
  {
   "cell_type": "markdown",
   "metadata": {},
   "source": [
    "On voit donc que la chute du CA concerne la periode du **02/10/2021 au 27/10/2021**. </br>\n",
    "Maintenant, on vérifie les catégories trouvées pendent cette période. "
   ]
  },
  {
   "cell_type": "code",
   "execution_count": 239,
   "metadata": {},
   "outputs": [
    {
     "data": {
      "text/plain": [
       "array([0, 2], dtype=int64)"
      ]
     },
     "execution_count": 239,
     "metadata": {},
     "output_type": "execute_result"
    }
   ],
   "source": [
    "mask_selected_date = troisfichier2.date.between(\"2021-10-02\" , \"2021-10-27\")\n",
    "pd.unique(troisfichier2[mask_selected_date]['categ'])"
   ]
  },
  {
   "cell_type": "markdown",
   "metadata": {},
   "source": [
    "Il n' y a que les catégories 0 et 2. **Il manque la categorie 1**. </br>\n",
    "##### Est-ce pareil si on prend une autre periode? </br>\n",
    "On élargie la periode pour prendre des jours normaux."
   ]
  },
  {
   "cell_type": "code",
   "execution_count": 240,
   "metadata": {},
   "outputs": [
    {
     "data": {
      "text/plain": [
       "array([0, 1, 2], dtype=int64)"
      ]
     },
     "execution_count": 240,
     "metadata": {},
     "output_type": "execute_result"
    }
   ],
   "source": [
    "mask_selected_date = troisfichier2.date.between(\"2021-09-25\" , \"2021-11-01\")\n",
    "pd.unique(troisfichier2[mask_selected_date]['categ'])"
   ]
  },
  {
   "cell_type": "markdown",
   "metadata": {},
   "source": [
    "Il semble que la chute de CA soit lié a une absence de données de la catégorie 1.\n",
    "\n",
    "On va compter le nombre de fois que la catégorie 1 est apparue sur une periode élargie, pour vérifier s'il s'agit d' un hasard ou bien d'une absence de données."
   ]
  },
  {
   "cell_type": "code",
   "execution_count": 242,
   "metadata": {},
   "outputs": [
    {
     "data": {
      "text/html": [
       "<div>\n",
       "<style scoped>\n",
       "    .dataframe tbody tr th:only-of-type {\n",
       "        vertical-align: middle;\n",
       "    }\n",
       "\n",
       "    .dataframe tbody tr th {\n",
       "        vertical-align: top;\n",
       "    }\n",
       "\n",
       "    .dataframe thead th {\n",
       "        text-align: right;\n",
       "    }\n",
       "</style>\n",
       "<table border=\"1\" class=\"dataframe\">\n",
       "  <thead>\n",
       "    <tr style=\"text-align: right;\">\n",
       "      <th></th>\n",
       "      <th></th>\n",
       "      <th>id_prod</th>\n",
       "    </tr>\n",
       "    <tr>\n",
       "      <th>categ</th>\n",
       "      <th>date2</th>\n",
       "      <th></th>\n",
       "    </tr>\n",
       "  </thead>\n",
       "  <tbody>\n",
       "    <tr>\n",
       "      <th rowspan=\"9\" valign=\"top\">1</th>\n",
       "      <th>2021-09-25</th>\n",
       "      <td>357</td>\n",
       "    </tr>\n",
       "    <tr>\n",
       "      <th>2021-09-26</th>\n",
       "      <td>290</td>\n",
       "    </tr>\n",
       "    <tr>\n",
       "      <th>2021-09-27</th>\n",
       "      <td>334</td>\n",
       "    </tr>\n",
       "    <tr>\n",
       "      <th>2021-09-28</th>\n",
       "      <td>298</td>\n",
       "    </tr>\n",
       "    <tr>\n",
       "      <th>2021-09-29</th>\n",
       "      <td>327</td>\n",
       "    </tr>\n",
       "    <tr>\n",
       "      <th>2021-09-30</th>\n",
       "      <td>342</td>\n",
       "    </tr>\n",
       "    <tr>\n",
       "      <th>2021-10-01</th>\n",
       "      <td>344</td>\n",
       "    </tr>\n",
       "    <tr>\n",
       "      <th>2021-10-28</th>\n",
       "      <td>316</td>\n",
       "    </tr>\n",
       "    <tr>\n",
       "      <th>2021-10-29</th>\n",
       "      <td>326</td>\n",
       "    </tr>\n",
       "  </tbody>\n",
       "</table>\n",
       "</div>"
      ],
      "text/plain": [
       "                  id_prod\n",
       "categ date2              \n",
       "1     2021-09-25      357\n",
       "      2021-09-26      290\n",
       "      2021-09-27      334\n",
       "      2021-09-28      298\n",
       "      2021-09-29      327\n",
       "      2021-09-30      342\n",
       "      2021-10-01      344\n",
       "      2021-10-28      316\n",
       "      2021-10-29      326"
      ]
     },
     "execution_count": 242,
     "metadata": {},
     "output_type": "execute_result"
    }
   ],
   "source": [
    "mask_selected_date = troisfichier2.date.between(\"2021-09-25\" , \"2021-10-30\") & troisfichier2.categ == 1\n",
    "\n",
    "troisfichier2[mask_selected_date].groupby(['categ','date2']).agg({'id_prod':'count'})"
   ]
  },
  {
   "cell_type": "markdown",
   "metadata": {},
   "source": [
    "On voit bien qu'on a pas de données pour la catégories 1 entre le 2 Octobre et le 27 Octobre. </br>\n",
    "Il s'agit donc bien d'**une absence des données de transactions des livres de catégorie 1** pour cette période."
   ]
  },
  {
   "cell_type": "markdown",
   "metadata": {},
   "source": [
    "## Les tops ( meilleurs ventes) &  les flops (les plus mauvais ventes)"
   ]
  },
  {
   "cell_type": "markdown",
   "metadata": {},
   "source": [
    "### Quels produits ont été le plus vendus?"
   ]
  },
  {
   "cell_type": "code",
   "execution_count": 244,
   "metadata": {},
   "outputs": [
    {
     "data": {
      "text/plain": [
       "id_prod  categ  price  CAproduct\n",
       "1_369    1      23.99  54025.48     2252\n",
       "1_417    1      20.99  45947.11     2189\n",
       "dtype: int64"
      ]
     },
     "execution_count": 244,
     "metadata": {},
     "output_type": "execute_result"
    }
   ],
   "source": [
    "nb_chaquepd= troisfichier.copy()\n",
    "nb_chaquepd['CAproduct'] = nb_chaquepd.groupby(['id_prod', 'categ']).price.transform('sum')\n",
    "#nb_chaquepd['CAproductTotal'] = nb_chaquepd.price.sum()\n",
    "nb_chaquepd = nb_chaquepd.value_counts(subset=['id_prod', 'categ', 'price', 'CAproduct'])\n",
    "nb_chaquepd.head(2)"
   ]
  },
  {
   "cell_type": "code",
   "execution_count": 245,
   "metadata": {},
   "outputs": [
    {
     "data": {
      "text/html": [
       "<div>\n",
       "<style scoped>\n",
       "    .dataframe tbody tr th:only-of-type {\n",
       "        vertical-align: middle;\n",
       "    }\n",
       "\n",
       "    .dataframe tbody tr th {\n",
       "        vertical-align: top;\n",
       "    }\n",
       "\n",
       "    .dataframe thead th {\n",
       "        text-align: right;\n",
       "    }\n",
       "</style>\n",
       "<table border=\"1\" class=\"dataframe\">\n",
       "  <thead>\n",
       "    <tr style=\"text-align: right;\">\n",
       "      <th></th>\n",
       "      <th>id_prod</th>\n",
       "      <th>categ</th>\n",
       "      <th>price</th>\n",
       "      <th>CAproduct</th>\n",
       "      <th>nb_chaque_produit</th>\n",
       "    </tr>\n",
       "  </thead>\n",
       "  <tbody>\n",
       "    <tr>\n",
       "      <th>0</th>\n",
       "      <td>1_369</td>\n",
       "      <td>1</td>\n",
       "      <td>23.99</td>\n",
       "      <td>54025.48</td>\n",
       "      <td>2252</td>\n",
       "    </tr>\n",
       "    <tr>\n",
       "      <th>1</th>\n",
       "      <td>1_417</td>\n",
       "      <td>1</td>\n",
       "      <td>20.99</td>\n",
       "      <td>45947.11</td>\n",
       "      <td>2189</td>\n",
       "    </tr>\n",
       "  </tbody>\n",
       "</table>\n",
       "</div>"
      ],
      "text/plain": [
       "  id_prod  categ  price  CAproduct  nb_chaque_produit\n",
       "0   1_369      1  23.99   54025.48               2252\n",
       "1   1_417      1  20.99   45947.11               2189"
      ]
     },
     "execution_count": 245,
     "metadata": {},
     "output_type": "execute_result"
    }
   ],
   "source": [
    "nb_chaquepd = nb_chaquepd.reset_index(name='nb_chaque_produit')\n",
    "nb_chaquepd.head(2)"
   ]
  },
  {
   "cell_type": "markdown",
   "metadata": {},
   "source": [
    "### Voici le top 5 des produits les plus vendus avec leur contribution au CA"
   ]
  },
  {
   "cell_type": "code",
   "execution_count": 246,
   "metadata": {},
   "outputs": [
    {
     "data": {
      "text/html": [
       "<div>\n",
       "<style scoped>\n",
       "    .dataframe tbody tr th:only-of-type {\n",
       "        vertical-align: middle;\n",
       "    }\n",
       "\n",
       "    .dataframe tbody tr th {\n",
       "        vertical-align: top;\n",
       "    }\n",
       "\n",
       "    .dataframe thead th {\n",
       "        text-align: right;\n",
       "    }\n",
       "</style>\n",
       "<table border=\"1\" class=\"dataframe\">\n",
       "  <thead>\n",
       "    <tr style=\"text-align: right;\">\n",
       "      <th></th>\n",
       "      <th>id_prod</th>\n",
       "      <th>categ</th>\n",
       "      <th>price</th>\n",
       "      <th>CAproduct</th>\n",
       "      <th>nb_chaque_produit</th>\n",
       "    </tr>\n",
       "  </thead>\n",
       "  <tbody>\n",
       "    <tr>\n",
       "      <th>0</th>\n",
       "      <td>1_369</td>\n",
       "      <td>1</td>\n",
       "      <td>23.99</td>\n",
       "      <td>54025.48</td>\n",
       "      <td>2252</td>\n",
       "    </tr>\n",
       "    <tr>\n",
       "      <th>1</th>\n",
       "      <td>1_417</td>\n",
       "      <td>1</td>\n",
       "      <td>20.99</td>\n",
       "      <td>45947.11</td>\n",
       "      <td>2189</td>\n",
       "    </tr>\n",
       "    <tr>\n",
       "      <th>2</th>\n",
       "      <td>1_414</td>\n",
       "      <td>1</td>\n",
       "      <td>23.83</td>\n",
       "      <td>51949.40</td>\n",
       "      <td>2180</td>\n",
       "    </tr>\n",
       "    <tr>\n",
       "      <th>3</th>\n",
       "      <td>1_498</td>\n",
       "      <td>1</td>\n",
       "      <td>23.37</td>\n",
       "      <td>49731.36</td>\n",
       "      <td>2128</td>\n",
       "    </tr>\n",
       "    <tr>\n",
       "      <th>4</th>\n",
       "      <td>1_425</td>\n",
       "      <td>1</td>\n",
       "      <td>16.99</td>\n",
       "      <td>35611.04</td>\n",
       "      <td>2096</td>\n",
       "    </tr>\n",
       "  </tbody>\n",
       "</table>\n",
       "</div>"
      ],
      "text/plain": [
       "  id_prod  categ  price  CAproduct  nb_chaque_produit\n",
       "0   1_369      1  23.99   54025.48               2252\n",
       "1   1_417      1  20.99   45947.11               2189\n",
       "2   1_414      1  23.83   51949.40               2180\n",
       "3   1_498      1  23.37   49731.36               2128\n",
       "4   1_425      1  16.99   35611.04               2096"
      ]
     },
     "execution_count": 246,
     "metadata": {},
     "output_type": "execute_result"
    }
   ],
   "source": [
    "nb_chaquepd.loc[0:4]\n",
    "## les cinqs produits les plus vendus avec le CA "
   ]
  },
  {
   "cell_type": "markdown",
   "metadata": {},
   "source": [
    "On peut voir la performance global pour chaque catégorie en terme de répartition du CA."
   ]
  },
  {
   "cell_type": "code",
   "execution_count": 247,
   "metadata": {},
   "outputs": [
    {
     "data": {
      "text/html": [
       "<div>\n",
       "<style scoped>\n",
       "    .dataframe tbody tr th:only-of-type {\n",
       "        vertical-align: middle;\n",
       "    }\n",
       "\n",
       "    .dataframe tbody tr th {\n",
       "        vertical-align: top;\n",
       "    }\n",
       "\n",
       "    .dataframe thead th {\n",
       "        text-align: right;\n",
       "    }\n",
       "</style>\n",
       "<table border=\"1\" class=\"dataframe\">\n",
       "  <thead>\n",
       "    <tr style=\"text-align: right;\">\n",
       "      <th></th>\n",
       "      <th>categ</th>\n",
       "      <th>CA total sur deux ans</th>\n",
       "    </tr>\n",
       "  </thead>\n",
       "  <tbody>\n",
       "    <tr>\n",
       "      <th>0</th>\n",
       "      <td>0</td>\n",
       "      <td>4419730.97</td>\n",
       "    </tr>\n",
       "    <tr>\n",
       "      <th>1</th>\n",
       "      <td>1</td>\n",
       "      <td>4653722.69</td>\n",
       "    </tr>\n",
       "    <tr>\n",
       "      <th>2</th>\n",
       "      <td>2</td>\n",
       "      <td>2780275.02</td>\n",
       "    </tr>\n",
       "  </tbody>\n",
       "</table>\n",
       "</div>"
      ],
      "text/plain": [
       "   categ  CA total sur deux ans\n",
       "0      0             4419730.97\n",
       "1      1             4653722.69\n",
       "2      2             2780275.02"
      ]
     },
     "execution_count": 247,
     "metadata": {},
     "output_type": "execute_result"
    }
   ],
   "source": [
    "nb_chaquepd_categ = nb_chaquepd.groupby('categ').CAproduct.agg('sum').reset_index(name='CA total sur deux ans')\n",
    "nb_chaquepd_categ\n",
    "#graphique en bar "
   ]
  },
  {
   "cell_type": "code",
   "execution_count": 249,
   "metadata": {},
   "outputs": [
    {
     "data": {
      "image/png": "[encoded data removed]",
      "text/plain": [
       "<Figure size 576x288 with 1 Axes>"
      ]
     },
     "metadata": {},
     "output_type": "display_data"
    }
   ],
   "source": [
    "plt.rcParams['figure.figsize'] = 8,4\n",
    "fig, ax = plt.subplots()\n",
    "categ1 =nb_chaquepd_categ ['categ'].astype('string')\n",
    "sum1 =nb_chaquepd_categ['CA total sur deux ans'].values / 1000000 \n",
    "bar_colors = ['r', 'b','g']\n",
    "\n",
    "ax.bar(categ1, sum1, color=bar_colors, width=0.3)\n",
    "ax.set_ylabel('CA total (en milion d\\'euro)')\n",
    "ax.set_title('CA total (en milion d\\'euro) sur deux ans par catégorie')\n",
    "ax.bar_label(ax.containers[0])\n",
    "plt.show()"
   ]
  },
  {
   "cell_type": "markdown",
   "metadata": {},
   "source": [
    "On peux voir que la catégorie 1 en dans premier place en terme de CA, \n",
    "alors que la catégorie 2 représente une part plus faible du CA."
   ]
  },
  {
   "cell_type": "markdown",
   "metadata": {},
   "source": [
    "# Informations sur les profils clients"
   ]
  },
  {
   "cell_type": "markdown",
   "metadata": {},
   "source": [
    "### Répartition par sexe des clients\n",
    "(cela inclut les 21 clients qui n'ont pas fait d'achat)"
   ]
  },
  {
   "cell_type": "markdown",
   "metadata": {},
   "source": [
    "On calcule nombre de clients par sexe."
   ]
  },
  {
   "cell_type": "code",
   "execution_count": 260,
   "metadata": {},
   "outputs": [
    {
     "data": {
      "text/html": [
       "<div>\n",
       "<style scoped>\n",
       "    .dataframe tbody tr th:only-of-type {\n",
       "        vertical-align: middle;\n",
       "    }\n",
       "\n",
       "    .dataframe tbody tr th {\n",
       "        vertical-align: top;\n",
       "    }\n",
       "\n",
       "    .dataframe thead th {\n",
       "        text-align: right;\n",
       "    }\n",
       "</style>\n",
       "<table border=\"1\" class=\"dataframe\">\n",
       "  <thead>\n",
       "    <tr style=\"text-align: right;\">\n",
       "      <th></th>\n",
       "      <th>sex</th>\n",
       "      <th>client_id</th>\n",
       "      <th>birth</th>\n",
       "    </tr>\n",
       "  </thead>\n",
       "  <tbody>\n",
       "    <tr>\n",
       "      <th>0</th>\n",
       "      <td>f</td>\n",
       "      <td>4490</td>\n",
       "      <td>4490</td>\n",
       "    </tr>\n",
       "    <tr>\n",
       "      <th>1</th>\n",
       "      <td>m</td>\n",
       "      <td>4131</td>\n",
       "      <td>4131</td>\n",
       "    </tr>\n",
       "  </tbody>\n",
       "</table>\n",
       "</div>"
      ],
      "text/plain": [
       "  sex  client_id  birth\n",
       "0   f       4490   4490\n",
       "1   m       4131   4131"
      ]
     },
     "execution_count": 260,
     "metadata": {},
     "output_type": "execute_result"
    }
   ],
   "source": [
    "df_customers2 =df_customers.copy()\n",
    "df_customers3 = df_customers2.groupby(['sex']).count().reset_index()\n",
    "df_customers3.client_id = pd.to_numeric(df_customers3.client_id)\n",
    "df_customers3"
   ]
  },
  {
   "cell_type": "code",
   "execution_count": 264,
   "metadata": {},
   "outputs": [
    {
     "data": {
      "image/png": "[encoded data removed]",
      "text/plain": [
       "<Figure size 720x360 with 1 Axes>"
      ]
     },
     "metadata": {},
     "output_type": "display_data"
    }
   ],
   "source": [
    "plt.rcParams['text.color']='black'\n",
    "# Pie chart, where the slices will be ordered and plotted counter-clockwise:\n",
    "labels = 'Female', 'Male'\n",
    "sizes = df_customers3['client_id'].values * 100\n",
    "explode = (0, 0.1)  # 塊狀之間的間距\n",
    "\n",
    "fig1, ax1 = plt.subplots()\n",
    "ax1.pie(sizes, explode=explode, labels=labels, autopct='%1.1f%%',\n",
    "        shadow=True, startangle=90,colors = ['mediumspringgreen', 'turquoise'])\n",
    "ax1.axis('equal')  # Equal aspect ratio ensures that pie is drawn as a circle.\n",
    "plt.title('Nombre de clients par sexe')\n",
    "plt.show()"
   ]
  },
  {
   "cell_type": "markdown",
   "metadata": {},
   "source": [
    "L'écart des ratios entre les clients hommes/femmes est relativement faible (environ 4 %)."
   ]
  },
  {
   "cell_type": "markdown",
   "metadata": {},
   "source": [
    "# Répartition des clients par tranche d'age"
   ]
  },
  {
   "cell_type": "markdown",
   "metadata": {},
   "source": [
    "Je calcule d'abord l'âge actuel des clients.\n",
    "et je groupe par tranche d'âge en 6 groupes. "
   ]
  },
  {
   "cell_type": "code",
   "execution_count": 265,
   "metadata": {},
   "outputs": [
    {
     "data": {
      "text/html": [
       "<div>\n",
       "<style scoped>\n",
       "    .dataframe tbody tr th:only-of-type {\n",
       "        vertical-align: middle;\n",
       "    }\n",
       "\n",
       "    .dataframe tbody tr th {\n",
       "        vertical-align: top;\n",
       "    }\n",
       "\n",
       "    .dataframe thead th {\n",
       "        text-align: right;\n",
       "    }\n",
       "</style>\n",
       "<table border=\"1\" class=\"dataframe\">\n",
       "  <thead>\n",
       "    <tr style=\"text-align: right;\">\n",
       "      <th></th>\n",
       "      <th>client_id</th>\n",
       "      <th>sex</th>\n",
       "      <th>birth</th>\n",
       "      <th>age</th>\n",
       "      <th>age_group</th>\n",
       "    </tr>\n",
       "  </thead>\n",
       "  <tbody>\n",
       "    <tr>\n",
       "      <th>0</th>\n",
       "      <td>c_4410</td>\n",
       "      <td>f</td>\n",
       "      <td>1967</td>\n",
       "      <td>56</td>\n",
       "      <td>55-64</td>\n",
       "    </tr>\n",
       "    <tr>\n",
       "      <th>1</th>\n",
       "      <td>c_7839</td>\n",
       "      <td>f</td>\n",
       "      <td>1975</td>\n",
       "      <td>48</td>\n",
       "      <td>45-54</td>\n",
       "    </tr>\n",
       "    <tr>\n",
       "      <th>2</th>\n",
       "      <td>c_1699</td>\n",
       "      <td>f</td>\n",
       "      <td>1984</td>\n",
       "      <td>39</td>\n",
       "      <td>35-44</td>\n",
       "    </tr>\n",
       "    <tr>\n",
       "      <th>3</th>\n",
       "      <td>c_5961</td>\n",
       "      <td>f</td>\n",
       "      <td>1962</td>\n",
       "      <td>61</td>\n",
       "      <td>55-64</td>\n",
       "    </tr>\n",
       "    <tr>\n",
       "      <th>4</th>\n",
       "      <td>c_5320</td>\n",
       "      <td>m</td>\n",
       "      <td>1943</td>\n",
       "      <td>80</td>\n",
       "      <td>65+</td>\n",
       "    </tr>\n",
       "  </tbody>\n",
       "</table>\n",
       "</div>"
      ],
      "text/plain": [
       "  client_id sex  birth  age age_group\n",
       "0    c_4410   f   1967   56     55-64\n",
       "1    c_7839   f   1975   48     45-54\n",
       "2    c_1699   f   1984   39     35-44\n",
       "3    c_5961   f   1962   61     55-64\n",
       "4    c_5320   m   1943   80       65+"
      ]
     },
     "execution_count": 265,
     "metadata": {},
     "output_type": "execute_result"
    }
   ],
   "source": [
    "# calculer l'age\n",
    "now = 2023\n",
    "df_customers['age'] = now - df_customers['birth']\n",
    "\n",
    "#classer d'age\n",
    "bins= [18,25,35,45,55,65,100]\n",
    "labels = ['18-24','25-34','35-44','45-54','55-64','65+']\n",
    "df_customers['age_group'] = pd.cut(df_customers['age'], bins=bins, labels=labels, right=False)\n",
    "df_customers.head(5)"
   ]
  },
  {
   "cell_type": "markdown",
   "metadata": {},
   "source": [
    "Je calcule le nombre de personnes dans chaque classe d'âge.\n",
    "Et je dessine le diagramme en bâton."
   ]
  },
  {
   "cell_type": "code",
   "execution_count": 266,
   "metadata": {},
   "outputs": [
    {
     "data": {
      "text/html": [
       "<div>\n",
       "<style scoped>\n",
       "    .dataframe tbody tr th:only-of-type {\n",
       "        vertical-align: middle;\n",
       "    }\n",
       "\n",
       "    .dataframe tbody tr th {\n",
       "        vertical-align: top;\n",
       "    }\n",
       "\n",
       "    .dataframe thead th {\n",
       "        text-align: right;\n",
       "    }\n",
       "</style>\n",
       "<table border=\"1\" class=\"dataframe\">\n",
       "  <thead>\n",
       "    <tr style=\"text-align: right;\">\n",
       "      <th></th>\n",
       "      <th>age_group</th>\n",
       "      <th>age</th>\n",
       "    </tr>\n",
       "  </thead>\n",
       "  <tbody>\n",
       "    <tr>\n",
       "      <th>0</th>\n",
       "      <td>18-24</td>\n",
       "      <td>1155</td>\n",
       "    </tr>\n",
       "    <tr>\n",
       "      <th>1</th>\n",
       "      <td>25-34</td>\n",
       "      <td>1566</td>\n",
       "    </tr>\n",
       "    <tr>\n",
       "      <th>2</th>\n",
       "      <td>35-44</td>\n",
       "      <td>1780</td>\n",
       "    </tr>\n",
       "    <tr>\n",
       "      <th>3</th>\n",
       "      <td>45-54</td>\n",
       "      <td>1610</td>\n",
       "    </tr>\n",
       "    <tr>\n",
       "      <th>4</th>\n",
       "      <td>55-64</td>\n",
       "      <td>1234</td>\n",
       "    </tr>\n",
       "  </tbody>\n",
       "</table>\n",
       "</div>"
      ],
      "text/plain": [
       "  age_group   age\n",
       "0     18-24  1155\n",
       "1     25-34  1566\n",
       "2     35-44  1780\n",
       "3     45-54  1610\n",
       "4     55-64  1234"
      ]
     },
     "execution_count": 266,
     "metadata": {},
     "output_type": "execute_result"
    }
   ],
   "source": [
    "dfnombre = df_customers.groupby('age_group')['age'].count().reset_index()\n",
    "dfnombre.head()"
   ]
  },
  {
   "cell_type": "code",
   "execution_count": 267,
   "metadata": {},
   "outputs": [
    {
     "data": {
      "image/png": "[encoded data removed]",
      "text/plain": [
       "<Figure size 720x360 with 1 Axes>"
      ]
     },
     "metadata": {},
     "output_type": "display_data"
    }
   ],
   "source": [
    "plt.rcParams['text.color']='black'\n",
    "# nombre de clients par tranche d'age\n",
    "fig, ax = plt.subplots()\n",
    "class_age = dfnombre['age_group']\n",
    "counts = dfnombre['age']\n",
    "bar_labels = dfnombre['age_group']\n",
    "bar_colors = ['tab:red', 'tab:blue', 'tab:green', 'tab:orange','tab:purple','tab:brown']\n",
    "ax.bar(class_age , counts, label=bar_labels, color=bar_colors)\n",
    "ax.set_ylabel('nombre de clients')\n",
    "ax.set_title('nombre de clients par tranche d\\'age')\n",
    "ax.bar_label(ax.containers[0])\n",
    "plt.show()"
   ]
  },
  {
   "cell_type": "markdown",
   "metadata": {},
   "source": [
    "On voit que la tranche d'âge 35-44 est la plus représentée. "
   ]
  },
  {
   "cell_type": "markdown",
   "metadata": {},
   "source": [
    "Je calcule le pourcentage pour chaque groupe d'age."
   ]
  },
  {
   "cell_type": "code",
   "execution_count": 268,
   "metadata": {},
   "outputs": [
    {
     "data": {
      "text/html": [
       "<div>\n",
       "<style scoped>\n",
       "    .dataframe tbody tr th:only-of-type {\n",
       "        vertical-align: middle;\n",
       "    }\n",
       "\n",
       "    .dataframe tbody tr th {\n",
       "        vertical-align: top;\n",
       "    }\n",
       "\n",
       "    .dataframe thead th {\n",
       "        text-align: right;\n",
       "    }\n",
       "</style>\n",
       "<table border=\"1\" class=\"dataframe\">\n",
       "  <thead>\n",
       "    <tr style=\"text-align: right;\">\n",
       "      <th></th>\n",
       "      <th>client_id</th>\n",
       "      <th>sex</th>\n",
       "      <th>birth</th>\n",
       "      <th>age</th>\n",
       "      <th>age_group</th>\n",
       "      <th>pourcentage</th>\n",
       "    </tr>\n",
       "  </thead>\n",
       "  <tbody>\n",
       "    <tr>\n",
       "      <th>0</th>\n",
       "      <td>c_4410</td>\n",
       "      <td>f</td>\n",
       "      <td>1967</td>\n",
       "      <td>56</td>\n",
       "      <td>55-64</td>\n",
       "      <td>14.313885</td>\n",
       "    </tr>\n",
       "    <tr>\n",
       "      <th>1</th>\n",
       "      <td>c_7839</td>\n",
       "      <td>f</td>\n",
       "      <td>1975</td>\n",
       "      <td>48</td>\n",
       "      <td>45-54</td>\n",
       "      <td>18.675328</td>\n",
       "    </tr>\n",
       "    <tr>\n",
       "      <th>2</th>\n",
       "      <td>c_1699</td>\n",
       "      <td>f</td>\n",
       "      <td>1984</td>\n",
       "      <td>39</td>\n",
       "      <td>35-44</td>\n",
       "      <td>20.647257</td>\n",
       "    </tr>\n",
       "    <tr>\n",
       "      <th>3</th>\n",
       "      <td>c_5961</td>\n",
       "      <td>f</td>\n",
       "      <td>1962</td>\n",
       "      <td>61</td>\n",
       "      <td>55-64</td>\n",
       "      <td>14.313885</td>\n",
       "    </tr>\n",
       "    <tr>\n",
       "      <th>4</th>\n",
       "      <td>c_5320</td>\n",
       "      <td>m</td>\n",
       "      <td>1943</td>\n",
       "      <td>80</td>\n",
       "      <td>65+</td>\n",
       "      <td>14.801067</td>\n",
       "    </tr>\n",
       "  </tbody>\n",
       "</table>\n",
       "</div>"
      ],
      "text/plain": [
       "  client_id sex  birth  age age_group  pourcentage\n",
       "0    c_4410   f   1967   56     55-64    14.313885\n",
       "1    c_7839   f   1975   48     45-54    18.675328\n",
       "2    c_1699   f   1984   39     35-44    20.647257\n",
       "3    c_5961   f   1962   61     55-64    14.313885\n",
       "4    c_5320   m   1943   80       65+    14.801067"
      ]
     },
     "execution_count": 268,
     "metadata": {},
     "output_type": "execute_result"
    }
   ],
   "source": [
    "df_customers['pourcentage'] = df_customers.groupby('age_group').transform(\"count\")[\"age\"]\n",
    "df_customers['pourcentage'] *= 100 / df_customers.shape[0]\n",
    "df_customers.head()"
   ]
  },
  {
   "cell_type": "code",
   "execution_count": 270,
   "metadata": {},
   "outputs": [
    {
     "data": {
      "text/html": [
       "<div>\n",
       "<style scoped>\n",
       "    .dataframe tbody tr th:only-of-type {\n",
       "        vertical-align: middle;\n",
       "    }\n",
       "\n",
       "    .dataframe tbody tr th {\n",
       "        vertical-align: top;\n",
       "    }\n",
       "\n",
       "    .dataframe thead th {\n",
       "        text-align: right;\n",
       "    }\n",
       "</style>\n",
       "<table border=\"1\" class=\"dataframe\">\n",
       "  <thead>\n",
       "    <tr style=\"text-align: right;\">\n",
       "      <th></th>\n",
       "      <th>client_id</th>\n",
       "      <th>sex</th>\n",
       "      <th>birth</th>\n",
       "      <th>age</th>\n",
       "      <th>age_group</th>\n",
       "      <th>pourcentage</th>\n",
       "    </tr>\n",
       "  </thead>\n",
       "  <tbody>\n",
       "    <tr>\n",
       "      <th>13</th>\n",
       "      <td>c_2998</td>\n",
       "      <td>m</td>\n",
       "      <td>2003</td>\n",
       "      <td>20</td>\n",
       "      <td>18-24</td>\n",
       "      <td>13.397518</td>\n",
       "    </tr>\n",
       "    <tr>\n",
       "      <th>5</th>\n",
       "      <td>c_415</td>\n",
       "      <td>m</td>\n",
       "      <td>1993</td>\n",
       "      <td>30</td>\n",
       "      <td>25-34</td>\n",
       "      <td>18.164946</td>\n",
       "    </tr>\n",
       "    <tr>\n",
       "      <th>2</th>\n",
       "      <td>c_1699</td>\n",
       "      <td>f</td>\n",
       "      <td>1984</td>\n",
       "      <td>39</td>\n",
       "      <td>35-44</td>\n",
       "      <td>20.647257</td>\n",
       "    </tr>\n",
       "    <tr>\n",
       "      <th>1</th>\n",
       "      <td>c_7839</td>\n",
       "      <td>f</td>\n",
       "      <td>1975</td>\n",
       "      <td>48</td>\n",
       "      <td>45-54</td>\n",
       "      <td>18.675328</td>\n",
       "    </tr>\n",
       "    <tr>\n",
       "      <th>0</th>\n",
       "      <td>c_4410</td>\n",
       "      <td>f</td>\n",
       "      <td>1967</td>\n",
       "      <td>56</td>\n",
       "      <td>55-64</td>\n",
       "      <td>14.313885</td>\n",
       "    </tr>\n",
       "    <tr>\n",
       "      <th>4</th>\n",
       "      <td>c_5320</td>\n",
       "      <td>m</td>\n",
       "      <td>1943</td>\n",
       "      <td>80</td>\n",
       "      <td>65+</td>\n",
       "      <td>14.801067</td>\n",
       "    </tr>\n",
       "  </tbody>\n",
       "</table>\n",
       "</div>"
      ],
      "text/plain": [
       "   client_id sex  birth  age age_group  pourcentage\n",
       "13    c_2998   m   2003   20     18-24    13.397518\n",
       "5      c_415   m   1993   30     25-34    18.164946\n",
       "2     c_1699   f   1984   39     35-44    20.647257\n",
       "1     c_7839   f   1975   48     45-54    18.675328\n",
       "0     c_4410   f   1967   56     55-64    14.313885\n",
       "4     c_5320   m   1943   80       65+    14.801067"
      ]
     },
     "execution_count": 270,
     "metadata": {},
     "output_type": "execute_result"
    }
   ],
   "source": [
    "df_ratio_per_age_group = df_customers.drop_duplicates(subset='age_group', keep='first').copy()\n",
    "# we use sort pour trier (this one is the second version from the previous copy dataframe)\n",
    "df_ratio_per_age_group.sort_values(by= ['age'], inplace = True)\n",
    "df_ratio_per_age_group"
   ]
  },
  {
   "cell_type": "code",
   "execution_count": 271,
   "metadata": {},
   "outputs": [
    {
     "data": {
      "image/png": "[encoded data removed]",
      "text/plain": [
       "<Figure size 720x360 with 1 Axes>"
      ]
     },
     "metadata": {},
     "output_type": "display_data"
    }
   ],
   "source": [
    "plt.rcParams['text.color']='black'\n",
    "fig, ax = plt.subplots()\n",
    "class_age = df_ratio_per_age_group['age_group']\n",
    "counts = df_ratio_per_age_group['pourcentage']\n",
    "bar_labels = df_ratio_per_age_group['age_group']\n",
    "bar_colors = ['tab:red', 'tab:blue', 'tab:green', 'tab:orange','tab:purple','tab:brown']\n",
    "\n",
    "ax.bar(class_age , counts.round(1), label=bar_labels, color=bar_colors)\n",
    "ax.set_ylabel('pourcentage')\n",
    "ax.set_title('nombre de clients en pourcentage par tranche d\\'age')\n",
    "ax.bar_label(ax.containers[0])\n",
    "plt.show()"
   ]
  },
  {
   "cell_type": "code",
   "execution_count": 136,
   "metadata": {},
   "outputs": [
    {
     "data": {
      "image/png": "[encoded data removed]",
      "text/plain": [
       "<Figure size 576x288 with 1 Axes>"
      ]
     },
     "metadata": {},
     "output_type": "display_data"
    }
   ],
   "source": [
    "plt.rcParams['text.color']='white'\n",
    "# Pie chart, where the slices will be ordered and plotted counter-clockwise:\n",
    "labels = df_ratio_per_age_group['age_group']\n",
    "sizes = df_ratio_per_age_group['pourcentage']\n",
    "explode = (0, 0, 0.1, 0, 0, 0)  # only \"explode\" the 2nd slice (i.e. 'Hogs')\n",
    "\n",
    "fig1, ax1 = plt.subplots()\n",
    "ax1.pie(sizes, explode=explode, labels=labels, autopct='%1.1f%%',\n",
    "        shadow=True, startangle=90)\n",
    "ax1.axis('equal')  # Equal aspect ratio ensures that pie is drawn as a circle.\n",
    "plt.title('nombre de clients en pourcentage par tranche d\\'age')\n",
    "plt.show()"
   ]
  },
  {
   "cell_type": "markdown",
   "metadata": {},
   "source": [
    "Donc la tranche d'âge 35-44 ans représente environ 21%. Ce sont nos plus grand clients.\n",
    "les 18-24 ans sont les moins représentés."
   ]
  },
  {
   "cell_type": "markdown",
   "metadata": {},
   "source": [
    "# Répartition du sexe par tranche d'age"
   ]
  },
  {
   "cell_type": "markdown",
   "metadata": {},
   "source": [
    "Je calcule le nombre de clients par tranche d'age et sexe, et le mets dans la colonne 'nb'. "
   ]
  },
  {
   "cell_type": "code",
   "execution_count": 415,
   "metadata": {},
   "outputs": [
    {
     "data": {
      "text/html": [
       "<div>\n",
       "<style scoped>\n",
       "    .dataframe tbody tr th:only-of-type {\n",
       "        vertical-align: middle;\n",
       "    }\n",
       "\n",
       "    .dataframe tbody tr th {\n",
       "        vertical-align: top;\n",
       "    }\n",
       "\n",
       "    .dataframe thead th {\n",
       "        text-align: right;\n",
       "    }\n",
       "</style>\n",
       "<table border=\"1\" class=\"dataframe\">\n",
       "  <thead>\n",
       "    <tr style=\"text-align: right;\">\n",
       "      <th></th>\n",
       "      <th>client_id</th>\n",
       "      <th>sex</th>\n",
       "      <th>birth</th>\n",
       "      <th>age</th>\n",
       "      <th>age_group</th>\n",
       "      <th>pourcentage</th>\n",
       "      <th>nb</th>\n",
       "    </tr>\n",
       "  </thead>\n",
       "  <tbody>\n",
       "    <tr>\n",
       "      <th>0</th>\n",
       "      <td>c_4410</td>\n",
       "      <td>f</td>\n",
       "      <td>1967</td>\n",
       "      <td>56</td>\n",
       "      <td>55-64</td>\n",
       "      <td>14.313885</td>\n",
       "      <td>629</td>\n",
       "    </tr>\n",
       "    <tr>\n",
       "      <th>1</th>\n",
       "      <td>c_7839</td>\n",
       "      <td>f</td>\n",
       "      <td>1975</td>\n",
       "      <td>48</td>\n",
       "      <td>45-54</td>\n",
       "      <td>18.675328</td>\n",
       "      <td>856</td>\n",
       "    </tr>\n",
       "    <tr>\n",
       "      <th>2</th>\n",
       "      <td>c_1699</td>\n",
       "      <td>f</td>\n",
       "      <td>1984</td>\n",
       "      <td>39</td>\n",
       "      <td>35-44</td>\n",
       "      <td>20.647257</td>\n",
       "      <td>921</td>\n",
       "    </tr>\n",
       "    <tr>\n",
       "      <th>4</th>\n",
       "      <td>c_5320</td>\n",
       "      <td>m</td>\n",
       "      <td>1943</td>\n",
       "      <td>80</td>\n",
       "      <td>65+</td>\n",
       "      <td>14.801067</td>\n",
       "      <td>588</td>\n",
       "    </tr>\n",
       "    <tr>\n",
       "      <th>5</th>\n",
       "      <td>c_415</td>\n",
       "      <td>m</td>\n",
       "      <td>1993</td>\n",
       "      <td>30</td>\n",
       "      <td>25-34</td>\n",
       "      <td>18.164946</td>\n",
       "      <td>761</td>\n",
       "    </tr>\n",
       "  </tbody>\n",
       "</table>\n",
       "</div>"
      ],
      "text/plain": [
       "  client_id sex  birth  age age_group  pourcentage   nb\n",
       "0    c_4410   f   1967   56     55-64    14.313885  629\n",
       "1    c_7839   f   1975   48     45-54    18.675328  856\n",
       "2    c_1699   f   1984   39     35-44    20.647257  921\n",
       "4    c_5320   m   1943   80       65+    14.801067  588\n",
       "5     c_415   m   1993   30     25-34    18.164946  761"
      ]
     },
     "execution_count": 415,
     "metadata": {},
     "output_type": "execute_result"
    }
   ],
   "source": [
    "nombreclients = df_customers.copy()\n",
    "nombreclients['nb'] = nombreclients.groupby(['age_group', 'sex'])['pourcentage'].transform('count')\n",
    "nombreclients.drop_duplicates(subset=['age_group', 'sex'],inplace=True)\n",
    "nombreclients.head()"
   ]
  },
  {
   "cell_type": "markdown",
   "metadata": {},
   "source": [
    "Je sépare les dataframes par genre des clients."
   ]
  },
  {
   "cell_type": "code",
   "execution_count": 418,
   "metadata": {},
   "outputs": [],
   "source": [
    "# we use sort pour trier\n",
    "nombreclients.sort_values(by= ['age'], inplace = True)\n",
    "#extract only for men\n",
    "nombreclientsm = nombreclients.loc[nombreclients[\"sex\"]=='m',:]\n",
    "#extract only for women\n",
    "nombreclientsf = nombreclients.loc[nombreclients[\"sex\"]=='f',:]"
   ]
  },
  {
   "cell_type": "code",
   "execution_count": 353,
   "metadata": {},
   "outputs": [
    {
     "data": {
      "image/png": "[encoded data removed]",
      "text/plain": [
       "<Figure size 576x288 with 1 Axes>"
      ]
     },
     "metadata": {
      "needs_background": "light"
     },
     "output_type": "display_data"
    }
   ],
   "source": [
    "plt.rcParams['text.color']='black'\n",
    "labels = nombreclientsf['age_group']\n",
    "mennombre = nombreclientsm['nb']\n",
    "womennombre = nombreclientsf['nb']\n",
    "\n",
    "x = np.arange(len(labels))  # the label locations\n",
    "width = 0.35  # the width of the bars\n",
    "\n",
    "fig, ax = plt.subplots()\n",
    "rects1 = ax.bar(x - width/2, mennombre, width, label='Men')\n",
    "rects2 = ax.bar(x + width/2, womennombre, width, label='Women')\n",
    "\n",
    "# Add some text for labels, title and custom x-axis tick labels, etc.\n",
    "ax.set_ylabel('nombre de clients')\n",
    "ax.set_title('nombre de clients par tranche d\\'age et genre')\n",
    "ax.set_xticks(x, labels)\n",
    "ax.legend()\n",
    "\n",
    "ax.bar_label(rects1, padding=2)\n",
    "ax.bar_label(rects2, padding=2)\n",
    "\n",
    "fig.tight_layout()\n",
    "plt.show()"
   ]
  },
  {
   "cell_type": "markdown",
   "metadata": {},
   "source": [
    "la tranche d'âge de 35-44 ans est la plus importante, Suivi de la tranche des 45-54 puis des 25-34.\n",
    "On voit que globalement les femmes sont plus nombreuses que les hommes dans chaque tranche."
   ]
  },
  {
   "cell_type": "markdown",
   "metadata": {},
   "source": [
    "# Répartition du CA par sexe"
   ]
  },
  {
   "cell_type": "markdown",
   "metadata": {},
   "source": [
    "Je prépare les données par sexe."
   ]
  },
  {
   "cell_type": "code",
   "execution_count": 272,
   "metadata": {},
   "outputs": [
    {
     "data": {
      "text/html": [
       "<div>\n",
       "<style scoped>\n",
       "    .dataframe tbody tr th:only-of-type {\n",
       "        vertical-align: middle;\n",
       "    }\n",
       "\n",
       "    .dataframe tbody tr th {\n",
       "        vertical-align: top;\n",
       "    }\n",
       "\n",
       "    .dataframe thead th {\n",
       "        text-align: right;\n",
       "    }\n",
       "</style>\n",
       "<table border=\"1\" class=\"dataframe\">\n",
       "  <thead>\n",
       "    <tr style=\"text-align: right;\">\n",
       "      <th></th>\n",
       "      <th>sex</th>\n",
       "      <th>client_id</th>\n",
       "      <th>birth</th>\n",
       "    </tr>\n",
       "  </thead>\n",
       "  <tbody>\n",
       "    <tr>\n",
       "      <th>0</th>\n",
       "      <td>f</td>\n",
       "      <td>4490</td>\n",
       "      <td>4490</td>\n",
       "    </tr>\n",
       "    <tr>\n",
       "      <th>1</th>\n",
       "      <td>m</td>\n",
       "      <td>4131</td>\n",
       "      <td>4131</td>\n",
       "    </tr>\n",
       "  </tbody>\n",
       "</table>\n",
       "</div>"
      ],
      "text/plain": [
       "  sex  client_id  birth\n",
       "0   f       4490   4490\n",
       "1   m       4131   4131"
      ]
     },
     "execution_count": 272,
     "metadata": {},
     "output_type": "execute_result"
    }
   ],
   "source": [
    "#nombre de clients par sexe\n",
    "df_customers3"
   ]
  },
  {
   "cell_type": "code",
   "execution_count": 274,
   "metadata": {},
   "outputs": [
    {
     "data": {
      "text/html": [
       "<div>\n",
       "<style scoped>\n",
       "    .dataframe tbody tr th:only-of-type {\n",
       "        vertical-align: middle;\n",
       "    }\n",
       "\n",
       "    .dataframe tbody tr th {\n",
       "        vertical-align: top;\n",
       "    }\n",
       "\n",
       "    .dataframe thead th {\n",
       "        text-align: right;\n",
       "    }\n",
       "</style>\n",
       "<table border=\"1\" class=\"dataframe\">\n",
       "  <thead>\n",
       "    <tr style=\"text-align: right;\">\n",
       "      <th></th>\n",
       "      <th>sex</th>\n",
       "      <th>price</th>\n",
       "    </tr>\n",
       "  </thead>\n",
       "  <tbody>\n",
       "    <tr>\n",
       "      <th>0</th>\n",
       "      <td>f</td>\n",
       "      <td>338285</td>\n",
       "    </tr>\n",
       "    <tr>\n",
       "      <th>1</th>\n",
       "      <td>m</td>\n",
       "      <td>340826</td>\n",
       "    </tr>\n",
       "  </tbody>\n",
       "</table>\n",
       "</div>"
      ],
      "text/plain": [
       "  sex   price\n",
       "0   f  338285\n",
       "1   m  340826"
      ]
     },
     "execution_count": 274,
     "metadata": {},
     "output_type": "execute_result"
    }
   ],
   "source": [
    "# nombre de ventes par sexe\n",
    "df1=troisfichier.copy()\n",
    "df1 = df1.groupby(['sex']).price.count().reset_index()\n",
    "df1"
   ]
  },
  {
   "cell_type": "code",
   "execution_count": 275,
   "metadata": {},
   "outputs": [
    {
     "data": {
      "text/html": [
       "<div>\n",
       "<style scoped>\n",
       "    .dataframe tbody tr th:only-of-type {\n",
       "        vertical-align: middle;\n",
       "    }\n",
       "\n",
       "    .dataframe tbody tr th {\n",
       "        vertical-align: top;\n",
       "    }\n",
       "\n",
       "    .dataframe thead th {\n",
       "        text-align: right;\n",
       "    }\n",
       "</style>\n",
       "<table border=\"1\" class=\"dataframe\">\n",
       "  <thead>\n",
       "    <tr style=\"text-align: right;\">\n",
       "      <th></th>\n",
       "      <th>sex</th>\n",
       "      <th>price</th>\n",
       "    </tr>\n",
       "  </thead>\n",
       "  <tbody>\n",
       "    <tr>\n",
       "      <th>0</th>\n",
       "      <td>f</td>\n",
       "      <td>5859683.13</td>\n",
       "    </tr>\n",
       "    <tr>\n",
       "      <th>1</th>\n",
       "      <td>m</td>\n",
       "      <td>5994045.55</td>\n",
       "    </tr>\n",
       "  </tbody>\n",
       "</table>\n",
       "</div>"
      ],
      "text/plain": [
       "  sex       price\n",
       "0   f  5859683.13\n",
       "1   m  5994045.55"
      ]
     },
     "execution_count": 275,
     "metadata": {},
     "output_type": "execute_result"
    }
   ],
   "source": [
    "# CA par sexe\n",
    "tf1=troisfichier.copy()\n",
    "tf1= tf1.groupby(['sex']).agg({'price':'sum'}).reset_index()\n",
    "tf1"
   ]
  },
  {
   "cell_type": "code",
   "execution_count": 276,
   "metadata": {},
   "outputs": [
    {
     "data": {
      "image/png": "[encoded data removed]",
      "text/plain": [
       "<Figure size 864x432 with 3 Axes>"
      ]
     },
     "metadata": {},
     "output_type": "display_data"
    }
   ],
   "source": [
    "plt.rcParams['text.color']='black'\n",
    "# Pie chart, where the slices will be ordered and plotted counter-clockwise:\n",
    "labels = 'Female', 'Male'\n",
    "sizes = df_customers3['birth'].values * 100\n",
    "sizes1 = tf1['price']\n",
    "sizes2 = df1['price'].values * 100\n",
    "explode = (0, 0.01)  # 塊狀之間的間距\n",
    "\n",
    "\n",
    "fig1 = plt.figure(facecolor='white',figsize=(12,6))\n",
    "ax1 = plt.subplot(1,3,1)\n",
    "ax1.set_title(\"Nombre de clients par sexe\")\n",
    "ax1.pie(sizes, explode=explode, labels=labels, autopct='%1.1f%%',\n",
    "        shadow=False, startangle=90,colors = ['lightsalmon', 'yellowgreen'])\n",
    "ax1.axis('equal')  # Equal aspect ratio ensures that pie is drawn as a circle.\n",
    "ax1.legend(labels)\n",
    "\n",
    "ax1=plt.subplot(1,3,2)\n",
    "ax1.set_title(\"CA par sexe\")\n",
    "ax1.pie(sizes1, explode=explode,labels=labels,\n",
    "        shadow=False, startangle=90, autopct='%1.1f%%',colors = ['lightsalmon', 'yellowgreen'])\n",
    "ax1.axis('equal')\n",
    "ax1.legend(labels)\n",
    "\n",
    "ax1=plt.subplot(1,3,3)\n",
    "ax1.set_title(\"Nombre ventes par sexe\")\n",
    "ax1.pie(sizes2, explode=explode,startangle=90,labels=labels,autopct='%1.1f%%',colors = ['lightsalmon', 'yellowgreen'])\n",
    "ax1.axis('equal')\n",
    "ax1.legend(labels)\n",
    "plt.tight_layout()\n",
    "plt.show()"
   ]
  },
  {
   "cell_type": "markdown",
   "metadata": {},
   "source": [
    "Si on regarde le nombre de clients par sexe, les femmes sont un peu plus nombreuses que les hommes, mais la part de CA et le nombre d'achats sont équilibrées entre les deux sexes."
   ]
  },
  {
   "cell_type": "markdown",
   "metadata": {},
   "source": [
    "# Répartition du chiffre d'affaire par tranche d'âge et le genre"
   ]
  },
  {
   "cell_type": "markdown",
   "metadata": {},
   "source": [
    "Je calcule le CA par tranche d'âge et le genre"
   ]
  },
  {
   "cell_type": "code",
   "execution_count": 71,
   "metadata": {},
   "outputs": [
    {
     "data": {
      "text/html": [
       "<div>\n",
       "<style scoped>\n",
       "    .dataframe tbody tr th:only-of-type {\n",
       "        vertical-align: middle;\n",
       "    }\n",
       "\n",
       "    .dataframe tbody tr th {\n",
       "        vertical-align: top;\n",
       "    }\n",
       "\n",
       "    .dataframe thead th {\n",
       "        text-align: right;\n",
       "    }\n",
       "</style>\n",
       "<table border=\"1\" class=\"dataframe\">\n",
       "  <thead>\n",
       "    <tr style=\"text-align: right;\">\n",
       "      <th></th>\n",
       "      <th>age_group</th>\n",
       "      <th>sex</th>\n",
       "      <th>CA</th>\n",
       "    </tr>\n",
       "  </thead>\n",
       "  <tbody>\n",
       "    <tr>\n",
       "      <th>0</th>\n",
       "      <td>18-24</td>\n",
       "      <td>f</td>\n",
       "      <td>769075.43</td>\n",
       "    </tr>\n",
       "    <tr>\n",
       "      <th>1</th>\n",
       "      <td>18-24</td>\n",
       "      <td>m</td>\n",
       "      <td>1035314.61</td>\n",
       "    </tr>\n",
       "    <tr>\n",
       "      <th>2</th>\n",
       "      <td>25-34</td>\n",
       "      <td>f</td>\n",
       "      <td>1113708.80</td>\n",
       "    </tr>\n",
       "    <tr>\n",
       "      <th>3</th>\n",
       "      <td>25-34</td>\n",
       "      <td>m</td>\n",
       "      <td>1055365.95</td>\n",
       "    </tr>\n",
       "    <tr>\n",
       "      <th>4</th>\n",
       "      <td>35-44</td>\n",
       "      <td>f</td>\n",
       "      <td>1429417.53</td>\n",
       "    </tr>\n",
       "  </tbody>\n",
       "</table>\n",
       "</div>"
      ],
      "text/plain": [
       "  age_group sex          CA\n",
       "0     18-24   f   769075.43\n",
       "1     18-24   m  1035314.61\n",
       "2     25-34   f  1113708.80\n",
       "3     25-34   m  1055365.95\n",
       "4     35-44   f  1429417.53"
      ]
     },
     "execution_count": 71,
     "metadata": {},
     "output_type": "execute_result"
    }
   ],
   "source": [
    "ca_age= tf1.groupby(['age_group','sex'],as_index = False).agg({'price':'sum'}).rename(columns={'price':'CA'})\n",
    "ca_age.head()"
   ]
  },
  {
   "cell_type": "code",
   "execution_count": 72,
   "metadata": {},
   "outputs": [
    {
     "data": {
      "text/html": [
       "<div>\n",
       "<style scoped>\n",
       "    .dataframe tbody tr th:only-of-type {\n",
       "        vertical-align: middle;\n",
       "    }\n",
       "\n",
       "    .dataframe tbody tr th {\n",
       "        vertical-align: top;\n",
       "    }\n",
       "\n",
       "    .dataframe thead th {\n",
       "        text-align: right;\n",
       "    }\n",
       "</style>\n",
       "<table border=\"1\" class=\"dataframe\">\n",
       "  <thead>\n",
       "    <tr style=\"text-align: right;\">\n",
       "      <th></th>\n",
       "      <th>age_group</th>\n",
       "      <th>sex</th>\n",
       "      <th>CA</th>\n",
       "      <th>pourcentage</th>\n",
       "    </tr>\n",
       "  </thead>\n",
       "  <tbody>\n",
       "    <tr>\n",
       "      <th>0</th>\n",
       "      <td>18-24</td>\n",
       "      <td>f</td>\n",
       "      <td>769075.43</td>\n",
       "      <td>6.488047</td>\n",
       "    </tr>\n",
       "    <tr>\n",
       "      <th>1</th>\n",
       "      <td>18-24</td>\n",
       "      <td>m</td>\n",
       "      <td>1035314.61</td>\n",
       "      <td>8.734084</td>\n",
       "    </tr>\n",
       "    <tr>\n",
       "      <th>2</th>\n",
       "      <td>25-34</td>\n",
       "      <td>f</td>\n",
       "      <td>1113708.80</td>\n",
       "      <td>9.395430</td>\n",
       "    </tr>\n",
       "    <tr>\n",
       "      <th>3</th>\n",
       "      <td>25-34</td>\n",
       "      <td>m</td>\n",
       "      <td>1055365.95</td>\n",
       "      <td>8.903240</td>\n",
       "    </tr>\n",
       "    <tr>\n",
       "      <th>4</th>\n",
       "      <td>35-44</td>\n",
       "      <td>f</td>\n",
       "      <td>1429417.53</td>\n",
       "      <td>12.058801</td>\n",
       "    </tr>\n",
       "  </tbody>\n",
       "</table>\n",
       "</div>"
      ],
      "text/plain": [
       "  age_group sex          CA  pourcentage\n",
       "0     18-24   f   769075.43     6.488047\n",
       "1     18-24   m  1035314.61     8.734084\n",
       "2     25-34   f  1113708.80     9.395430\n",
       "3     25-34   m  1055365.95     8.903240\n",
       "4     35-44   f  1429417.53    12.058801"
      ]
     },
     "execution_count": 72,
     "metadata": {},
     "output_type": "execute_result"
    }
   ],
   "source": [
    "# faire le ratio du CA\n",
    "ca_age['pourcentage']= ca_age['CA']*100 / ca_age['CA'].sum()\n",
    "ca_age.head()"
   ]
  },
  {
   "cell_type": "markdown",
   "metadata": {},
   "source": [
    "Je sépare en deux dataframes pour chaque genre."
   ]
  },
  {
   "cell_type": "code",
   "execution_count": 73,
   "metadata": {},
   "outputs": [
    {
     "data": {
      "text/html": [
       "<div>\n",
       "<style scoped>\n",
       "    .dataframe tbody tr th:only-of-type {\n",
       "        vertical-align: middle;\n",
       "    }\n",
       "\n",
       "    .dataframe tbody tr th {\n",
       "        vertical-align: top;\n",
       "    }\n",
       "\n",
       "    .dataframe thead th {\n",
       "        text-align: right;\n",
       "    }\n",
       "</style>\n",
       "<table border=\"1\" class=\"dataframe\">\n",
       "  <thead>\n",
       "    <tr style=\"text-align: right;\">\n",
       "      <th></th>\n",
       "      <th>age_group</th>\n",
       "      <th>sex</th>\n",
       "      <th>CA</th>\n",
       "      <th>pourcentage</th>\n",
       "    </tr>\n",
       "  </thead>\n",
       "  <tbody>\n",
       "    <tr>\n",
       "      <th>0</th>\n",
       "      <td>18-24</td>\n",
       "      <td>f</td>\n",
       "      <td>769075.43</td>\n",
       "      <td>6.488047</td>\n",
       "    </tr>\n",
       "    <tr>\n",
       "      <th>2</th>\n",
       "      <td>25-34</td>\n",
       "      <td>f</td>\n",
       "      <td>1113708.80</td>\n",
       "      <td>9.395430</td>\n",
       "    </tr>\n",
       "    <tr>\n",
       "      <th>4</th>\n",
       "      <td>35-44</td>\n",
       "      <td>f</td>\n",
       "      <td>1429417.53</td>\n",
       "      <td>12.058801</td>\n",
       "    </tr>\n",
       "    <tr>\n",
       "      <th>6</th>\n",
       "      <td>45-54</td>\n",
       "      <td>f</td>\n",
       "      <td>1176592.43</td>\n",
       "      <td>9.925927</td>\n",
       "    </tr>\n",
       "    <tr>\n",
       "      <th>8</th>\n",
       "      <td>55-64</td>\n",
       "      <td>f</td>\n",
       "      <td>741902.20</td>\n",
       "      <td>6.258809</td>\n",
       "    </tr>\n",
       "  </tbody>\n",
       "</table>\n",
       "</div>"
      ],
      "text/plain": [
       "  age_group sex          CA  pourcentage\n",
       "0     18-24   f   769075.43     6.488047\n",
       "2     25-34   f  1113708.80     9.395430\n",
       "4     35-44   f  1429417.53    12.058801\n",
       "6     45-54   f  1176592.43     9.925927\n",
       "8     55-64   f   741902.20     6.258809"
      ]
     },
     "execution_count": 73,
     "metadata": {},
     "output_type": "execute_result"
    }
   ],
   "source": [
    "#extract only for men\n",
    "ca_m = ca_age.loc[ca_age[\"sex\"]=='m',:]\n",
    "#extract only for women\n",
    "ca_f = ca_age.loc[ca_age[\"sex\"]=='f',:]\n",
    "ca_f.head()"
   ]
  },
  {
   "cell_type": "code",
   "execution_count": 74,
   "metadata": {},
   "outputs": [
    {
     "data": {
      "image/png": "[encoded data removed]",
      "text/plain": [
       "<Figure size 914.4x595.44 with 1 Axes>"
      ]
     },
     "metadata": {},
     "output_type": "display_data"
    }
   ],
   "source": [
    "plt.rcParams['text.color']='black'\n",
    "labels = ca_f['age_group']\n",
    "men = ca_m['pourcentage']\n",
    "women = ca_f['pourcentage']\n",
    "\n",
    "x = np.arange(len(labels))  # the label locations\n",
    "width = 0.35  # the width of the bars\n",
    "\n",
    "fig, ax = plt.subplots()\n",
    "rects1 = ax.bar(x - width/2, men.round(1), width, label='Men')\n",
    "rects2 = ax.bar(x + width/2, women.round(1), width, label='Women')\n",
    "\n",
    "# Add some text for labels, title and custom x-axis tick labels, etc.\n",
    "ax.set_ylabel('CA en pourcentage')\n",
    "ax.set_title('Part du CA en pourcentage par tranche d\\'age et genre')\n",
    "ax.set_xticks(x, labels)\n",
    "ax.legend()\n",
    "\n",
    "ax.bar_label(rects1, padding=2)\n",
    "ax.bar_label(rects2, padding=2)\n",
    "\n",
    "fig.tight_layout()\n",
    "\n",
    "plt.show()"
   ]
  },
  {
   "cell_type": "markdown",
   "metadata": {},
   "source": [
    "La tranche d' âge ddes 35-44 est celle qui participe le plus au CA, suivi des 45-54 et des 25-34. \n",
    "On remarque que chez les hommes, la part des 18-24 est aussi importante."
   ]
  },
  {
   "cell_type": "markdown",
   "metadata": {},
   "source": [
    "# Répartition du CA par client\n",
    "### Courbe de lorenz"
   ]
  },
  {
   "cell_type": "markdown",
   "metadata": {},
   "source": [
    "#### Qu'est-ce que la courbe de Lorenz?\n",
    "*La courbe de Lorenz est une représentation graphique permettant de visualiser la distribution d'une variable au sein d'une population.\n",
    "Ici, la courbe de Lorenz va etre  utilisée pour représenter la répartition du CA au sein de la population des clients (customers).\n",
    "Cette population va etre découpée en dix fractiles. On parle de 'décile' de population. Le premier décile représente les 10 % de la population qui represente la part la plus modeste du CA, le second décile les 20 %  representant la part la plus modestes, etc*\n"
   ]
  },
  {
   "cell_type": "markdown",
   "metadata": {},
   "source": [
    "Pour dessiner la courbe de Lorenz, je calcule d'abord la part de CA que represente chaque client."
   ]
  },
  {
   "cell_type": "code",
   "execution_count": 401,
   "metadata": {},
   "outputs": [
    {
     "data": {
      "text/html": [
       "<div>\n",
       "<style scoped>\n",
       "    .dataframe tbody tr th:only-of-type {\n",
       "        vertical-align: middle;\n",
       "    }\n",
       "\n",
       "    .dataframe tbody tr th {\n",
       "        vertical-align: top;\n",
       "    }\n",
       "\n",
       "    .dataframe thead th {\n",
       "        text-align: right;\n",
       "    }\n",
       "</style>\n",
       "<table border=\"1\" class=\"dataframe\">\n",
       "  <thead>\n",
       "    <tr style=\"text-align: right;\">\n",
       "      <th></th>\n",
       "      <th>client_id</th>\n",
       "      <th>CA</th>\n",
       "    </tr>\n",
       "  </thead>\n",
       "  <tbody>\n",
       "    <tr>\n",
       "      <th>0</th>\n",
       "      <td>c_1</td>\n",
       "      <td>558.18</td>\n",
       "    </tr>\n",
       "    <tr>\n",
       "      <th>1</th>\n",
       "      <td>c_10</td>\n",
       "      <td>1353.60</td>\n",
       "    </tr>\n",
       "    <tr>\n",
       "      <th>2</th>\n",
       "      <td>c_100</td>\n",
       "      <td>254.85</td>\n",
       "    </tr>\n",
       "    <tr>\n",
       "      <th>3</th>\n",
       "      <td>c_1000</td>\n",
       "      <td>2261.89</td>\n",
       "    </tr>\n",
       "    <tr>\n",
       "      <th>4</th>\n",
       "      <td>c_1001</td>\n",
       "      <td>1812.86</td>\n",
       "    </tr>\n",
       "  </tbody>\n",
       "</table>\n",
       "</div>"
      ],
      "text/plain": [
       "  client_id       CA\n",
       "0       c_1   558.18\n",
       "1      c_10  1353.60\n",
       "2     c_100   254.85\n",
       "3    c_1000  2261.89\n",
       "4    c_1001  1812.86"
      ]
     },
     "execution_count": 401,
     "metadata": {},
     "output_type": "execute_result"
    }
   ],
   "source": [
    "#這樣就出現每個客戶的CA (pour courbe de lorenz)\n",
    "caclient=tf1.groupby(['client_id']).price.agg('sum').reset_index(name='CA')\n",
    "caclient.head()"
   ]
  },
  {
   "cell_type": "code",
   "execution_count": 409,
   "metadata": {},
   "outputs": [
    {
     "data": {
      "image/png": "[encoded data removed]",
      "text/plain": [
       "<Figure size 576x288 with 1 Axes>"
      ]
     },
     "metadata": {
      "needs_background": "light"
     },
     "output_type": "display_data"
    }
   ],
   "source": [
    "dep = caclient.CA.values\n",
    "n = len(dep)\n",
    "lorenz = np.cumsum(np.sort(dep)) / dep.sum()\n",
    "#lorenz = np.append([0],lorenz) # La courbe de Lorenz commence à 0\n",
    "\n",
    "xaxis = np.linspace(0-1/n,1+1/n,n) #Il y a un segment de taille n pour chaque individu, plus 1 segment supplémentaire d'ordonnée 0. Le premier segment commence à 0-1/n, et le dernier termine à 1+1/n.\n",
    "ax =plt.plot(xaxis,lorenz,drawstyle='steps-post')\n",
    "plt.axvline(0.8, color='r')\n",
    "plt.axhline(0.51, color='r')\n",
    "plt.show()"
   ]
  },
  {
   "cell_type": "markdown",
   "metadata": {},
   "source": [
    "Ici, on a ajoute les lignes rouges qui se croisent pour faciliter l'analyse. Cela signifie que les 80% des clients representants la part la plus modeste du CA ne possedent que 50% du CA total. Donc inversement, les 20% des meilleurs clients participe a presque 50% du CA.\n",
    "\n",
    "L'indice Gini permet de decrire le niveau d'egalite de la repartition du CA par clients. Si il est de 0, cela veux dire que la repartition parfaitement egale (et donc forme une bissectice). Plus le Gini se rapproche de 1, plus la repartition est inegalitaire."
   ]
  },
  {
   "cell_type": "code",
   "execution_count": 404,
   "metadata": {},
   "outputs": [
    {
     "data": {
      "text/plain": [
       "0.4463865414359123"
      ]
     },
     "execution_count": 404,
     "metadata": {},
     "output_type": "execute_result"
    }
   ],
   "source": [
    "AUC = (lorenz.sum() -lorenz[-1]/2 -lorenz[0]/2)/n # Surface sous la courbe de Lorenz. Le premier segment (lorenz[0]) est à moitié en dessous de 0, on le coupe donc en 2, on fait de même pour le dernier segment lorenz[-1] qui est à moitié au dessus de 1.\n",
    "S = 0.5 - AUC # surface entre la première bissectrice et le courbe de Lorenz\n",
    "gini = 2*S\n",
    "gini"
   ]
  },
  {
   "cell_type": "markdown",
   "metadata": {},
   "source": [
    "Le Gini ici est de 0.45, ce qui montre une asssez forte inegalite.\n",
    "En effet, en regardant la courbe de Lorenz on voit que :\n",
    "1.\tLes 20% des meilleurs clients participent pour un peu moins de 50% du CA \n",
    "2.\tLes 10% des meilleurs clients participent pour environs 25% du CA\n",
    "3.\tMais seulement 20 % du CA est apporté par 50 % clients .\n"
   ]
  },
  {
   "cell_type": "markdown",
   "metadata": {},
   "source": [
    "# Répartition des ages par genre et catégorie"
   ]
  },
  {
   "cell_type": "code",
   "execution_count": 429,
   "metadata": {},
   "outputs": [
    {
     "data": {
      "image/png": "[encoded data removed]",
      "text/plain": [
       "<Figure size 698.4x451.44 with 1 Axes>"
      ]
     },
     "metadata": {},
     "output_type": "display_data"
    }
   ],
   "source": [
    "# libraries & dataset\n",
    "import seaborn as sns\n",
    "import matplotlib.pyplot as plt\n",
    "\n",
    "# set a grey background (use sns.set_theme() if seaborn version 0.11.0 or above) \n",
    "sns.set(style=\"darkgrid\")\n",
    "sns.set(rc={'figure.figsize':(9.7,6.27)})\n",
    "\n",
    "sns.boxplot(x=tf1[\"sex\"], y=tf1[\"age\"],hue=tf1[\"categ\"])\n",
    "plt.show()"
   ]
  },
  {
   "cell_type": "markdown",
   "metadata": {},
   "source": [
    "On voit que le genre n' influe pas beaucoup sur le choix des catégories de livres.\n",
    "Cependant, la catégorie du livre achetée sans être avoir un lien avec l'âge.\n",
    "Particulièrement, un phénomène intéressant est que la catégorie 2 des livres est plus apprécie par les jeunes de 20 à 30 ans. "
   ]
  }
 ],
 "metadata": {
  "kernelspec": {
   "display_name": "Python 3.9.12 ('base')",
   "language": "python",
   "name": "python3"
  },
  "language_info": {
   "codemirror_mode": {
    "name": "ipython",
    "version": 3
   },
   "file_extension": ".py",
   "mimetype": "text/x-python",
   "name": "python",
   "nbconvert_exporter": "python",
   "pygments_lexer": "ipython3",
   "version": "3.9.12"
  },
  "orig_nbformat": 4,
  "vscode": {
   "interpreter": {
    "hash": "d7dda7c54a232f88660cb0d49e4118d35f81f6f59937d41a85f4eafe1d086155"
   }
  }
 },
 "nbformat": 4,
 "nbformat_minor": 2
}
